{
 "metadata": {
  "kernelspec": {
   "display_name": "Streamlit Notebook",
   "name": "streamlit"
  }
 },
 "nbformat_minor": 5,
 "nbformat": 4,
 "cells": [
  {
   "cell_type": "markdown",
   "id": "b3f02aa3-4268-4053-9e77-5949f44affaf",
   "metadata": {
    "name": "cell8",
    "collapsed": false
   },
   "source": "# A Snowpark Workflow for Linear Mixed Effects\n\nUsing a car auction dataset we will determine the effect of mileage on price \n\n## You will learn in Snowflake/Snowpark Python\n- how to train and score a model using statsmodel (comparable to R LME4)\n- how to register that model\n"
  },
  {
   "cell_type": "code",
   "id": "3775908f-ca36-4846-8f38-5adca39217f2",
   "metadata": {
    "language": "python",
    "name": "cell1",
    "collapsed": false
   },
   "source": "#import necessary packages --- needs statmodels and snowflake-ml-python 1.5.0 (select it in the upper right packages list)\nimport numpy as np\nimport pandas as pd\nimport matplotlib.pyplot as plt\nfrom sklearn.model_selection import train_test_split\nfrom sklearn.preprocessing import MinMaxScaler\n\nimport statsmodels.api as sm\nimport statsmodels.formula.api as smf\n",
   "execution_count": null,
   "outputs": []
  },
  {
   "cell_type": "markdown",
   "id": "4ab25a64-b84b-4521-995d-5595a9b3e2ca",
   "metadata": {
    "name": "cell16",
    "collapsed": false
   },
   "source": "## Note: Comparing R lmer to statsmodels MixedLM\nThe statsmodels implementation of linear mixed models (MixedLM) closely follows the approach outlined in Lindstrom and Bates (JASA 1988). This is also the approach followed in the R package LME4. Other packages such as Stata, SAS, etc. should also be consistent with this approach, as the basic techniques in this area are mostly mature.\n\n[This site](https://www.statsmodels.org/stable/examples/notebooks/generated/mixed_lm_example.html) shows how linear mixed models can be fit using the MixedLM procedure in statsmodels with results from R (LME4) included for comparison.\n"
  },
  {
   "cell_type": "code",
   "id": "a130a731-de0d-4eb1-aa34-4b61df78e4e5",
   "metadata": {
    "language": "python",
    "name": "cell3",
    "collapsed": false
   },
   "outputs": [],
   "source": "#snowflake libs\nfrom snowflake.ml.registry import Registry\nfrom snowflake.snowpark.session import Session\nfrom snowflake.snowpark.context import get_active_session\nsession = get_active_session()\n\nsource_table_name = \"LAB_DATA.PUBLIC.CARS_5000\"\nclean_table_name = \"LAB_DATA.PUBLIC.CARS_CLEANED_ALL_COLUMNS\"\n\nMY_NAME='MY_NAME' ##!!!CHANGE THIS TO YOUR NAME!!!\nsession.sql(\"create schema if not exists \"+MY_NAME+\";\").collect()\nsession.use_schema(MY_NAME)\n\nprint(session.get_current_database())\nprint(session.get_current_schema())\nprint(session.get_current_role())",
   "execution_count": null
  },
  {
   "cell_type": "code",
   "id": "3448af86-93eb-48a3-9fd5-681cb4badd5a",
   "metadata": {
    "language": "python",
    "name": "cell19",
    "collapsed": false
   },
   "outputs": [],
   "source": "#familiar python code running on Scalable Snowflake architecture and leveraging a bit of Snowpark to collect data\npd_df_raw = session.table(source_table_name).to_pandas()\npd_df_cleaned = session.table(clean_table_name).to_pandas()\npd_df_cleaned.describe()",
   "execution_count": null
  },
  {
   "cell_type": "code",
   "id": "f9c9d87c-ecb1-4f63-83c4-f9367b8b5a8b",
   "metadata": {
    "language": "python",
    "name": "cell5",
    "collapsed": false
   },
   "outputs": [],
   "source": "plt.hist(pd_df_raw['PRICE'], bins=20, edgecolor='grey')\n# Rotate x labels\nplt.xticks(rotation=45)\n# Show the plot\nplt.tight_layout() \n# Add titles and labels\nplt.title('Histogram of Price')\nplt.xlabel('Price')\nplt.ylabel('Frequency')\n\n# Show the plot\nplt.show()",
   "execution_count": null
  },
  {
   "cell_type": "code",
   "id": "f2de9162-e726-4a3e-919e-2721bf9ebe81",
   "metadata": {
    "language": "python",
    "name": "cell14",
    "collapsed": false
   },
   "outputs": [],
   "source": "plt.hist(pd_df_raw['MILEAGE'], bins=20, edgecolor='grey')\n# Rotate x labels\nplt.xticks(rotation=45)\n# Show the plot\nplt.tight_layout() \n# Add titles and labels\nplt.title('Histogram of Mileage')\nplt.xlabel('MILEAGE')\nplt.ylabel('Frequency')\n\n# Show the plot\nplt.show()",
   "execution_count": null
  },
  {
   "cell_type": "code",
   "id": "80a3d623-9a02-4f00-acf0-53aac30ca8b4",
   "metadata": {
    "language": "python",
    "name": "cell18",
    "collapsed": false
   },
   "outputs": [],
   "source": "scaler = MinMaxScaler()\n# Fit and transform the mileage column\npd_df_raw['MILEAGE_SCALED'] = scaler.fit_transform(pd_df_raw[['MILEAGE']])\n\n",
   "execution_count": null
  },
  {
   "cell_type": "code",
   "id": "ac1f40ee-887f-40c7-8d68-c12780bf0b91",
   "metadata": {
    "language": "python",
    "name": "cell4",
    "collapsed": false
   },
   "outputs": [],
   "source": "#split training data out\ndef get_training_columns(columns):\n    clean_columns_train = []\n    for col in columns:\n        if col != 'PRICE':\n                clean_columns_train.append(col)\n    return clean_columns_train\n    \nget_training_columns = get_training_columns(pd_df_raw)\n\nX_train, X_test, y_train, y_test = train_test_split(pd_df_raw[get_training_columns], pd_df_raw['PRICE'],test_size=0.2)\n",
   "execution_count": null
  },
  {
   "cell_type": "code",
   "id": "b3088337-703a-40db-b9e2-36c07d22aa6e",
   "metadata": {
    "language": "python",
    "name": "cell13",
    "collapsed": false
   },
   "outputs": [],
   "source": "pd_df_raw.columns",
   "execution_count": null
  },
  {
   "cell_type": "code",
   "id": "e24c2081-bbb6-43f8-be32-590205c96cdc",
   "metadata": {
    "language": "python",
    "name": "cell12",
    "collapsed": false
   },
   "outputs": [],
   "source": "# Define the formula for the mixed effects model\nformula = 'PRICE ~ MILEAGE + C(MODEL_NAME)'\n\n# Fit the mixed linear model\n# Here, we assume 'brand' as the grouping variable for random effects\nmodel = smf.mixedlm(formula, pd_df_raw, groups=pd_df_raw['MAKE'])\nresult = model.fit()\n\n# Display the model summary\nprint(result.summary())",
   "execution_count": null
  },
  {
   "cell_type": "code",
   "id": "b9c5b962-ec7a-4199-b811-b445da5f50fb",
   "metadata": {
    "language": "python",
    "name": "cell15",
    "collapsed": false
   },
   "outputs": [],
   "source": "# and let's plot the predictions\nperformance = pd.DataFrame()\nperformance[\"residuals\"] = result.resid.values\nperformance[\"mileage_scaled\"] = pd_df_raw[\"MILEAGE_SCALED\"]\nperformance[\"predicted\"] = result.fittedvalues\n",
   "execution_count": null
  },
  {
   "cell_type": "code",
   "id": "ee57b3b4-ab86-44a6-bd38-b2ea1ce051a1",
   "metadata": {
    "language": "python",
    "name": "cell20"
   },
   "outputs": [],
   "source": "# Plot predicted values against scaled mileage\nplt.figure(figsize=(10, 6))\n\n# Plot predicted vs. mileage_scaled\nplt.scatter(performance[\"mileage_scaled\"], performance[\"predicted\"], color='blue', label='Predicted')\nplt.xlabel('Scaled Mileage')\nplt.ylabel('Predicted Price')\nplt.title('Predicted Price vs. Scaled Mileage')\nplt.legend()\n\n# Show plot\nplt.show()\n\n# Optional: Plot residuals\nplt.figure(figsize=(10, 6))\nplt.scatter(performance[\"mileage_scaled\"], performance[\"residuals\"], color='red', label='Residuals')\nplt.xlabel('Scaled Mileage')\nplt.ylabel('Residuals')\nplt.title('Residuals vs. Scaled Mileage')\nplt.axhline(y=0, color='black', linestyle='--', linewidth=1)\nplt.legend()\n\n# Show plot\nplt.show()\n",
   "execution_count": null
  },
  {
   "cell_type": "markdown",
   "id": "1cb20417-e0f0-4853-861f-63e9012fee34",
   "metadata": {
    "name": "cell9",
    "collapsed": false
   },
   "source": "[Registering 'Custom' Models](https://docs.snowflake.com/en/developer-guide/snowpark-ml/model-registry/custom-models)\n\nThe Snowflake model registry allows you to register (log) models and use them for inference inside Snowflake. The registry supports several types of models:\n\n- Snowpark ML Modeling\n- scikit-learn\n- XGBoost\n- LightGBM\n- CatBoost\n- PyTorch\n- TensorFlow\n- MLFlow PyFunc\n- Sentence Transformer\n- Hugging Face pipeline\n\nThe model registry API also allows you to log other types of models, including those trained using external tools or obtained from open source repositories, as long as they are serializable and derived from the snowflake.ml.model.custom_model.CustomModel class.\n\nSee also this [blog post](https://medium.com/snowflake/integrating-machine-learning-models-with-snowpark-ml-a-guide-for-azureml-and-sagemaker-users-735292843a7b) for information about importing models from AWS SageMaker or from Azure ML."
  },
  {
   "cell_type": "code",
   "id": "f9f3aedc-b72c-42ec-9a8e-1dee423032b8",
   "metadata": {
    "language": "python",
    "name": "cell10",
    "codeCollapsed": false
   },
   "outputs": [],
   "source": "",
   "execution_count": null
  }
 ]
}