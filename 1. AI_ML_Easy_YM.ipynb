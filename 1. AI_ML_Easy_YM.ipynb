{
 "metadata": {
  "kernelspec": {
   "display_name": "Streamlit Notebook",
   "name": "streamlit"
  }
 },
 "nbformat_minor": 5,
 "nbformat": 4,
 "cells": [
  {
   "cell_type": "markdown",
   "id": "baba8254-9ce0-4455-aa5f-a7e3edffea58",
   "metadata": {
    "collapsed": false,
    "name": "cell4",
    "pycharm": {
     "name": "#%% md\n"
    }
   },
   "source": "# AI / ML Easy Button \n## *Basics using Review Data*\nWelcome to the AI/ML Easy Button. This notebook will allow you to explore to explore Snowflake's out of the box functions and understand how they work with custom prompts in both SQL and Python.  \nWe will leverage some Take-Two Game Review Data and Game Summary Data for these analysis.\n\nThe Snowflake Docs are always a great reference point, so we will include these along the way.\n[LLM Docs](https://docs.snowflake.com/en/user-guide/snowflake-cortex/llm-functions)\n\n![](https://www.fatherhood.org/hs-fs/hubfs/Images/Blog/easy-button.png?width=585&name=easy-button.png)"
  },
  {
   "cell_type": "code",
   "execution_count": null,
   "id": "3775908f-ca36-4846-8f38-5adca39217f2",
   "metadata": {
    "codeCollapsed": false,
    "collapsed": false,
    "language": "python",
    "name": "cell1",
    "pycharm": {
     "name": "#%%\n"
    }
   },
   "outputs": [],
   "source": [
    "# !!! Add packages in the upper right under packages --- this code needs 'snowflake-ml'\n",
    "# Import python packages\n",
    "import streamlit as st\n",
    "import pandas as pd\n",
    "import json\n",
    "\n",
    "# We can also use Snowpark for our analyses!\n",
    "from snowflake.snowpark import functions as F\n",
    "from snowflake.cortex import Complete, Sentiment, Summarize, Translate\n",
    "from snowflake.snowpark.context import get_active_session\n",
    "session = get_active_session()\n"
   ]
  },
  {
   "cell_type": "code",
   "id": "690327a6-d639-4bb8-842f-82064de051f8",
   "metadata": {
    "language": "sql",
    "name": "cell13",
    "collapsed": false,
    "pycharm": {
     "name": "#%%\n"
    }
   },
   "outputs": [],
   "source": "--first create your own schema to work in!\ncreate schema if not exists MY_NAME ;\nuse schema MY_NAME;\n---this should be your name!!\nselect current_database(), current_schema();\n\n\n\n",
   "execution_count": null
  },
  {
   "cell_type": "code",
   "id": "20ba25aa-f21e-40a3-8d87-5d9975fa27e0",
   "metadata": {
    "language": "python",
    "name": "cell37"
   },
   "outputs": [],
   "source": "",
   "execution_count": null
  },
  {
   "cell_type": "markdown",
   "id": "e6fd8083-3766-438f-bbe8-f1f19545f2d3",
   "metadata": {
    "collapsed": false,
    "name": "cell6",
    "pycharm": {
     "name": "#%% md\n"
    }
   },
   "source": [
    "### Translate  \n",
    "https://docs.snowflake.com/en/sql-reference/functions/translate-snowflake-cortex"
   ]
  },
  {
   "cell_type": "code",
   "execution_count": null,
   "id": "023342fd-3373-4f58-8168-26bb7aa6358a",
   "metadata": {
    "codeCollapsed": false,
    "collapsed": false,
    "language": "sql",
    "name": "cell2",
    "pycharm": {
     "name": "#%%\n"
    }
   },
   "outputs": [],
   "source": "-- TRANSLATE\n-- Translate text For Ad Copy\n\n---call the in built SQL function, with text, from language and to language\nselect\n    snowflake.cortex.translate(\n        'Buy this awesome product, we know you will love it',\n        'en',\n        'pt');"
  },
  {
   "cell_type": "code",
   "id": "36f959e0-15f5-4d02-835f-dfd90fae1f6a",
   "metadata": {
    "language": "sql",
    "name": "cell30",
    "collapsed": false,
    "pycharm": {
     "name": "#%%\n"
    }
   },
   "outputs": [],
   "source": "-- SQL Translate from Any Text to English...leave from language blank to infer it\nselect\n    snowflake.cortex.translate(\n        '제가 가장 좋아하고 아늑한 소파가 오늘 판매 중입니다',\n        '',\n        'en');",
   "execution_count": null
  },
  {
   "cell_type": "code",
   "execution_count": null,
   "id": "99a755d2-a97b-492b-b8e0-2516e1be58e1",
   "metadata": {
    "codeCollapsed": false,
    "collapsed": false,
    "language": "python",
    "name": "cell3",
    "pycharm": {
     "name": "#%%\n"
    }
   },
   "outputs": [],
   "source": "#PYTHON IS EASY TOO...same function directly from Python\nTranslate(\n    \"Detta är det bästa videospelet någonsin!\",\n    \"\",\n    \"en\"\n)"
  },
  {
   "cell_type": "code",
   "execution_count": null,
   "id": "ebd0fc6a-eefb-4355-8f3e-313ff4b2f861",
   "metadata": {
    "codeCollapsed": false,
    "collapsed": false,
    "language": "sql",
    "name": "sample_reviews",
    "pycharm": {
     "name": "#%%\n"
    }
   },
   "outputs": [],
   "source": [
    "--we can run this against millions of records easily, effeciently and securly\n",
    "select\n",
    "    REVIEW_TEXT,\n",
    "    snowflake.cortex.translate(\n",
    "        REVIEW_TEXT,\n",
    "        '',\n",
    "        'en'\n",
    "    ) as review_in_english\n",
    "from\n",
    "    LAB_DATA.PUBLIC.REVIEWS\n",
    "    where IS_ENGLISH = 0;"
   ]
  },
  {
   "cell_type": "code",
   "execution_count": null,
   "id": "32469401-3794-4e7d-9533-3f36966fdd90",
   "metadata": {
    "codeCollapsed": false,
    "collapsed": false,
    "language": "python",
    "name": "cell5",
    "pycharm": {
     "name": "#%%\n"
    }
   },
   "outputs": [],
   "source": [
    "###can turn cell results into snowpark dataframes... or Pandas ones too\n",
    "sp_df = sample_reviews.to_df()\n",
    "sp_df.show(3)\n",
    "pd_df = sample_reviews.to_pandas()\n",
    "pd_df.head(3)"
   ]
  },
  {
   "cell_type": "markdown",
   "id": "b78a2792-2303-4266-9783-6f066f15c0e5",
   "metadata": {
    "collapsed": false,
    "name": "cell9",
    "pycharm": {
     "name": "#%% md\n"
    }
   },
   "source": [
    "### Sentiment \n",
    "https://docs.snowflake.com/en/sql-reference/functions/sentiment-snowflake-cortex"
   ]
  },
  {
   "cell_type": "code",
   "execution_count": null,
   "id": "d2ae2372-229e-409e-8efd-a4f986be283b",
   "metadata": {
    "codeCollapsed": false,
    "collapsed": false,
    "language": "sql",
    "name": "cell10",
    "pycharm": {
     "name": "#%%\n"
    }
   },
   "outputs": [],
   "source": [
    "select\n",
    "    REVIEW_TEXT,\n",
    "    snowflake.cortex.sentiment(\n",
    "        snowflake.cortex.translate( ---chained together, translate and sentiment\n",
    "        REVIEW_TEXT,\n",
    "        '',\n",
    "        'en'\n",
    "        ) \n",
    "    ) as review_sentiment\n",
    "from\n",
    "    LAB_DATA.PUBLIC.REVIEWS"
   ]
  },
  {
   "cell_type": "markdown",
   "id": "872c9385-6624-4d48-a9c0-90a44b651cd6",
   "metadata": {
    "collapsed": false,
    "name": "cell14",
    "pycharm": {
     "name": "#%% md\n"
    }
   },
   "source": [
    "### Summarize  \n",
    "https://docs.snowflake.com/en/sql-reference/functions/summarize-snowflake-cortex"
   ]
  },
  {
   "cell_type": "code",
   "id": "cc2cfb04-11fe-40d4-8d20-0a6828300beb",
   "metadata": {
    "language": "sql",
    "name": "cell15",
    "collapsed": false
   },
   "outputs": [],
   "source": "--summarize a webpage\nselect\n    snowflake.cortex.summarize('\n    The GE Profile 5.3 cu. Ft. Smart Front Load Washer (Model # PFW870SSVWW) features OdorBlock, UltraFresh Vent System, Microban Technology, and SmartHQ connectivity. It offers 12 wash cycles, steam cleaning, and is ENERGY STAR certified. Dimensions are 39.75\" H x 28\" W x 34\" D.\n    CYCLE INFORMATION\tNumber of Cycles\tWash Cycles\t• Self Clean • Power Clean\t• Downloaded• Whites• Towels• Bulky/Bedding• Sanitize + Allergen\t• Quick Wash\t• Delicates\t• Cold Wash\t• Rinse + Spin\tOptions\t• Extra Rinse\t• UltraFresh Vent\t• More Water\t• Time Saver\t• PreWash\t• Smart Dispense\t• Tumble Care\t• Soak Rinse for Sanitizer\tFEATURES\tTechnologies\t• dBT™ Quiet Control\t• Amazon Alexa\t• IFTTT\t• The Google Assistant\t• Sonos\t• UltraFresh Vent System Plus™ with OdorBlock™\t• SmartDispense™ Technology\t• Load-Sensing Adaptive Fill\t• PerfecTemp Deluxe\t• WiFi Connect Built-in\tControl Lock\tStackable\tReversible Door\tWi-Fi\tDispensers\t• Bleach Timed Flow Through\t• Fabric Softener Timed Flow Through\t• PreWash\t• Smart Dispense - Bulk Detergent\t• Protected with Microban®\tAdditional Information\t• Automatic Temperature Control\t• Auto-Load Sensing\t• Adaptive Spin\t• Adjustable Leveling Legs\t• Internal heater\t• LED Basket Light\t• Power Cord Attached\t\t• Control Type:\t• Rotary-Electronic w/LEDs\t• Power On/Off\t• Start/Pause\t• Capacitive Touch\t\t• Optional Soil Levels:\t• Extra Heavy\t• Heavy\t• Normal\t• Light\t• Extra Light\t\t• Washer Control Features:\t• Control Lock\t• Adjustable End-of-Cycle Signal\t• LED Display\t• Digital Cycle Countdown\t• LED Indicators\t• Add Garment/Pause\t• Remote Start\t• Delay Wash - Up to 24 hours\tELECTRICAL INFORMATION\tInformation\t• 60 Hz\t• 15 or 20 A\tCERTIFICATIONS AND APPROVALS\tEnergy Star Certified\tInformation\tACCESSORIES\tOptional\t• Pedestal Accessory GFP1528PNRS\t• Riser GFR0728PNRS\t• Stacking Kit GFA28KITN\tDIMENSIONS\tClass Width\tWidth\tHeight\tDepth\tWeight\tAdditional Dimensions\tSHIPPING DIMENSIONS\tWeight\tWARRANTY\tWarranty\t• Limited 10-year motor 12\t• Normal\t\t\t\t\t\t\t• Delay Wash\t\t• Quiet-By-Design with dBT™ Quiet Control\t\t\t\t\t\t\t\t\t\t\tYes\tYes\tYes\tYes\t• Detergent (Liquid/Powder) Timed Flow Through\t\t\t\t\t\t• Door Style: See-Thru Glass with Tinted Door Protect, Chrome Outer Ring with Chrome Vent\t• 120 V\t\t\t\tYes\tADA\t\t• Fill Hose WH41X10207\t\t\t\t\t28\" - 30\"\t28 inch(es) / 71.12 cm\t39.75 inch(es) / 100.97 cm\t34 inch(es) / 86.36 cm\t245.99 lb(s) / 111.58 kg\tDepth with Door Open 90 Degrees: 56 1/2 in\t\t264 lb(s) / 119.75 kg\t\t• Limited 1-Year Parts and Labor\t') as WEB_PAGE_SUMMARY\n\t\n\n    \n    ",
   "execution_count": null
  },
  {
   "cell_type": "markdown",
   "id": "192d1262-ec14-4903-ab02-ad062142a3e8",
   "metadata": {
    "collapsed": false,
    "name": "cell19",
    "pycharm": {
     "name": "#%% md\n"
    }
   },
   "source": [
    "### COMPLETE  \n",
    "https://docs.snowflake.com/en/sql-reference/functions/complete-snowflake-cortex"
   ]
  },
  {
   "cell_type": "code",
   "id": "6a0bab2a-b69a-4117-934c-76c1eb0f6277",
   "metadata": {
    "language": "sql",
    "name": "cell21",
    "collapsed": false
   },
   "outputs": [],
   "source": "select\n    snowflake.cortex.complete(\n        'llama3-70b',\n       'what is the meaning of life?' \n       ) meaning_of_life",
   "execution_count": null
  },
  {
   "cell_type": "code",
   "execution_count": null,
   "id": "6e69c3f1-e78e-4cd4-88b5-4cbe3ea26d65",
   "metadata": {
    "codeCollapsed": false,
    "collapsed": false,
    "language": "python",
    "name": "cell18",
    "pycharm": {
     "name": "#%%\n"
    }
   },
   "outputs": [],
   "source": "#Similarly we can call this easily from Python\nMeaningOfLife = Complete(\n        \"mistral-large\",\n        \"What is the meaning of life?\"\n    )\n\nprint(MeaningOfLife)"
  },
  {
   "cell_type": "code",
   "id": "a042b4c8-b2a3-4f01-b51b-21c9414ea628",
   "metadata": {
    "language": "sql",
    "name": "cell7",
    "collapsed": false
   },
   "outputs": [],
   "source": "select * from AUDIENCE_DESC limit 5;",
   "execution_count": null
  },
  {
   "cell_type": "code",
   "id": "0db2fff5-a3bf-4a5a-8879-b82f0eb88a86",
   "metadata": {
    "language": "sql",
    "name": "cell38",
    "collapsed": false
   },
   "outputs": [],
   "source": "---SQL to leverage an LLM... its this easy!  Millions of $$$ spend to train these models that you can leverage easily and cheaply.  And switch between them in seconds.\nselect\n    snowflake.cortex.complete(\n        'llama3-70b',\n        'Write one catchy ad headline for a new computer for this audience, return the headline only : ' || AUDIENCE_DESC\n    ) HEADLINE,\n    AUDIENCE_DESC\n    from  LAB_DATA.PUBLIC.SEGMENTS limit 1",
   "execution_count": null
  },
  {
   "cell_type": "code",
   "id": "fdfc05ae-7cd6-4142-95d0-dc9c0d5d8ea8",
   "metadata": {
    "language": "sql",
    "name": "cell8",
    "collapsed": false,
    "pycharm": {
     "name": "#%%\n"
    }
   },
   "outputs": [],
   "source": "select summary from LAB_DATA.PUBLIC.GAMES limit 5",
   "execution_count": null
  },
  {
   "cell_type": "code",
   "id": "7eefce40-6f4f-4059-bfc3-6905a1878b99",
   "metadata": {
    "language": "sql",
    "name": "save_this_data",
    "collapsed": false
   },
   "outputs": [],
   "source": "---more complex scenario, join audiences to products and create ad copy\nselect \n snowflake.cortex.complete(\n        'mistral-large',\n        'Write one catchy ad headline for this :product::::' || summary|| ':::: for the following audience, return the headline only :audience::::: ' || AUDIENCE_DESC\n    ) HEADLINE,\n    AUDIENCE_DESC\n\nfrom \nLAB_DATA.PUBLIC.GAMES \njoin \nLAB_DATA.PUBLIC.SEGMENTS limit 5",
   "execution_count": null
  },
  {
   "cell_type": "code",
   "id": "c2d1ad65-3828-4295-87ce-c2207dc48415",
   "metadata": {
    "language": "python",
    "name": "cell22"
   },
   "outputs": [],
   "source": "###easily save to table in SQL or Python\nsave_this_data.to_df().write.mode(\"overwrite\").save_as_table(\"AD_COPY_FOR_AUDIENCES\")",
   "execution_count": null
  },
  {
   "cell_type": "code",
   "id": "fb40c130-7306-483f-94ee-fae189e19864",
   "metadata": {
    "language": "sql",
    "name": "cell41",
    "collapsed": false
   },
   "outputs": [],
   "source": "--keywords from a webpage\nselect\n    snowflake.cortex.complete( 'mistral-large','Return me the top 10 keywords ONLY from this product description as a JSON object:::::::::\n    The GE Profile 5.3 cu. Ft. Smart Front Load Washer (Model # PFW870SSVWW) features OdorBlock, UltraFresh Vent System, Microban Technology, and SmartHQ connectivity. It offers 12 wash cycles, steam cleaning, and is ENERGY STAR certified. Dimensions are 39.75\" H x 28\" W x 34\" D.\n    CYCLE INFORMATION\tNumber of Cycles\tWash Cycles\t• Self Clean • Power Clean\t• Downloaded• Whites• Towels• Bulky/Bedding• Sanitize + Allergen\t• Quick Wash\t• Delicates\t• Cold Wash\t• Rinse + Spin\tOptions\t• Extra Rinse\t• UltraFresh Vent\t• More Water\t• Time Saver\t• PreWash\t• Smart Dispense\t• Tumble Care\t• Soak Rinse for Sanitizer\tFEATURES\tTechnologies\t• dBT™ Quiet Control\t• Amazon Alexa\t• IFTTT\t• The Google Assistant\t• Sonos\t• UltraFresh Vent System Plus™ with OdorBlock™\t• SmartDispense™ Technology\t• Load-Sensing Adaptive Fill\t• PerfecTemp Deluxe\t• WiFi Connect Built-in\tControl Lock\tStackable\tReversible Door\tWi-Fi\tDispensers\t• Bleach Timed Flow Through\t• Fabric Softener Timed Flow Through\t• PreWash\t• Smart Dispense - Bulk Detergent\t• Protected with Microban®\tAdditional Information\t• Automatic Temperature Control\t• Auto-Load Sensing\t• Adaptive Spin\t• Adjustable Leveling Legs\t• Internal heater\t• LED Basket Light\t• Power Cord Attached\t\t• Control Type:\t• Rotary-Electronic w/LEDs\t• Power On/Off\t• Start/Pause\t• Capacitive Touch\t\t• Optional Soil Levels:\t• Extra Heavy\t• Heavy\t• Normal\t• Light\t• Extra Light\t\t• Washer Control Features:\t• Control Lock\t• Adjustable End-of-Cycle Signal\t• LED Display\t• Digital Cycle Countdown\t• LED Indicators\t• Add Garment/Pause\t• Remote Start\t• Delay Wash - Up to 24 hours\tELECTRICAL INFORMATION\tInformation\t• 60 Hz\t• 15 or 20 A\tCERTIFICATIONS AND APPROVALS\tEnergy Star Certified\tInformation\tACCESSORIES\tOptional\t• Pedestal Accessory GFP1528PNRS\t• Riser GFR0728PNRS\t• Stacking Kit GFA28KITN\tDIMENSIONS\tClass Width\tWidth\tHeight\tDepth\tWeight\tAdditional Dimensions\tSHIPPING DIMENSIONS\tWeight\tWARRANTY\tWarranty\t• Limited 10-year motor 12\t• Normal\t\t\t\t\t\t\t• Delay Wash\t\t• Quiet-By-Design with dBT™ Quiet Control\t\t\t\t\t\t\t\t\t\t\tYes\tYes\tYes\tYes\t• Detergent (Liquid/Powder) Timed Flow Through\t\t\t\t\t\t• Door Style: See-Thru Glass with Tinted Door Protect, Chrome Outer Ring with Chrome Vent\t• 120 V\t\t\t\tYes\tADA\t\t• Fill Hose WH41X10207\t\t\t\t\t28\" - 30\"\t28 inch(es) / 71.12 cm\t39.75 inch(es) / 100.97 cm\t34 inch(es) / 86.36 cm\t245.99 lb(s) / 111.58 kg\tDepth with Door Open 90 Degrees: 56 1/2 in\t\t264 lb(s) / 119.75 kg\t\t• Limited 1-Year Parts and Labor\t') as WEB_PAGE_KEYWORDS\n\t\n\n    \n    ",
   "execution_count": null
  },
  {
   "cell_type": "code",
   "id": "5f7115d0-b75a-4153-883f-d4e9686fc9f6",
   "metadata": {
    "language": "sql",
    "name": "cell36",
    "collapsed": false
   },
   "outputs": [],
   "source": "select\n   REVIEW_TEXT CHECK_FOR_TEXT_FOR_TOXIC_LANGUAGE\n   from   LAB_DATA.PUBLIC.REVIEWS \n   limit 5",
   "execution_count": null
  },
  {
   "cell_type": "code",
   "id": "b899660c-b3ee-4eac-ae2b-1869ec7f56b2",
   "metadata": {
    "language": "sql",
    "name": "cell31",
    "collapsed": false
   },
   "outputs": [],
   "source": "---DATA CLASSIFICATION\n\nselect\n   REVIEW_TEXT, snowflake.cortex.complete(\n        'llama3-8b',\n        '[INST]\n### \nTell me based on the following Text, is there any toxic or offensive language in the text? Answer should be only one of the following words - \\\n\"Likely Toxic\" or \"Unlikely Toxic\" or \"Unsure\". Make sure there are no additional additional text.\nReview -\n###' || REVIEW_TEXT) as CLASSIFIED_TEXT\n     from  LAB_DATA.PUBLIC.REVIEWS limit 5",
   "execution_count": null
  },
  {
   "cell_type": "markdown",
   "id": "e5b7904b-b970-4c4b-b834-e3675c30a947",
   "metadata": {
    "collapsed": false,
    "name": "cell24",
    "pycharm": {
     "name": "#%% md\n"
    }
   },
   "source": [
    "### EMBED_TEXT\n",
    "https://docs.snowflake.com/sql-reference/functions/embed_text-snowflake-cortex"
   ]
  },
  {
   "cell_type": "code",
   "execution_count": null,
   "id": "ce31f9b4-b5b6-42a9-98e2-ec67386cb153",
   "metadata": {
    "codeCollapsed": false,
    "collapsed": false,
    "language": "sql",
    "name": "cell25",
    "pycharm": {
     "name": "#%%\n"
    }
   },
   "outputs": [],
   "source": "select\n    snowflake.cortex.embed_text_768(\n        'snowflake-arctic-embed-m',\n        'I love ads'\n    );"
  },
  {
   "cell_type": "code",
   "execution_count": null,
   "id": "3db3d506-c323-4574-874c-5a12da40a31a",
   "metadata": {
    "codeCollapsed": false,
    "collapsed": false,
    "language": "sql",
    "name": "cell26",
    "pycharm": {
     "name": "#%%\n"
    }
   },
   "outputs": [],
   "source": [
    "select\n",
    "    summary,\n",
    "    snowflake.cortex.embed_text_768(\n",
    "        'snowflake-arctic-embed-m',\n",
    "        summary\n",
    "    ) as summary_embedding\n",
    "from\n",
    "    LAB_DATA.PUBLIC.GAMES\n",
    "limit 10;"
   ]
  },
  {
   "cell_type": "markdown",
   "id": "26dc9253-e399-4b3e-a319-cee27b2345ba",
   "metadata": {
    "collapsed": false,
    "name": "cell27",
    "pycharm": {
     "name": "#%% md\n"
    }
   },
   "source": "### VECTOR SIMILARITY CALCULATIONS  \nhttps://docs.snowflake.com/en/sql-reference/functions/vector_cosine_similarity"
  },
  {
   "cell_type": "code",
   "execution_count": null,
   "id": "9c038dd7-d6d8-435c-921d-c56707ddcb95",
   "metadata": {
    "codeCollapsed": false,
    "language": "sql",
    "name": "cell28",
    "collapsed": false,
    "pycharm": {
     "name": "#%%\n"
    }
   },
   "outputs": [],
   "source": [
    "select\n",
    "    vector_cosine_similarity(\n",
    "        snowflake.cortex.embed_text_768('snowflake-arctic-embed-m', 'California Contemporary style'),\n",
    "        snowflake.cortex.embed_text_768('snowflake-arctic-embed-m', 'California Contemporary style homes')\n",
    "    );"
   ]
  },
  {
   "cell_type": "code",
   "id": "6a08d8b3-d3ab-4689-a18a-d6c51bb86699",
   "metadata": {
    "language": "sql",
    "name": "cell12",
    "collapsed": false,
    "pycharm": {
     "name": "#%%\n"
    }
   },
   "outputs": [],
   "source": "--snowflake own SOTA text embed model\ncreate or replace table TEXT_EMBED as \nselect REVIEW_TEXT as TEXT,\n    snowflake.cortex.embed_text_768(\n        'snowflake-arctic-embed-m',\n        REVIEW_TEXT\n    ) as TEXT_embedding\nfrom\n    LAB_DATA.PUBLIC.REVIEWS",
   "execution_count": null
  },
  {
   "cell_type": "code",
   "execution_count": null,
   "id": "479dd89e-1620-478b-9a21-5040781d7a1a",
   "metadata": {
    "codeCollapsed": false,
    "language": "sql",
    "name": "cell29",
    "collapsed": false,
    "pycharm": {
     "name": "#%%\n"
    }
   },
   "outputs": [],
   "source": "--use cosine similarity to find like titles\nselect\n    b.TEXT SIMILAR_TEXT, a.TEXT TEXT_SEARCHED, \n    vector_cosine_similarity(\n        a.TEXT_embedding,\n        b.TEXT_embedding\n    ) as similarity\nfrom\n    TEXT_EMBED a\n    cross join TEXT_EMBED b\nwhere \n     b.TEXT < a.TEXT\n     and similarity < .9\norder by\n    similarity desc\nlimit 20;"
  },
  {
   "cell_type": "markdown",
   "id": "ecf4ff13-323e-4d7c-912f-18d54421db13",
   "metadata": {
    "name": "cell35",
    "collapsed": false,
    "pycharm": {
     "name": "#%% md\n"
    }
   },
   "source": [
    "## Retrieval-Augmented Generation (RAG) \n",
    "is the process of optimizing the output of a large language model, so it references an authoritative knowledge base outside of its training data sources before generating a response.\n",
    "We do this in two steps when querying the LLM\n",
    "1. First we take the question and get the relevant data using vector cosine similarities (as shown above)\n",
    "2. Next we use that relevant data in the prompt to the LLM with our question"
   ]
  },
  {
   "cell_type": "code",
   "id": "b2063685-eee5-48b5-a7ad-8ee2d6670224",
   "metadata": {
    "language": "python",
    "name": "cell16",
    "collapsed": false,
    "pycharm": {
     "name": "#%%\n"
    }
   },
   "outputs": [],
   "source": [
    "#question = \"\"\"What Cities does GTA V Take Place In?\"\"\"\n",
    "#question = \"\"\"Is Lebron James featured in any NBA 2K games?\"\"\"\n",
    "question = \"\"\"What year is Grand Theft Auto: Vice City set in?\"\"\""
   ],
   "execution_count": null
  },
  {
   "cell_type": "code",
   "id": "7ffed6e6-8e8d-4145-bb2b-522d0346e5c0",
   "metadata": {
    "language": "python",
    "name": "cell17",
    "collapsed": false,
    "pycharm": {
     "name": "#%%\n"
    }
   },
   "outputs": [],
   "source": [
    "#step 1 get the relvant data\n",
    "relevant_titles = session.sql(f\"\"\"\n",
    "   select\n",
    "            title, summary,\n",
    "            vector_cosine_similarity(\n",
    "                summary_embedding,\n",
    "                snowflake.cortex.embed_text_768(\n",
    "                  'snowflake-arctic-embed-m',\n",
    "                  '{question}'\n",
    "                )\n",
    "            ) as similarity\n",
    "        from\n",
    "            GAMES_EMBED\n",
    "  order by\n",
    "      similarity desc\n",
    "  limit 10\"\"\") \n",
    "relevant_titles.show()"
   ],
   "execution_count": null
  },
  {
   "cell_type": "code",
   "id": "d3b4ef78-8011-44d6-8bb9-362237602572",
   "metadata": {
    "language": "python",
    "name": "cell32",
    "collapsed": false,
    "pycharm": {
     "name": "#%%\n"
    }
   },
   "outputs": [],
   "source": [
    "#step 2 feed to the LLM using a specific prompt\n",
    "info = '. | '.join([x[0] for x in relevant_titles.select(\"*\").collect()]).replace(\"'\", \"\")\n",
    "prompt = f\"\"\"\n",
    "            You are a video game expert. Please provide knowledge and guidance to the questions in the tags <question> and </question> based on the provided \n",
    "            context found between the tags <context> and </context>.\n",
    "\n",
    "            <context>\n",
    "            '{info}'\n",
    "            </context>\n",
    "            <question>\n",
    "            '{question}'\n",
    "            </question>\n",
    "            Answer: \"\"\"\n",
    "query = \"\"\"\n",
    "      select\n",
    "          snowflake.cortex.complete(\n",
    "              ?, \n",
    "              ?\n",
    "          ) as response\n",
    "      \"\"\"\n",
    "complete = session.sql(query, params=['mistral-large', prompt])\n",
    "with st.chat_message(name=\"Assistant\"):\n",
    "    st.write(complete.collect()[0][0])"
   ],
   "execution_count": null
  },
  {
   "cell_type": "markdown",
   "id": "10874acf-a334-461a-8ec0-40fe7c62e1d8",
   "metadata": {
    "name": "cell23",
    "collapsed": false,
    "pycharm": {
     "name": "#%% md\n"
    }
   },
   "source": "# UI to Easily Create Chat Bots with (RAG & Search) is coming!\nA Summit our head of product randomly chose someone from the audience to create a chatbot in Snowflake.  They had only logged into Snowflake 7 times and were able to create a RAG chat bot using the new UI in minutes.\n\n[Chatbot Demo with Rag](https://youtu.be/CWEjp1iadUc?feature=shared&t=532)"
  },
  {
   "cell_type": "markdown",
   "id": "3d3c9d63-30b5-4fa9-a1ae-71b7e125676b",
   "metadata": {
    "name": "cell11",
    "collapsed": false,
    "pycharm": {
     "name": "#%% md\n"
    }
   },
   "source": [
    "## Fine Tuning Too\n",
    "Snowflake is making this easy too, you supply your training data to the model via a table and you get an additional version of the model...fine tuned to your task.\n",
    "Fine tuning can be the best combo of results and cost. Dont have training data?  Use a more expensive LLM to score a set of data and train a smaller, cheaper one. Boom cheap and effective.\n",
    "\n",
    "[Snowflake Fine Tuning Docs](https://docs.snowflake.com/en/user-guide/snowflake-cortex/cortex-finetuning?_fsi=wWDeqSCS&_fsi=wWDeqSCS)\n",
    "\n",
    "[Snowflake Fine Tuning Workshop](https://quickstarts.snowflake.com/guide/finetuning_llm_using_snowflake_cortex_ai/index.html?index=..%2F..index#2)"
   ]
  }
 ]
}