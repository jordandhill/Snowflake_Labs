{
 "metadata": {
  "kernelspec": {
   "display_name": "Streamlit Notebook",
   "name": "streamlit"
  }
 },
 "nbformat_minor": 5,
 "nbformat": 4,
 "cells": [
  {
   "cell_type": "markdown",
   "id": "baba8254-9ce0-4455-aa5f-a7e3edffea58",
   "metadata": {
    "collapsed": false,
    "name": "cell4",
    "pycharm": {
     "name": "#%% md\n"
    }
   },
   "source": "# AI / ML Easy Button \n## *Basics using Review Data*\nWelcome to the AI/ML Easy Button. This notebook will allow you to explore to explore Snowflake's out of the box functions and understand how they work with custom prompts in both SQL and Python.  \nWe will leverage some Take-Two Game Review Data and Game Summary Data for these analysis.\n\nThe Snowflake Docs are always a great reference point, so we will include these along the way.\n[LLM Docs](https://docs.snowflake.com/en/user-guide/snowflake-cortex/llm-functions)\n\n![](https://www.fatherhood.org/hs-fs/hubfs/Images/Blog/easy-button.png?width=585&name=easy-button.png)"
  },
  {
   "cell_type": "code",
   "execution_count": null,
   "id": "3775908f-ca36-4846-8f38-5adca39217f2",
   "metadata": {
    "codeCollapsed": false,
    "collapsed": false,
    "language": "python",
    "name": "cell1",
    "pycharm": {
     "name": "#%%\n"
    }
   },
   "outputs": [],
   "source": [
    "# !!! Add packages in the upper right under packages --- this code needs 'snowflake-ml'\n",
    "# Import python packages\n",
    "import streamlit as st\n",
    "import pandas as pd\n",
    "import json\n",
    "\n",
    "# We can also use Snowpark for our analyses!\n",
    "from snowflake.snowpark import functions as F\n",
    "from snowflake.cortex import Complete, Sentiment, Summarize, Translate\n",
    "from snowflake.snowpark.context import get_active_session\n",
    "session = get_active_session()\n"
   ]
  },
  {
   "cell_type": "code",
   "id": "690327a6-d639-4bb8-842f-82064de051f8",
   "metadata": {
    "language": "sql",
    "name": "cell13",
    "collapsed": false,
    "pycharm": {
     "name": "#%%\n"
    }
   },
   "outputs": [],
   "source": [
    "--first create your own schema to work in!\n",
    "create schema if not exists MY_NAME ;\n",
    "use schema MY_NAME;\n",
    "---this should be your name!!\n",
    "select current_database(), current_schema();"
   ],
   "execution_count": null
  },
  {
   "cell_type": "markdown",
   "id": "e6fd8083-3766-438f-bbe8-f1f19545f2d3",
   "metadata": {
    "collapsed": false,
    "name": "cell6",
    "pycharm": {
     "name": "#%% md\n"
    }
   },
   "source": [
    "### Translate  \n",
    "https://docs.snowflake.com/en/sql-reference/functions/translate-snowflake-cortex"
   ]
  },
  {
   "cell_type": "code",
   "execution_count": null,
   "id": "023342fd-3373-4f58-8168-26bb7aa6358a",
   "metadata": {
    "codeCollapsed": false,
    "collapsed": false,
    "language": "sql",
    "name": "cell2",
    "pycharm": {
     "name": "#%%\n"
    }
   },
   "outputs": [],
   "source": "-- TRANSLATE\n-- Translate text from Reviews\n\n---call the in built SQL function, with text, from language and to language\nselect\n    snowflake.cortex.translate(\n        'Ser-lhe-ei honesto, tive dificuldade em comprar o GTA V pela terceira vez (PS3, PS4 e agora PS5) mas pelo preço é realmente uma atualização digna da próxima geração. O jogo no PlayStation 5 é verdadeiramente notável',\n        'pt',\n        'en');"
  },
  {
   "cell_type": "code",
   "id": "36f959e0-15f5-4d02-835f-dfd90fae1f6a",
   "metadata": {
    "language": "sql",
    "name": "cell30",
    "collapsed": false,
    "pycharm": {
     "name": "#%%\n"
    }
   },
   "outputs": [],
   "source": [
    "-- SQL Translate from Any Text to English...leave from language blank to infer it\n",
    "select\n",
    "    snowflake.cortex.translate(\n",
    "        '마이크로 트랜잭션이 매우 공격적임에도 불구하고 모든 스포츠 게임 팬에게 NBA 2K23를 안전하게 추천할 수 있습니다. 게임 플레이가 너무 좋고 향후 업데이트에서 문제가 해결되지 않기를 바랍니다.',\n",
    "        '',\n",
    "        'en');"
   ],
   "execution_count": null
  },
  {
   "cell_type": "code",
   "execution_count": null,
   "id": "99a755d2-a97b-492b-b8e0-2516e1be58e1",
   "metadata": {
    "codeCollapsed": false,
    "collapsed": false,
    "language": "python",
    "name": "cell3",
    "pycharm": {
     "name": "#%%\n"
    }
   },
   "outputs": [],
   "source": [
    "#PYTHON IS EASY TOO...Now we use the same function directly from Python\n",
    "Translate(\n",
    "    \"Detta är det bästa videospelet någonsin!\",\n",
    "    \"\",\n",
    "    \"en\"\n",
    ")"
   ]
  },
  {
   "cell_type": "code",
   "execution_count": null,
   "id": "ebd0fc6a-eefb-4355-8f3e-313ff4b2f861",
   "metadata": {
    "codeCollapsed": false,
    "collapsed": false,
    "language": "sql",
    "name": "sample_reviews",
    "pycharm": {
     "name": "#%%\n"
    }
   },
   "outputs": [],
   "source": [
    "--we can run this against millions of records easily, effeciently and securly\n",
    "select\n",
    "    REVIEW_TEXT,\n",
    "    snowflake.cortex.translate(\n",
    "        REVIEW_TEXT,\n",
    "        '',\n",
    "        'en'\n",
    "    ) as review_in_english\n",
    "from\n",
    "    LAB_DATA.PUBLIC.REVIEWS\n",
    "    where IS_ENGLISH = 0;"
   ]
  },
  {
   "cell_type": "code",
   "execution_count": null,
   "id": "32469401-3794-4e7d-9533-3f36966fdd90",
   "metadata": {
    "codeCollapsed": false,
    "collapsed": false,
    "language": "python",
    "name": "cell5",
    "pycharm": {
     "name": "#%%\n"
    }
   },
   "outputs": [],
   "source": [
    "###can turn cell results into snowpark dataframes... or Pandas ones too\n",
    "sp_df = sample_reviews.to_df()\n",
    "sp_df.show(3)\n",
    "pd_df = sample_reviews.to_pandas()\n",
    "pd_df.head(3)"
   ]
  },
  {
   "cell_type": "markdown",
   "id": "b78a2792-2303-4266-9783-6f066f15c0e5",
   "metadata": {
    "collapsed": false,
    "name": "cell9",
    "pycharm": {
     "name": "#%% md\n"
    }
   },
   "source": [
    "### Sentiment \n",
    "https://docs.snowflake.com/en/sql-reference/functions/sentiment-snowflake-cortex"
   ]
  },
  {
   "cell_type": "code",
   "execution_count": null,
   "id": "d2ae2372-229e-409e-8efd-a4f986be283b",
   "metadata": {
    "codeCollapsed": false,
    "collapsed": false,
    "language": "sql",
    "name": "cell10",
    "pycharm": {
     "name": "#%%\n"
    }
   },
   "outputs": [],
   "source": [
    "select\n",
    "    REVIEW_TEXT,\n",
    "    snowflake.cortex.sentiment(\n",
    "        snowflake.cortex.translate( ---chained together, translate and sentiment\n",
    "        REVIEW_TEXT,\n",
    "        '',\n",
    "        'en'\n",
    "        ) \n",
    "    ) as review_sentiment\n",
    "from\n",
    "    LAB_DATA.PUBLIC.REVIEWS"
   ]
  },
  {
   "cell_type": "markdown",
   "id": "872c9385-6624-4d48-a9c0-90a44b651cd6",
   "metadata": {
    "collapsed": false,
    "name": "cell14",
    "pycharm": {
     "name": "#%% md\n"
    }
   },
   "source": [
    "### Summarize  \n",
    "https://docs.snowflake.com/en/sql-reference/functions/summarize-snowflake-cortex"
   ]
  },
  {
   "cell_type": "code",
   "execution_count": null,
   "id": "3d732360-4817-474b-b499-7fcd5443aa0d",
   "metadata": {
    "codeCollapsed": false,
    "collapsed": false,
    "language": "sql",
    "name": "cell15",
    "pycharm": {
     "name": "#%%\n"
    }
   },
   "outputs": [],
   "source": "select\n    snowflake.cortex.summarize('For me, Grand Theft Auto V’s extraordinary scope is summed up in two favourite moments. One is from a mid-game mission in which I flew a plane into another plane, fought the crew, hijacked the thing, and then parachuted out and watched it crash into the sea to escape death at the hands of incoming military fighter jets. Another time, whilst driving around in an off-road buggy, I got distracted by something that looked like a path up one of the San Andreas mountains. Turns out it was a path, and I spent 15 minutes following to the summit, where I nearly ran over a group of hikers. “Typical!” one of them yelled at me, as if he nearly gets run over by a rogue ATV on top of a mountain every time he goes on a hike.\n\nI could go on like this for ages. GTA V has an abundance of such moments, big and small, that make San Andreas – the city of Los Santos and its surrounding areas – feel like a living world where anything can happen. It both gives you tremendous freedom to explore an astonishingly well-realised world and tells a story that’s gripping, thrilling, and darkly comic. It is a leap forward in narrative sophistication for the series, and there’s no mechanical element of the gameplay that hasn’t been improved over Grand Theft Auto IV. It’s immediately noticeable that the cover system is more reliable and the auto-aim less touchy. The cars handle less like their tires are made of butter and stick better to the road, though their exaggerated handling still leaves plenty of room for spectacular wipeouts. And at long last, Rockstar has finally slain one of its most persistent demons, mission checkpointing, ensuring that you never have to do a long, tedious drive six times when you repeatedly fail a mission ever again.\n\n\nGrand Theft Auto V is also an intelligent, wickedly comic, and bitingly relevant commentary on contemporary, post-economic crisis America. Everything about it drips satire: it rips into the Millennial generation, celebrities, the far right, the far left, the middle class, the media... Nothing is safe from Rockstar’s sharp tongue, including modern video games. One prominent supporting character spends most of his time in his room shouting sexual threats at people on a headset whilst playing a first-person shooter called Righteous Slaughter (“Rated PG – pretty much the same as the last game.”) It’s not exactly subtle – he literally has the word “Entitled” tattooed on his neck, and the in-game radio and TV’s outright piss-takes don’t leave much to the imagination – but it is often extremely funny, and sometimes provocative with it. Grand Theft Auto’s San Andreas is a fantasy, but the things it satirises – greed, corruption, hypocrisy, the abuse of power – are all very real. If GTA IV was a targeted assassination of the American dream, GTA V takes aim at the modern American reality. The attention to detail that goes into making its world feel alive and believable is also what makes its satire so biting.\n\nGrand Theft Auto V’s plot happily operates at the boundaries of plausibility, sending you out to ride dirt bikes along the top of trains, hijack military aircraft, and engage in absurd shootouts with scores of policemen, but its three main characters are what keep it relatable even at its most extreme. The well-written and acted interplay between them provides the biggest laughs and most affecting moments, and the way that their relationships with one another developed and my opinion of them changed throughout the story gave the narrative its power. They feel like people – albeit extraordinarily f***ed-up people.\n\nMichael is a retired con man in his 40s, filling out around the middle as he drinks beside the pool in his Vinewood mansion with a layabout son, air-headed daughter, serially unfaithful wife, and very expensive therapist – all of whom hate him. Franklin is a young man from downtown Los Santos who laments the gang-banger stereotype even as he’s reluctantly seduced by the prospect of a bigger score. And then there’s Trevor, a volatile career criminal who lives in the desert selling drugs and murdering rednecks; a psychopath whose bloodthirsty lunacy is fuelled by a combination of methamphetamine and a seriously messed-up childhood.\n\n\nThe missions flit between their individual stories and an overarching plotline that involves all three, and it’s a credit to GTA V’s versatility and universal quality that each character has his share of standout missions. As their arcs developed I felt very differently about each of them at different times – they’re not entirely the archetypes that they seem to be.\n\nThis three-character structure makes for excellent pacing and great variety in the storyline, but it also allows Rockstar to compartmentalise different aspects of Grand Theft Auto’s personality. In doing so, it sidesteps some of the troubling disconnect that arose when Niko Bellic abruptly alternated between anti-violent philosophising and sociopathic killing sprees in GTA IV. Here, many of Michael’s missions revolve around his family and his past, Franklin is usually on call for vehicular mayhem, and extreme murderous rampages are left to Trevor. Each has a special ability suited to his skills – Franklin can to slow time while driving, for example – which gives them a unique touch. Narratively, it’s effective – even off-mission I found myself playing in character, acting like a mid-life-crisis guy with anger issues as Michael, a thrill-seeker as Franklin, and a maniac as Trevor. The first thing I did when Franklin finally made some good money was buy him an awesome car, because I felt like that’s what he’d want.\n\nTrevor feels a like a bit of a get-out-of-jail-free card for Rockstar, providing an outlet for all the preposterous antics and murderous behaviour that otherwise might not fit in with GTA V’s narrative ambitions. I found his violent insanity a little overblown and tiresome at first. As get-out clauses go, though, it’s pretty effective, and Trevor’s over-the-top missions are some of GTA V’s action-packed highlights. It’s a successful way of solving a problem that’s prevalent in open-world games: the tension between the story that the writers are trying to tell, and the story you create yourself within its systems and its world. Grand Theft Auto V accommodates both, masterfully, allowing neither to undermine the other.\n\n\nThe actual act of switching between them also provides a window into their individual lives and habits, fleshing out their personalities in a way that feels natural and novel. Pick a character and the camera zooms out over the San Andreas map, closing back in on wherever they happen to be. Michael might be at home watching TV when you drop in on him, or speeding along the motorway blasting ‘80s hits, or having a cigarette at the golf club; Franklin might be walking out of a strip club, munching a bag of snacks at home, or arguing with his ex-girlfriend; there’s a good chance that Trevor could be passed out half naked on a beach surrounded by dead bodies or, on one memorable occasion, drunk in a stolen police helicopter.\n\nIt could be nearly anything, because there is a bewildering multiplicity of things to do in the new San Andreas – tennis, yoga, hiking, racing on sea and on land, flying planes, golfing, cycling, diving, hunting, and more. The missions are an able guide to both San Andreas’ locations and its activities, touring you around the map and whetting your appetite for independent exploration of it all. The way that we’re introduced to San Andreas never feels artificial – the map is completely open from the start, for example – which contributes to the impression that it’s a real place, somewhere you can get to know. If GTA IV’s Liberty City feels like a living city, San Andreas feels like a living world. I saw people walking their dogs along the beach in the country as I jet-skied past, arguing on the street outside a cinema in Los Santos, and camped – with tents and everything – overnight on Mount Chiliad, before packing up and continuing a hike in the morning. It’s astounding.\n\nThe ambience changes dramatically depending on where you are, too. Trevor’s dusty trailer out in the middle of nowhere in Blaine County feels like a different world from downtown Los Santos or Vespucci Beach. It wasn’t until the first time I flew a plane out of the city and over the mountains I was cycling around a few hours before that the full scale of it became obvious. It pushes the Xbox 360 and PlayStation 3 further than it has any right to, and it looks incredible. The biggest jump in quality since Grand Theft Auto IV is the character animation, but the world is also much more expansive, detailed, and populous. The price we pay for that is occasional framerate dips and texture pop-in, which I found became more prominent the longer I played, but never significantly detracted from my experience. For such a gigantic and flexible world it’s also remarkably bug-free – I encountered just three minor issues in the 35 hours I spent on my first playthrough, none of which caused me to fail a mission.\n\n\nSan Andreas’s extraordinary sense of place is heightened by the fact that so much of it isn’t on the map. There’s so much going on that it’s easy to find things organically, rather than spend your life following a mission marker. I once stole a passenger jet from the airport for the hell of it, then parachuted onto the top of the tallest building in Los Santos. (I then accidentally jumped off the top and fell to my death, forgetting that I’d already used the parachute, but I usually leave that bit out.) Out driving in the country, I came across a man tied to a telephone pole in womens’ underwear. I chased down criminals who randomly swipe purses on the street, and happened across gunbattles between police and other miscreants, events that add a sense that this world isn’t completely uneventful if I wasn’t here to disrupt normalcy. I bought an expensive mountain bike and cycled around in the hills, enjoying the view. These little moments can be captured on your phone camera – which, brilliantly, can also take selfies. I have several snaps of Trevor doing his unhinged version of a smile in his underpants on top of a mountain.\n\nThe story that GTA V tells through its missions takes full advantage of all this variety beyond driving and shooting (though the driving and shooting is still supremely enjoyable). It’s got so many great moments. It had me racing Michael’s lazy blob of a son across Vespucci Beach in one of many misguided attempts at father-son bonding, using a thermal scope to search for someone from a helicopter before chasing them across the city on the ground, torching a meth lab, towing cars for Franklin’s crack-addict cousin to prevent him from losing his job, infiltrating a facility from the sea in a wetsuit and flippers, piloting a submarine, impersonating a construction worker, doing yoga, escaping on jet skis, failing multiple times to land a plane loaded with drugs at a hangar out in the desert… it goes on and on. The days of a repetitive series of “drive here, find this guy, shoot this guy” are behind us. Even missions that would otherwise be formulaic are imbued with novelty and excitement by the potential to play them from three different viewpoints – in a shootout, Trevor might be firing RPGs from a rooftop as Michael and Franklin flank the enemy on the ground.\n\nIt’s the heists – multi-stage, huge-scale events that serve as the story’s climactic peaks – that show Grand Theft Auto V at its most ambitious and accomplished. Usually there’s a choice between a more involved, stealthier option that will (hopefully) attract less heat, and an all-out option that will be less tense but more explosively chaotic – and what crew to take along with you on the job. All of GTA V’s missions are replayable at any time, letting you relive favourite moments or try out another approach. They also have optional objectives in the vein of Assassin’s Creed’s synchronisation challenges, but crucially, these are invisible the first time you play a mission, and so they don’t distract you from doing things your own way.\n\n\nSometimes your own way won’t be the way that the designers expected you to do something, and though Grand Theft Auto V is usually very good at bending around you when that happens, there were one or two occasions where it wasn’t prepared for my personal brand of chaos. Overtake a car you’re not supposed to overtake and it will zip through lines of traffic as if by magic. Despite the introduction of new stealth mechanics, enemies will miraculously see you when the mission dictates that they should. Kill someone before you’re supposed to, and that’s sometimes Mission Failed. Most of the time the scripting is good enough to be invisible, but when it’s not, you really notice it – if only because most of the time it’s so seamless.\n\nAs ever, some of the wittiest writing shows up on the in-game radio that plays behind all of the exploration and mayhem. “There’s nothing more successful, more masculine, more American than a big wad of cash,” blasts one of the in-game ads. “We know times are tough, but they don’t have to be tough for you. Still got some liquidity in your house? Are you insane?” The music selection is also typically excellent, leading to many of those serendipitous moments where you’re driving along and the perfect song comes on. During a heist, when the radio isn’t blaring the background, a dynamic soundtrack seriously builds tension.\n\nThe satire is helped by integration of modern life into the game world. Every character revolves around their smartphone – it’s used to trade stocks, call up friends to meet up and send emails. There’s a great Facebook spoof, Life Invader, on the in-game Interne, with the slogan “Where Your Personal Information Becomes A Marketing Profile (That We Can Sell)”. You’ll hear adverts for preposterous parodic TV shows that you can actually watch on your TV at home, optionally whilst enjoying a toke. It might not be realistic, but it definitely feels authentic.\n\n\nIt’s worth mentioning that when it comes to sex, drugs, and violence, GTA V pushes boundaries much further than ever before. If the morality police were worried about Hot Coffee, there’s a lot here that will provoke moral hysteria. It’s deliciously subversive, and firmly tongue in cheek... but once or twice, it pushes the boundaries of taste, too. There’s one particular scene, a torture scene in which you have no choice but to actively participate, that I found so troubling that I had difficulty playing it; even couched in obvious criticism of the US government’s recourse to torture post 9/11, it’s a shocking moment that will attract justified controversy. It brings to mind Call of Duty: Modern Warfare 2’s No Russian mission, except worse, and without the option to skip over it. Some other stuff, like the ever-present prostitution and extensive strip-club minigames, feels like it’s there just because it can be rather than because it has anything to say.\n\nThere is nothing in San Andreas, though, that doesn’t serve Rockstar’s purpose in creating an exaggerated projection of America that’s suffused with crime, violence and sleaze. There are no good guys in GTA V. Everyone you meet is a sociopath, narcissist, criminal, lunatic, sadist, cheat, liar, layabout, or some combination of those. Even a man who pays good money to assassinate Los Santos’ worst examples of corporate greed is playing the stock market to his advantage whilst he does it. In a world like this, it’s not hard to see why violence is so often the first recourse. All the pieces fit.\n\n\n');"
  },
  {
   "cell_type": "markdown",
   "id": "192d1262-ec14-4903-ab02-ad062142a3e8",
   "metadata": {
    "collapsed": false,
    "name": "cell19",
    "pycharm": {
     "name": "#%% md\n"
    }
   },
   "source": [
    "### COMPLETE  \n",
    "https://docs.snowflake.com/en/sql-reference/functions/complete-snowflake-cortex"
   ]
  },
  {
   "cell_type": "code",
   "id": "51378123-0019-49d9-a4d7-676975bc70fb",
   "metadata": {
    "language": "sql",
    "name": "cell7",
    "collapsed": false,
    "pycharm": {
     "name": "#%%\n"
    }
   },
   "outputs": [],
   "source": "---Need to leverage an LLM... this is as easy as SELECT too. Models are hosted and managed by Snowflake in a secure & scalable environment, just call the built-in function.  \n\nselect\n   REVIEW_TEXT, snowflake.cortex.complete(\n        'llama3-8b',\n        '[INST]\n### \nTell me based on the following game reviews, would the reviewer recommend the game to \\\ntheir friends and family? Answer should be only one of the following words - \\\n\"Likely\" or \"Unlikely\" or \"Unsure\". Make sure there are no additional additional text.\nReview -\n###' || REVIEW_TEXT) as CLEANED_REVIEWS\n     from  LAB_DATA.PUBLIC.REVIEWS limit 5",
   "execution_count": null
  },
  {
   "cell_type": "code",
   "id": "b899660c-b3ee-4eac-ae2b-1869ec7f56b2",
   "metadata": {
    "language": "sql",
    "name": "cell31",
    "collapsed": false
   },
   "outputs": [],
   "source": "---Need to leverage an LLM... this is as easy as SELECT too. Models are hosted and managed by Snowflake in a secure & scalable environment, just call the built-in function.  \n\nselect\n   REVIEW_TEXT, snowflake.cortex.complete(\n        'llama3-8b',\n        '[INST]\n### \nTell me based on the following game reviews, is there any toxic or offensive language in the text? Answer should be only one of the following words - \\\n\"Likely Toxic\" or \"Unlikely Toxic\" or \"Unsure\". Make sure there are no additional additional text.\nReview -\n###' || REVIEW_TEXT) as CLEANED_REVIEWS\n     from  LAB_DATA.PUBLIC.REVIEWS limit 5",
   "execution_count": null
  },
  {
   "cell_type": "code",
   "execution_count": null,
   "id": "9c84a730-1071-4e5c-ba08-13dac6405fca",
   "metadata": {
    "codeCollapsed": false,
    "collapsed": false,
    "language": "sql",
    "name": "cell20",
    "pycharm": {
     "name": "#%%\n"
    }
   },
   "outputs": [],
   "source": " \nselect\n    snowflake.cortex.complete(\n        'mistral-large',\n        'What are RockStar\\'s three most popular video games?  Return the answer in consice a JSON array object with NAME and RANK'\n    );"
  },
  {
   "cell_type": "code",
   "execution_count": null,
   "id": "6e69c3f1-e78e-4cd4-88b5-4cbe3ea26d65",
   "metadata": {
    "codeCollapsed": false,
    "collapsed": false,
    "language": "python",
    "name": "cell18",
    "pycharm": {
     "name": "#%%\n"
    }
   },
   "outputs": [],
   "source": "#Similarly we can call this easily from Python\ntopTitles = Complete(\n        \"mistral-large\",\n        \"What are Rockstar's three most popular video games?  Display answer in consice a JSON array object with NAME and RANK\"\n    )\n#can manipulate this json object\ntopTitlesJSON = json.loads(topTitles)\nfor title in topTitlesJSON:\n    print(str(title[\"RANK\"])+' '+title[\"NAME\"])"
  },
  {
   "cell_type": "code",
   "id": "fdfc05ae-7cd6-4142-95d0-dc9c0d5d8ea8",
   "metadata": {
    "language": "sql",
    "name": "cell8",
    "collapsed": false,
    "pycharm": {
     "name": "#%%\n"
    }
   },
   "outputs": [],
   "source": [
    "select * from LAB_DATA.PUBLIC.GAMES limit 10"
   ],
   "execution_count": null
  },
  {
   "cell_type": "code",
   "execution_count": null,
   "id": "81f9363d-ab70-4a55-be84-057439ca91b8",
   "metadata": {
    "codeCollapsed": false,
    "collapsed": false,
    "language": "sql",
    "name": "cell22",
    "pycharm": {
     "name": "#%%\n"
    }
   },
   "outputs": [],
   "source": [
    "---SQL to run the LLM over a table\n",
    "select\n",
    "    title,\n",
    "    summary,\n",
    "    snowflake.cortex.complete(\n",
    "        'llama3-8b',\n",
    "        CONCAT(\n",
    "            'You\\'re a game critic. I really like role playing games but I don\\'t like violience. Based on the summary between <summary> and </summary>, can you tell me if \n",
    "            this would be a good game for me? <summary>', summary, '</summary>'\n",
    "        )\n",
    "    ) as answer\n",
    "from\n",
    "    LAB_DATA.PUBLIC.VW_GAMES\n",
    "where developer = 'Rockstar Games'\n",
    "limit 5;"
   ]
  },
  {
   "cell_type": "code",
   "execution_count": null,
   "id": "07ab9fed-ba3f-44ec-b585-4f505b5c1f4c",
   "metadata": {
    "codeCollapsed": false,
    "collapsed": false,
    "language": "python",
    "name": "cell21",
    "pycharm": {
     "name": "#%%\n"
    }
   },
   "outputs": [],
   "source": [
    "#PYTHON to run the LLM over a table. \n",
    "df = session.table(\"LAB_DATA.PUBLIC.VW_GAMES\").filter(F.col('DEVELOPER') == 'Rockstar Games').select(\n",
    "    F.col(\"title\"),\n",
    "    Complete(\n",
    "        \"llama3-8b\",\n",
    "        F.concat(\n",
    "            F.lit(\"\"\"Based on the value between the <context> and </context> tags, please provide me with a list\n",
    "            of 3 similar games. Return the result as only a JSON array.  Be conscise.\n",
    "            <context>\"\"\"),\n",
    "            F.col(\"summary\"),\n",
    "            F.lit(\"</context>\"))\n",
    "    ).alias(\"similar_titles\")\n",
    ").limit(5)\n",
    "df.show()"
   ]
  },
  {
   "cell_type": "code",
   "id": "be9a2e3e-29ef-4637-a260-d8033b1cd958",
   "metadata": {
    "language": "python",
    "name": "cell33",
    "collapsed": false,
    "pycharm": {
     "name": "#%%\n"
    }
   },
   "outputs": [],
   "source": [
    "###easily save to table in SQL or Python\n",
    "df.write.mode(\"overwrite\").save_as_table(\"GAMES_SIMILAR\")"
   ],
   "execution_count": null
  },
  {
   "cell_type": "code",
   "id": "e23db7a1-c31f-47f1-81af-2ca97b44dd26",
   "metadata": {
    "language": "sql",
    "name": "cell34",
    "collapsed": false,
    "pycharm": {
     "name": "#%%\n"
    }
   },
   "outputs": [],
   "source": [
    "select * from GAMES_SIMILAR limit 5;"
   ],
   "execution_count": null
  },
  {
   "cell_type": "markdown",
   "id": "e5b7904b-b970-4c4b-b834-e3675c30a947",
   "metadata": {
    "collapsed": false,
    "name": "cell24",
    "pycharm": {
     "name": "#%% md\n"
    }
   },
   "source": [
    "### EMBED_TEXT\n",
    "https://docs.snowflake.com/sql-reference/functions/embed_text-snowflake-cortex"
   ]
  },
  {
   "cell_type": "code",
   "execution_count": null,
   "id": "ce31f9b4-b5b6-42a9-98e2-ec67386cb153",
   "metadata": {
    "codeCollapsed": false,
    "collapsed": false,
    "language": "sql",
    "name": "cell25",
    "pycharm": {
     "name": "#%%\n"
    }
   },
   "outputs": [],
   "source": [
    "select\n",
    "    snowflake.cortex.embed_text_768(\n",
    "        'snowflake-arctic-embed-m',\n",
    "        'I love video games'\n",
    "    );"
   ]
  },
  {
   "cell_type": "code",
   "execution_count": null,
   "id": "3db3d506-c323-4574-874c-5a12da40a31a",
   "metadata": {
    "codeCollapsed": false,
    "collapsed": false,
    "language": "sql",
    "name": "cell26",
    "pycharm": {
     "name": "#%%\n"
    }
   },
   "outputs": [],
   "source": [
    "select\n",
    "    summary,\n",
    "    snowflake.cortex.embed_text_768(\n",
    "        'snowflake-arctic-embed-m',\n",
    "        summary\n",
    "    ) as summary_embedding\n",
    "from\n",
    "    LAB_DATA.PUBLIC.GAMES\n",
    "limit 10;"
   ]
  },
  {
   "cell_type": "markdown",
   "id": "26dc9253-e399-4b3e-a319-cee27b2345ba",
   "metadata": {
    "collapsed": false,
    "name": "cell27",
    "pycharm": {
     "name": "#%% md\n"
    }
   },
   "source": [
    "### VECTOR DISTANCE CALCULATIONS  \n",
    "https://docs.snowflake.com/en/sql-reference/functions/vector_cosine_similarity"
   ]
  },
  {
   "cell_type": "code",
   "execution_count": null,
   "id": "9c038dd7-d6d8-435c-921d-c56707ddcb95",
   "metadata": {
    "codeCollapsed": false,
    "language": "sql",
    "name": "cell28",
    "collapsed": false,
    "pycharm": {
     "name": "#%%\n"
    }
   },
   "outputs": [],
   "source": [
    "select\n",
    "    vector_cosine_similarity(\n",
    "        snowflake.cortex.embed_text_768('snowflake-arctic-embed-m', 'California Contemporary style'),\n",
    "        snowflake.cortex.embed_text_768('snowflake-arctic-embed-m', 'California Contemporary style homes')\n",
    "    );"
   ]
  },
  {
   "cell_type": "code",
   "id": "6a08d8b3-d3ab-4689-a18a-d6c51bb86699",
   "metadata": {
    "language": "sql",
    "name": "cell12",
    "collapsed": false,
    "pycharm": {
     "name": "#%%\n"
    }
   },
   "outputs": [],
   "source": [
    "--snowflake own SOTA text embed model\n",
    "create or replace table GAMES_EMBED as select *,\n",
    "    snowflake.cortex.embed_text_768(\n",
    "        'snowflake-arctic-embed-m',\n",
    "        summary\n",
    "    ) as summary_embedding\n",
    "from\n",
    "    LAB_DATA.PUBLIC.GAMES"
   ],
   "execution_count": null
  },
  {
   "cell_type": "code",
   "execution_count": null,
   "id": "479dd89e-1620-478b-9a21-5040781d7a1a",
   "metadata": {
    "codeCollapsed": false,
    "language": "sql",
    "name": "cell29",
    "collapsed": false,
    "pycharm": {
     "name": "#%%\n"
    }
   },
   "outputs": [],
   "source": [
    "--use cosine similarity to find like titles\n",
    "select\n",
    "    b.title SIMILAR_TITLES, a.title TITLE_SEARCHED, \n",
    "    vector_cosine_similarity(\n",
    "        a.summary_embedding,\n",
    "        b.summary_embedding\n",
    "    ) as similarity\n",
    "from\n",
    "    GAMES_EMBED a\n",
    "    cross join GAMES_EMBED b\n",
    "where\n",
    "    a.title = 'NBA 2K23'\n",
    "order by\n",
    "    similarity desc\n",
    "limit 20;"
   ]
  },
  {
   "cell_type": "markdown",
   "id": "ecf4ff13-323e-4d7c-912f-18d54421db13",
   "metadata": {
    "name": "cell35",
    "collapsed": false,
    "pycharm": {
     "name": "#%% md\n"
    }
   },
   "source": [
    "## Retrieval-Augmented Generation (RAG) \n",
    "is the process of optimizing the output of a large language model, so it references an authoritative knowledge base outside of its training data sources before generating a response.\n",
    "We do this in two steps when querying the LLM\n",
    "1. First we take the question and get the relevant data using vector cosine similarities (as shown above)\n",
    "2. Next we use that relevant data in the prompt to the LLM with our question"
   ]
  },
  {
   "cell_type": "code",
   "id": "b2063685-eee5-48b5-a7ad-8ee2d6670224",
   "metadata": {
    "language": "python",
    "name": "cell16",
    "collapsed": false,
    "pycharm": {
     "name": "#%%\n"
    }
   },
   "outputs": [],
   "source": [
    "#question = \"\"\"What Cities does GTA V Take Place In?\"\"\"\n",
    "#question = \"\"\"Is Lebron James featured in any NBA 2K games?\"\"\"\n",
    "question = \"\"\"What year is Grand Theft Auto: Vice City set in?\"\"\""
   ],
   "execution_count": null
  },
  {
   "cell_type": "code",
   "id": "7ffed6e6-8e8d-4145-bb2b-522d0346e5c0",
   "metadata": {
    "language": "python",
    "name": "cell17",
    "collapsed": false,
    "pycharm": {
     "name": "#%%\n"
    }
   },
   "outputs": [],
   "source": [
    "#step 1 get the relvant data\n",
    "relevant_titles = session.sql(f\"\"\"\n",
    "   select\n",
    "            title, summary,\n",
    "            vector_cosine_similarity(\n",
    "                summary_embedding,\n",
    "                snowflake.cortex.embed_text_768(\n",
    "                  'snowflake-arctic-embed-m',\n",
    "                  '{question}'\n",
    "                )\n",
    "            ) as similarity\n",
    "        from\n",
    "            GAMES_EMBED\n",
    "  order by\n",
    "      similarity desc\n",
    "  limit 10\"\"\") \n",
    "relevant_titles.show()"
   ],
   "execution_count": null
  },
  {
   "cell_type": "code",
   "id": "d3b4ef78-8011-44d6-8bb9-362237602572",
   "metadata": {
    "language": "python",
    "name": "cell32",
    "collapsed": false,
    "pycharm": {
     "name": "#%%\n"
    }
   },
   "outputs": [],
   "source": [
    "#step 2 feed to the LLM using a specific prompt\n",
    "info = '. | '.join([x[0] for x in relevant_titles.select(\"*\").collect()]).replace(\"'\", \"\")\n",
    "prompt = f\"\"\"\n",
    "            You are a video game expert. Please provide knowledge and guidance to the questions in the tags <question> and </question> based on the provided \n",
    "            context found between the tags <context> and </context>.\n",
    "\n",
    "            <context>\n",
    "            '{info}'\n",
    "            </context>\n",
    "            <question>\n",
    "            '{question}'\n",
    "            </question>\n",
    "            Answer: \"\"\"\n",
    "query = \"\"\"\n",
    "      select\n",
    "          snowflake.cortex.complete(\n",
    "              ?, \n",
    "              ?\n",
    "          ) as response\n",
    "      \"\"\"\n",
    "complete = session.sql(query, params=['mistral-large', prompt])\n",
    "with st.chat_message(name=\"Assistant\"):\n",
    "    st.write(complete.collect()[0][0])"
   ],
   "execution_count": null
  },
  {
   "cell_type": "markdown",
   "id": "10874acf-a334-461a-8ec0-40fe7c62e1d8",
   "metadata": {
    "name": "cell23",
    "collapsed": false,
    "pycharm": {
     "name": "#%% md\n"
    }
   },
   "source": [
    "# UI to Easily Create Chat Bots with (RAG & Search) is coming!\n",
    "A Summit our head of product randomly chose someone from the audience to create a chatbot in Snowflake.  They had only logged into Snowflake 7 times and were able to create a RAG chat bot using the new UI in minutes."
   ]
  },
  {
   "cell_type": "markdown",
   "id": "3d3c9d63-30b5-4fa9-a1ae-71b7e125676b",
   "metadata": {
    "name": "cell11",
    "collapsed": false,
    "pycharm": {
     "name": "#%% md\n"
    }
   },
   "source": [
    "## Fine Tuning Too\n",
    "Snowflake is making this easy too, you supply your training data to the model via a table and you get an additional version of the model...fine tuned to your task.\n",
    "Fine tuning can be the best combo of results and cost. Dont have training data?  Use a more expensive LLM to score a set of data and train a smaller, cheaper one. Boom cheap and effective.\n",
    "\n",
    "[Snowflake Fine Tuning Docs](https://docs.snowflake.com/en/user-guide/snowflake-cortex/cortex-finetuning?_fsi=wWDeqSCS&_fsi=wWDeqSCS)\n",
    "\n",
    "[Snowflake Fine Tuning Workshop](https://quickstarts.snowflake.com/guide/finetuning_llm_using_snowflake_cortex_ai/index.html?index=..%2F..index#2)"
   ]
  }
 ]
}