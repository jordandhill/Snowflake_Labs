{
 "metadata": {
  "kernelspec": {
   "display_name": "Streamlit Notebook",
   "name": "streamlit"
  }
 },
 "nbformat_minor": 5,
 "nbformat": 4,
 "cells": [
  {
   "cell_type": "code",
   "id": "3775908f-ca36-4846-8f38-5adca39217f2",
   "metadata": {
    "language": "python",
    "name": "cell1",
    "collapsed": false
   },
   "source": "###Notebooks loads a model from hugging face and CREATES A SQL FUNCTION to accept TEXT and return the scored result\n###\n\n\n####TO USE THIS YOU NEED TO CREATE External Access Integration (EAI) for Hugging Face\n\n#\n#-- create network rule and eai\n#CREATE OR REPLACE NETWORK RULE hf_network_rule\n#  MODE = EGRESS\n#  TYPE = HOST_PORT\n#  VALUE_LIST = ('huggingface.co','cdn-lfs-us-1.huggingface.co');\n#\n#CREATE OR REPLACE EXTERNAL ACCESS INTEGRATION hf_access_integration\n#  ALLOWED_NETWORK_RULES = (hf_network_rule)\n#  ENABLED = true;\n#\n#  \n#ALTER NOTEBOOK HUGGIN_NOTEBOOK\n#SET EXTERNAL_ACCESS_INTEGRATIONS=(hf_access_integration);\n\n\n###YOU ALSO SHOULD HAVE A STAGE (@lyrics_input) with a docx file for profanity detection.  \n#The code can be adjusted to use a table or text file for model input\n\n\n# Import python packages\nimport streamlit as st\nimport pandas as pd\nimport warnings\nimport io\nfrom snowflake.snowpark.session import Session\nimport snowflake.snowpark.functions as F\nimport snowflake.snowpark.types as T\nfrom snowflake.snowpark.functions import col\nfrom snowflake.ml.registry import Registry\nfrom snowflake.ml.model.model_signature import FeatureSpec, DataType, ModelSignature\nimport os\nos.environ['HF_HOME'] = '/tmp'\nwarnings.filterwarnings(\"ignore\")\n#hugging face library to pull open source models\nfrom transformers import pipeline\n\nfrom datetime import datetime\nnow = datetime.now()\ndt_string = now.strftime(\"%Y/%m/%d %H:%M:%S\")\ndt_string\n\n",
   "execution_count": null,
   "outputs": []
  },
  {
   "cell_type": "code",
   "id": "10b9d368-c8ca-4d43-825d-bf611e15d2b3",
   "metadata": {
    "language": "python",
    "name": "cell11",
    "collapsed": false
   },
   "outputs": [],
   "source": "#setting variables to model names we want to work with from hugging face --- open source models will be IMPORTED and hosted in Snowflake\n#choice of model is VERY flexible, can be llama-3, specialized, etc.\n#this model returns a confidence level that the text is offensive\n#you can easily change this to a model that provides more detail about why its offensive\n\n#model_name = 'martin-ha/toxic-comment-model'\nmodel_name = 'parsawar/profanity_model2.0'\n#model_name = 'JungleLee/bert-toxic-comment-classification'\n#model_name = 'citizenlab/distilbert-base-multilingual-cased-toxicity'\n#model_name = 'pykeio/lite-toxic-comment-classification'\n\nsave_model_name = model_name.replace('-','_').replace('/','_').replace('.','')+'_custom'\n",
   "execution_count": null
  },
  {
   "cell_type": "code",
   "id": "82c6db51-0a80-4717-b9ce-57a67c398ded",
   "metadata": {
    "language": "python",
    "name": "cell6",
    "collapsed": false
   },
   "outputs": [],
   "source": "#get a snowflake session object\nfrom snowflake.snowpark.context import get_active_session\nsession = get_active_session()\n\n#confirm the schema/db/wh we are using\nprint('Role:     ', session.get_current_role())\nprint('Warehouse:', session.get_current_warehouse())\nprint('Database: ', session.get_current_database())\nprint('Schema:   ', session.get_current_schema())\n",
   "execution_count": null
  },
  {
   "cell_type": "code",
   "id": "d970e8bd-4a91-490d-8a80-80eecad32815",
   "metadata": {
    "language": "python",
    "name": "cell2",
    "collapsed": false
   },
   "outputs": [],
   "source": "#snowflake ml registry object to save models and load models\nreg = Registry(\n    session=session, \n    database_name=session.get_current_database(), \n    schema_name=session.get_current_schema()\n    )\n",
   "execution_count": null
  },
  {
   "cell_type": "code",
   "id": "63d8f736-0b81-46d8-ac32-d9ec17199fe0",
   "metadata": {
    "language": "python",
    "name": "cell5",
    "collapsed": false
   },
   "outputs": [],
   "source": "# Get the  model from Huggingface\n# Make sure it fits into a Snowflake warehouse and does not require GPU, because we are using regular warehouses today\n# typically use Snowpark WH because models are big\n# Otherwise the model must deployed in Snowpark Container Services\npipe = pipeline(\"text-classification\", model=model_name)",
   "execution_count": null
  },
  {
   "cell_type": "code",
   "id": "c695373e-ac74-4b62-a1f1-08206cbd5c81",
   "metadata": {
    "language": "python",
    "name": "cell3",
    "collapsed": false
   },
   "source": "#OPTION 1\n# Customize our model signature (input / outputs)\nmodel_sig = ModelSignature(\n                  inputs=[\n                      FeatureSpec(dtype=DataType.STRING, name='TEXT')\n                      #, FeatureSpec(dtype=DataType.BOOLEAN, name='aggregate')\n                      ],\n                      outputs=[\n                          FeatureSpec(dtype=DataType.STRING, name='label'),\n                          FeatureSpec(dtype=DataType.DOUBLE, name='score')\n                      ]\n                  )\n\n\n\n# Register/Save the model to Snowflake\nsnow_model_custom = reg.log_model(\n    pipe, \n    model_name=  save_model_name, \n    signatures={'predict':model_sig},\n    conda_dependencies=['tokenizers','transformers']\n    )\n\n",
   "execution_count": null,
   "outputs": []
  },
  {
   "cell_type": "code",
   "id": "23f4dde1-ea89-438f-8ab2-ceca90836144",
   "metadata": {
    "language": "python",
    "name": "cell13",
    "collapsed": false
   },
   "outputs": [],
   "source": "#CHECK IT WORKED:\n#run the model we just loaded/registered\n\n# Initialize test data\ndf = session.create_dataframe(\n        [{'TEXT': 'You are awesome bro!'},\n        {'TEXT': 'You are a terrible person and so smelly!'}]\n)\n \nsentiment_values = snow_model_custom.run(df).cache_result()\nsentiment_values.show(n=15, max_width=1000)",
   "execution_count": null
  },
  {
   "cell_type": "code",
   "id": "d37db3b0-e377-413f-9ae2-f7e0f4b9345c",
   "metadata": {
    "language": "python",
    "name": "cell4",
    "collapsed": false
   },
   "outputs": [],
   "source": "#easily write results to table\nsentiment_values.write.save_as_table(\"MY_SENTIMENT_RESULTS\", mode=\"append\")",
   "execution_count": null
  },
  {
   "cell_type": "code",
   "id": "b4d4e754-282a-434b-9de4-cff0bbf7ecc4",
   "metadata": {
    "language": "python",
    "name": "cell8",
    "collapsed": false
   },
   "outputs": [],
   "source": "print(save_model_name)",
   "execution_count": null
  },
  {
   "cell_type": "code",
   "id": "17e6f03c-52f9-4980-8274-84fa2b8ba8a5",
   "metadata": {
    "language": "sql",
    "name": "cell7",
    "collapsed": false
   },
   "outputs": [],
   "source": "--call from SQL!\n\nselect parsawar_profanity_model20_custom!predict('You are awesome') as scored_result",
   "execution_count": null
  }
 ]
}