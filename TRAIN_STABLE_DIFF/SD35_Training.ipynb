{
 "metadata": {
  "kernelspec": {
   "display_name": "Streamlit Notebook",
   "name": "streamlit"
  }
 },
 "nbformat_minor": 5,
 "nbformat": 4,
 "cells": [
  {
   "cell_type": "code",
   "id": "c1784135-f198-464e-84fe-4a5860c4e13b",
   "metadata": {
    "language": "python",
    "name": "cell8",
    "collapsed": false,
    "resultHeight": 0
   },
   "outputs": [],
   "source": "import os",
   "execution_count": null
  },
  {
   "cell_type": "code",
   "id": "42abed18-c9af-4a01-b38c-d266106be47b",
   "metadata": {
    "language": "python",
    "name": "cell26",
    "collapsed": false,
    "resultHeight": 0
   },
   "outputs": [],
   "source": "###Pick the Model that we would like to train on\n\n#model_id = \"stabilityai/stable-diffusion-3-medium\"\n#model_id = \"stabilityai/stable-diffusion-3-medium-diffusers\"\nmodel_id = \"stabilityai/stable-diffusion-3.5-medium\"\nprompt_text = \"a photo of sks dog at the beach\"\ndimension = 512",
   "execution_count": null
  },
  {
   "cell_type": "code",
   "id": "be7b5b33-d473-49c6-a268-b1e251752757",
   "metadata": {
    "language": "python",
    "name": "cell4",
    "collapsed": false,
    "resultHeight": 172
   },
   "outputs": [],
   "source": "#install the latest diffusers libraries and scripts\n!git clone https://github.com/huggingface/diffusers",
   "execution_count": null
  },
  {
   "cell_type": "code",
   "id": "dff2ec1a-3089-4e1c-bdd5-f6d3517bc777",
   "metadata": {
    "language": "python",
    "name": "cell9",
    "collapsed": false,
    "resultHeight": 1468
   },
   "outputs": [],
   "source": "#install additional libraries required for SD3\nos.chdir(\"diffusers\")\n!pip install -e .",
   "execution_count": null
  },
  {
   "cell_type": "code",
   "id": "c6d42cab-0298-4a82-b639-b7196ab57efb",
   "metadata": {
    "language": "python",
    "name": "cell10",
    "collapsed": false,
    "resultHeight": 66
   },
   "outputs": [],
   "source": "#install dreambooth to help with training\nos.chdir(\"examples/dreambooth\")\n!pip install -r requirements_sd3.txt > sd3_install.log",
   "execution_count": null
  },
  {
   "cell_type": "code",
   "id": "42058be2-d4ea-45b4-9097-5ae6db667117",
   "metadata": {
    "language": "python",
    "name": "cell6",
    "collapsed": false,
    "resultHeight": 111
   },
   "outputs": [],
   "source": "#create a hugging face session which allows us to download gated models\nmy_token = get_generic_secret_string(\"my_hf_token\")\nfrom huggingface_hub import login(token=my_token)\n",
   "execution_count": null
  },
  {
   "cell_type": "code",
   "id": "b958c785-7a38-40c5-ab01-3f1bdb8ef5ef",
   "metadata": {
    "language": "python",
    "name": "cell2",
    "collapsed": false,
    "resultHeight": 110
   },
   "outputs": [],
   "source": "from huggingface_hub import snapshot_download\n\nlocal_dir = \"./dog\"\nsnapshot_download(\n    \"diffusers/dog-example\",\n    local_dir=local_dir,\n    repo_type=\"dataset\",\n    ignore_patterns=\".gitattributes\",\n)",
   "execution_count": null
  },
  {
   "cell_type": "code",
   "id": "74a7516b-f3bd-42d4-b635-96cee9f839bd",
   "metadata": {
    "language": "python",
    "name": "cell16",
    "collapsed": false,
    "resultHeight": 0
   },
   "outputs": [],
   "source": "os.chdir(\"dog\")\n!rm -r .cache\nos.chdir('..')",
   "execution_count": null
  },
  {
   "cell_type": "code",
   "id": "41c2da63-8561-47d6-b921-aedd1b04fb4b",
   "metadata": {
    "language": "python",
    "name": "cell13",
    "collapsed": false,
    "resultHeight": 0
   },
   "outputs": [],
   "source": "#create a config file for accelerate. accelerate is a hugging face library to simplify training\nfrom accelerate.utils import write_basic_config\nwrite_basic_config()\n\n#this config is for a single medium GPU pool, but you can adjust as needed for your workload\nyaml_content = \"\"\"\ncompute_environment: LOCAL_MACHINE\ndistributed_type: MULTI_GPU\nnum_processes: 4\nnum_machines: 1\nmachine_rank: 0\nuse_cpu: false\nmixed_precision: \"bf16\"\nmain_training_function: main\ndowncast_bf16: 'no'\n\"\"\"\nwith open('/root/.cache/huggingface/accelerate/default_config.yaml', 'w') as file:\n#with open('accelerate_config.yaml', 'w') as file:\n    file.write(yaml_content)\n\n",
   "execution_count": null
  },
  {
   "cell_type": "code",
   "id": "00116f7c-b8a5-4ca2-acd5-227481790095",
   "metadata": {
    "language": "python",
    "name": "cell31",
    "collapsed": false,
    "resultHeight": 0
   },
   "outputs": [],
   "source": "#this is the accelerate script that allows us to pass general parameters for fine tuning\n!accelerate launch train_dreambooth_lora_sd3.py \\\n  --pretrained_model_name_or_path=\"{model_id}\" \\\n  --instance_data_dir=\"dog\" \\\n  --output_dir=\"./path_to_saved_model\" \\\n  --gradient_checkpointing \\\n  --mixed_precision=\"bf16\" \\\n  --instance_prompt=\"a photo of sks dog\" \\\n  --resolution=512 \\\n  --train_batch_size=1 \\\n  --gradient_accumulation_steps=1 \\\n  --learning_rate=1e-4 \\\n  --lr_scheduler=\"constant\" \\\n  --lr_warmup_steps=0 \\\n  --max_train_steps=500 \\\n  --seed=\"42424242\"  > output.log 2>&1",
   "execution_count": null
  },
  {
   "cell_type": "code",
   "id": "3cb0ddcf-3833-4613-8755-059f949b4854",
   "metadata": {
    "language": "python",
    "name": "cell12",
    "collapsed": false,
    "resultHeight": 2662
   },
   "outputs": [],
   "source": "#in case you want to see errors/progress of your training. \n#once you see success in the log, you know your model is ready\n#note: downloading models takes time!\n!cat output.log",
   "execution_count": null
  },
  {
   "cell_type": "code",
   "id": "c353299b-a7eb-4b3f-b772-efbeb42b7457",
   "metadata": {
    "language": "python",
    "name": "cell20",
    "collapsed": false,
    "resultHeight": 0
   },
   "outputs": [],
   "source": "#create a snowflake session in this notebook, we can use this to access functionality in snowflake\nfrom snowflake.snowpark.context import get_active_session\nsession = get_active_session()",
   "execution_count": null
  },
  {
   "cell_type": "code",
   "id": "e8b59f21-e0cc-4ef3-b9c5-4bde4913750f",
   "metadata": {
    "language": "python",
    "name": "cell40",
    "collapsed": false,
    "resultHeight": 54
   },
   "outputs": [],
   "source": "# we can save the model to our stage with a unique name\nfrom datetime import datetime\nnow = datetime.now()\ndt_string = now.strftime(\"%Y_%m_%d_%H%M%S\")\n\nput_result = session.file.put(\"./path_to_saved_model/pytorch_lora_weights.safetensors\",\"@artifacts/models/SD3Med_MyModel_\"+dt_string, auto_compress= False)\nput_result[0].status",
   "execution_count": null
  }
 ]
}