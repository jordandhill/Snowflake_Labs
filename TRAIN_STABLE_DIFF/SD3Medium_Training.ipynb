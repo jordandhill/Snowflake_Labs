{
 "metadata": {
  "kernelspec": {
   "display_name": "Streamlit Notebook",
   "name": "streamlit"
  }
 },
 "nbformat_minor": 5,
 "nbformat": 4,
 "cells": [
  {
   "cell_type": "code",
   "id": "c1784135-f198-464e-84fe-4a5860c4e13b",
   "metadata": {
    "language": "python",
    "name": "cell8",
    "collapsed": false,
    "resultHeight": 0,
    "pycharm": {
     "name": "#%%\n"
    }
   },
   "outputs": [],
   "source": [
    "#import standard libaries\n",
    "import os\n",
    "from snowflake.snowpark.context import get_active_session\n",
    "session = get_active_session()"
   ],
   "execution_count": null
  },
  {
   "cell_type": "code",
   "id": "df12ee05-18c2-41e0-b28c-172896207115",
   "metadata": {
    "language": "python",
    "name": "cell1",
    "resultHeight": 0,
    "pycharm": {
     "name": "#%%\n"
    }
   },
   "outputs": [],
   "source": [
    "my_hf_token = 'XXX'\n",
    "from huggingface_hub import login\n",
    "login(token=my_hf_token)"
   ],
   "execution_count": null
  },
  {
   "cell_type": "code",
   "id": "42abed18-c9af-4a01-b38c-d266106be47b",
   "metadata": {
    "language": "python",
    "name": "Constants",
    "collapsed": false,
    "resultHeight": 0,
    "pycharm": {
     "name": "#%%\n"
    }
   },
   "outputs": [],
   "source": [
    "###Pick the Model that we would like to train on, set some constants\n",
    "model_id = \"stabilityai/stable-diffusion-3-medium-diffusers\"\n",
    "prompt_text = \"a photo of JordanHillsDhalia flower\"\n",
    "dimension = 512\n"
   ],
   "execution_count": null
  },
  {
   "cell_type": "code",
   "id": "be7b5b33-d473-49c6-a268-b1e251752757",
   "metadata": {
    "language": "python",
    "name": "cell4",
    "collapsed": false,
    "resultHeight": 0,
    "pycharm": {
     "name": "#%%\n"
    }
   },
   "outputs": [],
   "source": [
    "#install the latest diffusers libraries and scripts\n",
    "!git clone https://github.com/huggingface/diffusers"
   ],
   "execution_count": null
  },
  {
   "cell_type": "code",
   "id": "dff2ec1a-3089-4e1c-bdd5-f6d3517bc777",
   "metadata": {
    "language": "python",
    "name": "cell9",
    "collapsed": false,
    "resultHeight": 0,
    "pycharm": {
     "name": "#%%\n"
    }
   },
   "outputs": [],
   "source": [
    "#install additional libraries required for SD3\n",
    "os.chdir(\"diffusers\")\n",
    "!pip install -e ."
   ],
   "execution_count": null
  },
  {
   "cell_type": "code",
   "id": "c6d42cab-0298-4a82-b639-b7196ab57efb",
   "metadata": {
    "language": "python",
    "name": "cell10",
    "collapsed": false,
    "resultHeight": 0,
    "pycharm": {
     "name": "#%%\n"
    }
   },
   "outputs": [],
   "source": [
    "#install dreambooth to help with training\n",
    "os.chdir(\"examples/dreambooth\")\n",
    "!pip install -r requirements_sd3.txt > sd3_install.log\n"
   ],
   "execution_count": null
  },
  {
   "cell_type": "code",
   "id": "41c2da63-8561-47d6-b921-aedd1b04fb4b",
   "metadata": {
    "language": "python",
    "name": "cell13",
    "collapsed": false,
    "resultHeight": 0,
    "pycharm": {
     "name": "#%%\n"
    }
   },
   "outputs": [],
   "source": [
    "#create a config file for accelerate. accelerate is a hugging face library to simplify training\n",
    "from accelerate.utils import write_basic_config\n",
    "write_basic_config()\n",
    "\n",
    "#this config is for a single medium GPU pool, but you can adjust as needed for your workload\n",
    "yaml_content = \"\"\"\n",
    "compute_environment: LOCAL_MACHINE\n",
    "distributed_type: MULTI_GPU\n",
    "num_processes: 4\n",
    "num_machines: 1\n",
    "machine_rank: 0\n",
    "use_cpu: false\n",
    "mixed_precision: \"bf16\"\n",
    "main_training_function: main\n",
    "downcast_bf16: 'no'\n",
    "\"\"\"\n",
    "with open('/root/.cache/huggingface/accelerate/default_config.yaml', 'w') as file:\n",
    "#with open('accelerate_config.yaml', 'w') as file:\n",
    "    file.write(yaml_content)\n",
    "\n"
   ],
   "execution_count": null
  },
  {
   "cell_type": "code",
   "id": "c4cc8291-2eff-4671-83a6-59b86ef97a17",
   "metadata": {
    "language": "python",
    "name": "cell3",
    "collapsed": false,
    "resultHeight": 0,
    "pycharm": {
     "name": "#%%\n"
    }
   },
   "outputs": [],
   "source": [
    "!pip install bitsandbytes"
   ],
   "execution_count": null
  },
  {
   "cell_type": "code",
   "id": "a3cf6437-4202-4286-9f2a-c7eed0bf7d1b",
   "metadata": {
    "language": "python",
    "name": "cell2",
    "resultHeight": 0,
    "collapsed": false,
    "pycharm": {
     "name": "#%%\n"
    }
   },
   "outputs": [],
   "source": [
    "#--report_to=\"wandb\" \\\n",
    "!accelerate launch train_dreambooth_lora_sd3.py \\\n",
    "--pretrained_model_name_or_path=\"{model_id}\" \\\n",
    "--instance_data_dir=\"/home/app/images\" \\\n",
    "--output_dir=\"./path_to_saved_model\" \\\n",
    "--mixed_precision=\"bf16\" \\\n",
    "--instance_prompt \"{prompt_text}\" \\\n",
    "--resolution={dimension} \\\n",
    "--train_batch_size=3 \\\n",
    "--gradient_accumulation_steps=4 \\\n",
    "--learning_rate=0.0001 \\\n",
    "--lr_scheduler=\"constant\" \\\n",
    "--lr_warmup_steps=0 \\\n",
    "--max_train_steps=500 \\\n",
    "--weighting_scheme=\"logit_normal\" \\\n",
    "--use_8bit_adam \\\n",
    "--gradient_checkpointing \\\n",
    "--prior_generation_precision=\"bf16\" \\\n",
    "--seed=\"4242\"  > output.log 2>&1"
   ],
   "execution_count": null
  },
  {
   "cell_type": "code",
   "id": "3cb0ddcf-3833-4613-8755-059f949b4854",
   "metadata": {
    "language": "python",
    "name": "cell12",
    "collapsed": false,
    "resultHeight": 0,
    "pycharm": {
     "name": "#%%\n"
    }
   },
   "outputs": [],
   "source": [
    "#in case you want to see errors/progress of your training. \n",
    "#once you see success in the log, you know your model is ready\n",
    "#note: downloading models takes time!\n",
    "!cat output.log"
   ],
   "execution_count": null
  },
  {
   "cell_type": "code",
   "id": "c353299b-a7eb-4b3f-b772-efbeb42b7457",
   "metadata": {
    "language": "python",
    "name": "cell20",
    "collapsed": false,
    "resultHeight": 0,
    "pycharm": {
     "name": "#%%\n"
    }
   },
   "outputs": [],
   "source": [
    "#create a snowflake session in this notebook, we can use this to access functionality in snowflake\n",
    "from snowflake.snowpark.context import get_active_session\n",
    "session = get_active_session()"
   ],
   "execution_count": null
  },
  {
   "cell_type": "code",
   "id": "e8b59f21-e0cc-4ef3-b9c5-4bde4913750f",
   "metadata": {
    "language": "python",
    "name": "Save",
    "collapsed": false,
    "resultHeight": 0,
    "pycharm": {
     "name": "#%%\n"
    }
   },
   "outputs": [],
   "source": [
    "# we can save the model to our stage with a unique name\n",
    "from datetime import datetime\n",
    "now = datetime.now()\n",
    "dt_string = now.strftime(\"%Y_%m_%d_%H%M%S\")\n",
    "\n",
    "put_result = session.file.put(\"./path_to_saved_model/pytorch_lora_weights.safetensors\",\"@artifacts/models/SD3Med_MyModel_\"+dt_string, auto_compress= False)\n",
    "put_result[0].status"
   ],
   "execution_count": null
  }
 ]
}