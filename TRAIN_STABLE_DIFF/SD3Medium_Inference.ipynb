{
 "metadata": {
  "kernelspec": {
   "display_name": "Streamlit Notebook",
   "name": "streamlit"
  }
 },
 "nbformat_minor": 5,
 "nbformat": 4,
 "cells": [
  {
   "cell_type": "code",
   "id": "c1784135-f198-464e-84fe-4a5860c4e13b",
   "metadata": {
    "language": "python",
    "name": "cell8",
    "collapsed": false,
    "resultHeight": 0
   },
   "outputs": [],
   "source": "import os\nfrom snowflake.snowpark.context import get_active_session\nsession = get_active_session()",
   "execution_count": null
  },
  {
   "cell_type": "code",
   "id": "379adc26-253d-433b-8c43-0e17adaeb78c",
   "metadata": {
    "language": "python",
    "name": "cell1",
    "resultHeight": 0
   },
   "outputs": [],
   "source": "my_hf_token = 'XXX'\nfrom huggingface_hub import login\nlogin(token=my_hf_token)",
   "execution_count": null
  },
  {
   "cell_type": "code",
   "id": "42abed18-c9af-4a01-b38c-d266106be47b",
   "metadata": {
    "language": "python",
    "name": "cell26",
    "collapsed": false,
    "resultHeight": 0
   },
   "outputs": [],
   "source": "model_id = \"stabilityai/stable-diffusion-3-medium-diffusers\"\nprompt_text = \"a photo of JordanHillsDhalia flower in a vase on a window sill with snow outside\"\ndimension = 512\n#!!! Update the date string in the path to your model, check the stage to see that its there\n#'@\"MY_FINETUNING_DB\".\"NOTEBOOKS\".\"ARTIFACTS\"/models//pytorch_lora_weights.safetensors'\npath_to_my_model = \"@ARTIFACTS/models/SD3Med_MyModel_2024_11_15_161310/pytorch_lora_weights.safetensors\"",
   "execution_count": null
  },
  {
   "cell_type": "code",
   "id": "28e6958a-52f0-4b76-b113-ca7625b1b5c5",
   "metadata": {
    "language": "python",
    "name": "cell32",
    "collapsed": false,
    "resultHeight": 0
   },
   "outputs": [],
   "source": "get_result = session.file.get(path_to_my_model, \"pytorch_lora_weights.safetensors\")",
   "execution_count": null
  },
  {
   "cell_type": "code",
   "id": "c884a2ff-6d3e-4fae-a525-01324dda2840",
   "metadata": {
    "language": "python",
    "name": "cell3",
    "collapsed": false,
    "resultHeight": 0
   },
   "outputs": [],
   "source": "!pip install diffusers",
   "execution_count": null
  },
  {
   "cell_type": "code",
   "id": "ddeeb951-4ec6-4218-b95f-ded27f695bee",
   "metadata": {
    "language": "python",
    "name": "cell5",
    "collapsed": false,
    "resultHeight": 0
   },
   "outputs": [],
   "source": "!pip install bitsandbytes\n!pip install -U peft",
   "execution_count": null
  },
  {
   "cell_type": "code",
   "id": "8530e41d-28c4-4651-b657-552de935030a",
   "metadata": {
    "language": "python",
    "name": "cell2",
    "resultHeight": 0
   },
   "outputs": [],
   "source": "import torch\nfrom diffusers import DiffusionPipeline",
   "execution_count": null
  },
  {
   "cell_type": "code",
   "id": "78b84eee-1204-4a55-9f4a-8667ffd78eef",
   "metadata": {
    "language": "python",
    "name": "cell6",
    "resultHeight": 0,
    "collapsed": false
   },
   "outputs": [],
   "source": "from datetime import datetime\nnow = datetime.now()\ndt_string = now.strftime(\"%Y_%m_%d_%H%M%S\")\n\n\nseed_value=4242\ngenerator=torch.Generator().manual_seed(seed_value)\n\n\nimage_name = \"generated_image_sd3_\" + dt_string+\".png\"\n\npipe_id = model_id\npipe = DiffusionPipeline.from_pretrained(pipe_id, torch_dtype=torch.float16\n                                         , text_encoder_3=None, tokenizer_3=None)\npipe.enable_model_cpu_offload()\npipe.load_lora_weights(\"pytorch_lora_weights.safetensors\", adapter_name=\"trained\")\npipe.fuse_lora(adapter_names=[\"trained\"], lora_scale=0.9)\n\n\n\nimage = pipe(\n    prompt=prompt_text,\n    negative_prompt=\"\",\n    num_inference_steps=28,\n    height=512,\n    width=512,\n    guidance_scale=7.0,\n    generator=generator,\n).images[0]\nimage.save(image_name)\nput_result = session.file.put(image_name,\"@artifacts/output/my_gen_images/\", auto_compress= False)\nput_result[0].status",
   "execution_count": null
  }
 ]
}