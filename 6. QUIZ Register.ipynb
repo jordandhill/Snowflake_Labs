{
 "metadata": {
  "kernelspec": {
   "display_name": "Streamlit Notebook",
   "name": "streamlit"
  }
 },
 "nbformat_minor": 5,
 "nbformat": 4,
 "cells": [
  {
   "cell_type": "code",
   "id": "3775908f-ca36-4846-8f38-5adca39217f2",
   "metadata": {
    "language": "python",
    "name": "cell1",
    "collapsed": false
   },
   "source": "import numpy as np\nimport pandas as pd\nimport matplotlib as plt\nfrom sklearn.model_selection import train_test_split\nfrom sklearn.linear_model import LinearRegression\nfrom sklearn.metrics import mean_squared_error\n\n\n\n",
   "execution_count": null,
   "outputs": []
  },
  {
   "cell_type": "code",
   "id": "fad06ed1-4009-415f-aae6-3535dc6b40b5",
   "metadata": {
    "language": "python",
    "name": "cell18",
    "collapsed": false
   },
   "outputs": [],
   "source": "# Generate some sample data\nnp.random.seed(42)\nX = 2 * np.random.rand(100, 1)\ny = 4 + 3 * X + np.random.randn(100, 1)\n\n# Split the data into training and testing sets\nX_train, X_test, y_train, y_test = train_test_split(X, y, test_size=0.2, random_state=42)\n\n# Create and train the model\nmodel = LinearRegression()\nmodel.fit(X_train, y_train)\n\n# Make predictions\ny_pred = model.predict(X_test)\n\n# Evaluate the model\nmse = mean_squared_error(y_test, y_pred)\nprint(f\"Mean Squared Error: {mse}\")",
   "execution_count": null
  },
  {
   "cell_type": "code",
   "id": "2f9cea92-e0c5-4024-bd2d-b38dffe52540",
   "metadata": {
    "language": "python",
    "name": "cell6",
    "collapsed": false
   },
   "outputs": [],
   "source": "#QUESTION 1:  Save this in the Snowflake Model Registry\n",
   "execution_count": null
  },
  {
   "cell_type": "code",
   "id": "307d9ea4-7330-4222-9563-9b47aa2cdb40",
   "metadata": {
    "language": "python",
    "name": "cell9",
    "collapsed": false
   },
   "outputs": [],
   "source": "#QUESTION 2: Load this model from the Registry",
   "execution_count": null
  },
  {
   "cell_type": "code",
   "id": "c8c9acad-5af8-4c25-baca-aa29d93083d1",
   "metadata": {
    "language": "sql",
    "name": "cell2"
   },
   "outputs": [],
   "source": "--QUESTION 3: Call this model from SQL",
   "execution_count": null
  },
  {
   "cell_type": "code",
   "id": "39071c8e-899d-43d1-b10a-17a0aed1977d",
   "metadata": {
    "language": "python",
    "name": "cell23",
    "collapsed": false
   },
   "outputs": [],
   "source": "# Plot the results\nplt.figure(figsize=(10, 6))\nplt.scatter(y_test, y_pred, alpha=0.3)\nplt.plot([y_test.min(), y_test.max()], [y_test.min(), y_test.max()], 'r--')\nplt.xlabel('True Values')\nplt.ylabel('Predictions')\nplt.title('True Values vs Predictions')\nplt.show()",
   "execution_count": null
  },
  {
   "cell_type": "code",
   "id": "30898043-56af-4621-bbc6-99d09065152a",
   "metadata": {
    "language": "python",
    "name": "cell7"
   },
   "outputs": [],
   "source": "",
   "execution_count": null
  },
  {
   "cell_type": "code",
   "id": "65d1906a-c03b-4270-adaa-ca73707ac5bf",
   "metadata": {
    "language": "python",
    "name": "cell17"
   },
   "outputs": [],
   "source": "",
   "execution_count": null
  },
  {
   "cell_type": "code",
   "id": "f9f3aedc-b72c-42ec-9a8e-1dee423032b8",
   "metadata": {
    "language": "python",
    "name": "cell10",
    "codeCollapsed": false
   },
   "outputs": [],
   "source": "",
   "execution_count": null
  },
  {
   "cell_type": "code",
   "id": "1084b660-77d2-4e07-83e9-0c5b1a00fa2f",
   "metadata": {
    "language": "python",
    "name": "cell12",
    "collapsed": false
   },
   "outputs": [],
   "source": "###add it to the Snowflake Model Registry\n\n#get a registry object\nreg = Registry(\n    \n    )\nmv = reg.log_model()",
   "execution_count": null
  }
 ]
}