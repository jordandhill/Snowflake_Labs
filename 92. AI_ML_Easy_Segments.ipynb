{
 "metadata": {
  "kernelspec": {
   "display_name": "Streamlit Notebook",
   "name": "streamlit"
  }
 },
 "nbformat_minor": 5,
 "nbformat": 4,
 "cells": [
  {
   "cell_type": "markdown",
   "id": "baba8254-9ce0-4455-aa5f-a7e3edffea58",
   "metadata": {
    "collapsed": false,
    "name": "cell4"
   },
   "source": "# AI / ML Easy Button !\n## *Cortex SQL & Python with Audience Segment Data*\nWelcome to the AI/ML Easy Button. This notebook will allow you to explore to explore Snowflake's out of the box functions and understand how they work with custom prompts in both SQL and Python.  \n\n[LLM Docs](https://docs.snowflake.com/en/user-guide/snowflake-cortex/llm-functions)\n\n![](https://www.fatherhood.org/hs-fs/hubfs/Images/Blog/easy-button.png?width=585&name=easy-button.png)"
  },
  {
   "cell_type": "code",
   "execution_count": null,
   "id": "3775908f-ca36-4846-8f38-5adca39217f2",
   "metadata": {
    "codeCollapsed": false,
    "collapsed": false,
    "language": "python",
    "name": "cell1"
   },
   "outputs": [],
   "source": "# Import python packages.  Install them using the Package menu in the upper right --- this notebook needs snowflake-ml \nimport streamlit as st\nimport pandas as pd\nimport json\n\n# We can also use Snowpark for our analyses!\nfrom snowflake.snowpark.context import get_active_session\nsession = get_active_session()\nfrom snowflake.snowpark import functions as F\nfrom snowflake.cortex import Complete, Sentiment, Summarize, Translate\nfrom snowflake.ml.modeling.preprocessing import MinMaxScaler\n\n\n\n\n"
  },
  {
   "cell_type": "code",
   "id": "1dc07f3e-5649-47ec-ab26-55ca586e31f7",
   "metadata": {
    "language": "sql",
    "name": "cell23"
   },
   "outputs": [],
   "source": "--first create your own schema to work in!\ncreate schema if not exists MY_NAME ;\nuse schema MY_NAME;\n---this should be your name!!\nselect current_database(), current_schema();",
   "execution_count": null
  },
  {
   "cell_type": "markdown",
   "id": "e6fd8083-3766-438f-bbe8-f1f19545f2d3",
   "metadata": {
    "collapsed": false,
    "name": "cell6"
   },
   "source": [
    "### Translate  \n",
    "https://docs.snowflake.com/en/sql-reference/functions/translate-snowflake-cortex"
   ]
  },
  {
   "cell_type": "code",
   "execution_count": null,
   "id": "023342fd-3373-4f58-8168-26bb7aa6358a",
   "metadata": {
    "codeCollapsed": false,
    "collapsed": false,
    "language": "sql",
    "name": "cell2"
   },
   "outputs": [],
   "source": "-- TRANSLATE\n-- Translate text\n\n---call the in built SQL function, with text, from language and to language\nselect\n    snowflake.cortex.translate(\n        'Health-conscious parents, aged 30-45, suburban residents, focused on organic foods and fitness activities.',\n        'en',\n        'es');"
  },
  {
   "cell_type": "code",
   "id": "36f959e0-15f5-4d02-835f-dfd90fae1f6a",
   "metadata": {
    "language": "sql",
    "name": "cell30",
    "collapsed": false
   },
   "outputs": [],
   "source": "-- SQL Translate from Any Text to English...leave from language blank to infer it\nselect\n    snowflake.cortex.translate(\n        'Jóvenes profesionales, de 25 a 35 años, habitantes urbanos, interesados en los gadgets tecnológicos y la vida sostenible.',\n        '',\n        'en');",
   "execution_count": null
  },
  {
   "cell_type": "code",
   "execution_count": null,
   "id": "99a755d2-a97b-492b-b8e0-2516e1be58e1",
   "metadata": {
    "codeCollapsed": false,
    "collapsed": false,
    "language": "python",
    "name": "cell3"
   },
   "outputs": [],
   "source": "#PYTHON IS EASY TOO...Now we use the same function directly from Python\nTranslate(\n    \"Padres conscientes de la salud, entre 30 y 45 años, residentes suburbanos, se centraron en alimentos orgánicos y actividades físicas.\",\n    \"\",\n    \"en\"\n)"
  },
  {
   "cell_type": "markdown",
   "id": "b78a2792-2303-4266-9783-6f066f15c0e5",
   "metadata": {
    "collapsed": false,
    "name": "cell9"
   },
   "source": [
    "### Sentiment \n",
    "https://docs.snowflake.com/en/sql-reference/functions/sentiment-snowflake-cortex"
   ]
  },
  {
   "cell_type": "code",
   "execution_count": null,
   "id": "d2ae2372-229e-409e-8efd-a4f986be283b",
   "metadata": {
    "codeCollapsed": false,
    "collapsed": false,
    "language": "sql",
    "name": "cell10"
   },
   "outputs": [],
   "source": "select\n    REVIEW_TEXT,\n    snowflake.cortex.sentiment(\n        snowflake.cortex.translate( ---chained together, translate and sentiment\n        REVIEW_TEXT,\n        '',\n        'en'\n        ) \n    ) as review_sentiment\nfrom\n    LAB_DATA.PUBLIC.REVIEWS limit 100"
  },
  {
   "cell_type": "markdown",
   "id": "192d1262-ec14-4903-ab02-ad062142a3e8",
   "metadata": {
    "collapsed": false,
    "name": "cell19"
   },
   "source": [
    "### COMPLETE  \n",
    "https://docs.snowflake.com/en/sql-reference/functions/complete-snowflake-cortex"
   ]
  },
  {
   "cell_type": "code",
   "execution_count": null,
   "id": "9c84a730-1071-4e5c-ba08-13dac6405fca",
   "metadata": {
    "codeCollapsed": false,
    "collapsed": false,
    "language": "sql",
    "name": "cell20"
   },
   "outputs": [],
   "source": "---SQL to leverage an LLM... its this easy!  And switch between them in seconds.\nselect\n   AUDIENCE_DESC, snowflake.cortex.complete(\n        'llama3-8b',\n        'Write a  marketing email for a new computer for this audience : ' || AUDIENCE_DESC\n    ) from  LAB_DATA.PUBLIC.SEGMENTS limit 1\n\n---can also imagine joining the above to a product table to include the product details for a very customized email"
  },
  {
   "cell_type": "code",
   "id": "af83fab9-2224-4c03-a113-df3eb5e518f5",
   "metadata": {
    "language": "python",
    "name": "cell22",
    "collapsed": false
   },
   "outputs": [],
   "source": "#likewise similar functionality availabe in Python functions\npd_df = session.table(\"LAB_DATA.PUBLIC.SEGMENTS\").limit(1).to_pandas()\nComplete('llama3-8b','Write a  marketing email for a new computer for this audience : ' + pd_df[\"AUDIENCE_DESC\"][0])",
   "execution_count": null
  },
  {
   "cell_type": "code",
   "id": "090b6953-e0ba-4f24-8a92-8826f26deeec",
   "metadata": {
    "language": "sql",
    "name": "cleaned_data",
    "collapsed": false
   },
   "outputs": [],
   "source": "--can classify your text data, can also easily extract data from text\nselect\n   AUDIENCE_DESC, snowflake.cortex.complete(\n        'llama3-8b',\n        '[INST]\n### \nTell me based on the following audience descriptions, would they be interested in a computer? Answer should be only one of the following words - \\\n\"Likely\" or \"Unlikely\" or \"Unsure\". Make sure there are no additional additional text.\nReview -\n###' || AUDIENCE_DESC) as CLEANED_REVIEWS\n     from  LAB_DATA.PUBLIC.SEGMENTS limit 5",
   "execution_count": null
  },
  {
   "cell_type": "code",
   "id": "bf46aac9-1bde-42f4-8ea7-6e56a402087a",
   "metadata": {
    "language": "python",
    "name": "cell31",
    "collapsed": false
   },
   "outputs": [],
   "source": "###can imagine combinations here as well --- give me likely audiences to by a computer (maybe some other filtering) \n# and write an email to them. \n\n##can access other cells as dataframes\npd_df = cleaned_data.to_pandas()\nfiltered_pd_df = pd_df[ (pd_df['AUDIENCE_DESC'].str.contains('active')) & (pd_df['CLEANED_REVIEWS'] == 'Likely') ]\nComplete('llama3-8b','Write a  marketing email for a new computer for this audience : ' + filtered_pd_df['AUDIENCE_DESC'].iloc[0])\n",
   "execution_count": null
  },
  {
   "cell_type": "code",
   "execution_count": null,
   "id": "07ab9fed-ba3f-44ec-b585-4f505b5c1f4c",
   "metadata": {
    "codeCollapsed": false,
    "collapsed": false,
    "language": "python",
    "name": "cell21"
   },
   "outputs": [],
   "source": "#PYTHON version over a table.  returns to a snowpark dataframe.  you can easily convert it using .to_pandas() to a pandas dataframe\n#Here we ask for a text message instead of an email\ndf = session.table(\"LAB_DATA.PUBLIC.SEGMENTS\").limit(3).select(\n    F.col(\"AUDIENCE_DESC\"),\n    Complete(\n        \"mistral-large\",\n        F.concat(\n            F.lit(\"\"\"Write a marketing SMS for a new computer for this audience : \n            \"\"\"),\n            F.col(\"AUDIENCE_DESC\"),\n            F.lit(\" \"))\n    ).alias(\"SMS_MESSAGE\")\n).limit(3)\ndf.show()"
  },
  {
   "cell_type": "code",
   "id": "be9a2e3e-29ef-4637-a260-d8033b1cd958",
   "metadata": {
    "language": "python",
    "name": "cell33",
    "collapsed": false
   },
   "outputs": [],
   "source": "###easily save to table in SQL or Python\ndf.write.mode(\"overwrite\").save_as_table(\"SMS_MESSAGES_TO_SEND\")",
   "execution_count": null
  },
  {
   "cell_type": "code",
   "id": "e23db7a1-c31f-47f1-81af-2ca97b44dd26",
   "metadata": {
    "language": "sql",
    "name": "cell34",
    "collapsed": false
   },
   "outputs": [],
   "source": "select * from SMS_MESSAGES_TO_SEND limit 5;",
   "execution_count": null
  },
  {
   "cell_type": "markdown",
   "id": "e5b7904b-b970-4c4b-b834-e3675c30a947",
   "metadata": {
    "collapsed": false,
    "name": "cell24"
   },
   "source": [
    "### EMBED_TEXT\n",
    "https://docs.snowflake.com/sql-reference/functions/embed_text-snowflake-cortex"
   ]
  },
  {
   "cell_type": "code",
   "execution_count": null,
   "id": "ce31f9b4-b5b6-42a9-98e2-ec67386cb153",
   "metadata": {
    "codeCollapsed": false,
    "collapsed": false,
    "language": "sql",
    "name": "cell25"
   },
   "outputs": [],
   "source": "--snowflakes SOTA model\nselect\n    snowflake.cortex.embed_text_768(\n        'snowflake-arctic-embed-m',\n        'Kids who love blue shirts'\n    );"
  },
  {
   "cell_type": "code",
   "execution_count": null,
   "id": "3db3d506-c323-4574-874c-5a12da40a31a",
   "metadata": {
    "codeCollapsed": false,
    "collapsed": false,
    "language": "sql",
    "name": "cell26"
   },
   "outputs": [],
   "source": "--vector embed all the segments in seconds\ncreate or replace table SEGMENTS_EMBED as select\n    audience_desc,\n    snowflake.cortex.embed_text_768(\n        'snowflake-arctic-embed-m',\n        audience_desc\n    ) as summary_embedding\nfrom\n    LAB_DATA.PUBLIC.SEGMENTS"
  },
  {
   "cell_type": "markdown",
   "id": "37988d9f-a3e8-4ee9-8552-cca280b270ce",
   "metadata": {
    "name": "cell8",
    "collapsed": false
   },
   "source": "What text data do you have at Simon?  Have you explored vector use cases?"
  },
  {
   "cell_type": "markdown",
   "id": "26dc9253-e399-4b3e-a319-cee27b2345ba",
   "metadata": {
    "collapsed": false,
    "name": "cell27"
   },
   "source": [
    "### VECTOR DISTANCE CALCULATIONS  \n",
    "https://docs.snowflake.com/en/sql-reference/functions/vector_cosine_similarity"
   ]
  },
  {
   "cell_type": "code",
   "execution_count": null,
   "id": "9c038dd7-d6d8-435c-921d-c56707ddcb95",
   "metadata": {
    "codeCollapsed": false,
    "language": "sql",
    "name": "cell28",
    "collapsed": false
   },
   "outputs": [],
   "source": "select\n    vector_cosine_similarity(\n        snowflake.cortex.embed_text_768('snowflake-arctic-embed-m', 'California Contemporary style'),\n        snowflake.cortex.embed_text_768('snowflake-arctic-embed-m', 'California Contemporary style homes')\n    );"
  },
  {
   "cell_type": "code",
   "execution_count": null,
   "id": "479dd89e-1620-478b-9a21-5040781d7a1a",
   "metadata": {
    "codeCollapsed": false,
    "language": "sql",
    "name": "cell29",
    "collapsed": false
   },
   "outputs": [],
   "source": "select \n    audience_desc,\n    vector_cosine_similarity(\n        summary_embedding,\n        snowflake.cortex.embed_text_768('snowflake-arctic-embed-m', 'Hipster Men living in the suburbs')\n    ) as similarity\nfrom\n    SEGMENTS_EMBED\norder by\n    similarity desc\nlimit 10;"
  },
  {
   "cell_type": "code",
   "id": "85935bfd-35b5-4518-a253-3e89c63a74f9",
   "metadata": {
    "language": "sql",
    "name": "cell13",
    "collapsed": false
   },
   "outputs": [],
   "source": "---check for potential audience overlap\nselect \n    a.audience_desc, b.audience_desc,\n    vector_cosine_similarity(\n        a.summary_embedding,\n        b.summary_embedding\n    ) as similarity\nfrom\n    SEGMENTS_EMBED a\n    cross join SEGMENTS_EMBED b  \nwhere \n1=1\nand similarity < 1\nand a.AUDIENCE_DESC < b.AUDIENCE_DESC\norder by\n    similarity desc\nlimit 10;",
   "execution_count": null
  },
  {
   "cell_type": "markdown",
   "id": "eaf2d433-beb2-49c2-9fad-0030d91fd853",
   "metadata": {
    "name": "cell38",
    "collapsed": false
   },
   "source": "## Question: \nIn the above SQL, how would I list the least similar audiences?"
  },
  {
   "cell_type": "markdown",
   "id": "c54f2819-ea42-464b-8bd8-e93669ef0aaf",
   "metadata": {
    "name": "cell14",
    "collapsed": false
   },
   "source": "Vector embedding can also be used to give 'guardrails' to an LLM.  By feeding the LLM the most similar/relevant text it provides better context to model and reduces halluciations."
  },
  {
   "cell_type": "markdown",
   "id": "f1e36f70-40f6-4d13-aa1b-b607dfe56197",
   "metadata": {
    "name": "cell32",
    "collapsed": false
   },
   "source": "## Retrieval-Augmented Generation (RAG) \nis the process of optimizing the output of a large language model, so it references an authoritative knowledge base outside of its training data sources before generating a response.\nWe do this in two steps when querying the LLM\n1. First we take the question and get the relevant data using vector cosine similarities (as shown above)\n2. Next we use that relevant data in the prompt to the LLM with our question"
  },
  {
   "cell_type": "code",
   "id": "561dc066-6d62-4591-802c-686e4b9e26cc",
   "metadata": {
    "language": "python",
    "name": "cell35",
    "collapsed": false
   },
   "outputs": [],
   "source": "#question = \"\"\"What Cities does GTA V Take Place In?\"\"\"\n#question = \"\"\"Is Lebron James featured in any NBA 2K games?\"\"\"\nquestion = \"\"\"What year is Grand Theft Auto: Vice City set in?\"\"\"",
   "execution_count": null
  },
  {
   "cell_type": "code",
   "id": "72786559-23ff-4518-8dac-a58592931319",
   "metadata": {
    "language": "python",
    "name": "cell36",
    "collapsed": false
   },
   "outputs": [],
   "source": "#step 1 get the relvant data\nrelevant_titles = session.sql(f\"\"\"\n   select distinct\n            title, summary,\n            vector_cosine_similarity(\n                summary_embedding,\n                snowflake.cortex.embed_text_768(\n                  'snowflake-arctic-embed-m',\n                  '{question}'\n                )\n            ) as similarity\n        from\n            LAB_DATA.PUBLIC.GAMES_EMBED\n  order by\n      similarity desc\n  limit 10\"\"\") \nrelevant_titles.show()",
   "execution_count": null
  },
  {
   "cell_type": "code",
   "id": "ca70814f-ad7a-4ffe-93ec-b11a4a017c76",
   "metadata": {
    "language": "python",
    "name": "cell37"
   },
   "outputs": [],
   "source": "#step 2 feed to the LLM using a specific prompt\ninfo = '. | '.join([x[0] for x in relevant_titles.select(\"*\").collect()]).replace(\"'\", \"\")\nprompt = f\"\"\"\n            You are a video game expert. Please provide knowledge and guidance to the questions in the tags <question> and </question> based on the provided \n            context found between the tags <context> and </context>.\n\n            <context>\n            '{info}'\n            </context>\n            <question>\n            '{question}'\n            </question>\n            Answer: \"\"\"\nquery = \"\"\"\n      select\n          snowflake.cortex.complete(\n              ?, \n              ?\n          ) as response\n      \"\"\"\ncomplete = session.sql(query, params=['mistral-large', prompt])\nwith st.chat_message(name=\"Assistant\"):\n    st.write(complete.collect()[0][0])",
   "execution_count": null
  },
  {
   "cell_type": "markdown",
   "id": "fbc5a8fb-2926-4380-a4e4-7b5793bc72b1",
   "metadata": {
    "name": "cell5",
    "collapsed": false
   },
   "source": "## Look alike audiences through Vector Distance"
  },
  {
   "cell_type": "code",
   "id": "7ffed6e6-8e8d-4145-bb2b-522d0346e5c0",
   "metadata": {
    "language": "python",
    "name": "cell17",
    "collapsed": false
   },
   "outputs": [],
   "source": "import numpy as np\nimport pandas as pd\n\n# Set a random seed for reproducibility\nnp.random.seed(42)\n\n# Generate random data for 100 rows\ndata = {\n    'CUSTOMER_ID': np.arange(1, 101),\n    'AGE': np.random.randint(18,80, size=100),\n    'INCOME': np.random.randint(30000, 150000, size=100),\n    'SPENDING_SCORE': np.random.randint(1, 100, size=100),\n    'LIFETIME_VALUE': np.random.randint(50, 500, size=100),\n    'DAYS_SINCE_LAST_PURCHASE': np.random.randint(1, 365, size=100)\n}\ndf = pd.DataFrame(data)\nsp_df = session.create_dataframe(df)\n\n\nsp_df.write.mode(\"overwrite\").save_as_table(\"CUSTOMERS\")",
   "execution_count": null
  },
  {
   "cell_type": "code",
   "id": "b96692c3-4cb0-44ba-bcb6-ca85d31d12b9",
   "metadata": {
    "language": "sql",
    "name": "SP_CUSTOMER_DF",
    "collapsed": false
   },
   "outputs": [],
   "source": "select * from CUSTOMERS limit 3;",
   "execution_count": null
  },
  {
   "cell_type": "code",
   "id": "fec08fbe-c052-4679-8b34-8c9e5759d68b",
   "metadata": {
    "language": "python",
    "name": "cell7",
    "collapsed": false
   },
   "outputs": [],
   "source": "sp_df = session.table(\"CUSTOMERS\")\ncolumns = sp_df.columns\ninput_cols = [col for col in columns if col != \"CUSTOMER_ID\"]\nmms = MinMaxScaler(input_cols=input_cols, output_cols=input_cols)\ndf = mms.fit(sp_df).transform(sp_df)\ncust_normal = df.join(sp_df, [\"CUSTOMER_ID\"],lsuffix=\"_NORM\")\ncust_normal.write.mode(\"overwrite\").save_as_table(\"CUSTOMER_NORMAL\")\ncust_normal.show(10)\n\n",
   "execution_count": null
  },
  {
   "cell_type": "code",
   "id": "8838d4f3-8fd3-4795-b803-3f1255882dea",
   "metadata": {
    "language": "sql",
    "name": "cell12",
    "collapsed": false
   },
   "outputs": [],
   "source": "create or replace table CUSTOMER_EMBED as select *, [\"AGE_NORM\", \"INCOME_NORM\", \"SPENDING_SCORE_NORM\"*3, \"LIFETIME_VALUE_NORM\", \"DAYS_SINCE_LAST_PURCHASE_NORM\"]::VECTOR(FLOAT, 5) as profile_embed from CUSTOMER_NORMAL;",
   "execution_count": null
  },
  {
   "cell_type": "code",
   "id": "af4b75c7-2f8e-4007-862f-484e1f53611c",
   "metadata": {
    "language": "sql",
    "name": "cell15",
    "collapsed": false
   },
   "outputs": [],
   "source": "select * from CUSTOMER_EMBED limit 3;",
   "execution_count": null
  },
  {
   "cell_type": "code",
   "id": "2a68a3a4-20e7-4831-ad00-44afe6ed88aa",
   "metadata": {
    "language": "sql",
    "name": "cell18",
    "collapsed": false
   },
   "outputs": [],
   "source": "select\n    best_customer.CUSTOMER_ID SEARCH_CUST_ID,\n    likealike_customer.CUSTOMER_ID LOOKALIKE_CUST_ID,\n        VECTOR_L2_DISTANCE(\n        best_customer.PROFILE_EMBED,\n        likealike_customer.PROFILE_EMBED       \n    )::NUMBER(10,5) as distance,\n    best_customer.AGE,\n    likealike_customer.AGE as AGE_LIKE,\n    best_customer.INCOME,\n    likealike_customer.INCOME as INCOME_LIKE,\n    best_customer.SPENDING_SCORE,\n    likealike_customer.SPENDING_SCORE as SPENDING_SCORE_LIKE,\n    best_customer.LIFETIME_VALUE,\n    likealike_customer.LIFETIME_VALUE as LIFETIME_VALUE_LIKE,\n    best_customer.DAYS_SINCE_LAST_PURCHASE,\n    likealike_customer.DAYS_SINCE_LAST_PURCHASE as DAYS_SINCE_LAST_PURCHASE_LIKE,\nfrom\n    CUSTOMER_EMBED best_customer\n    cross join CUSTOMER_EMBED likealike_customer\nwhere \n best_customer.CUSTOMER_ID = 2\n and best_customer.CUSTOMER_ID < likealike_customer.CUSTOMER_ID\norder by\n    distance asc\nlimit 20;",
   "execution_count": null
  },
  {
   "cell_type": "markdown",
   "id": "3d3c9d63-30b5-4fa9-a1ae-71b7e125676b",
   "metadata": {
    "name": "cell11",
    "collapsed": false
   },
   "source": "# Fine Tuning is in Private Preview!\nSnowflake is making this easy too, you supply your training data to the model via a table and you get an additional version of the model...fine tuned to your task.\nFine tuning can be the best combo of results and cost.  Dont have training data?  Use a more expensive LLM to score a set of data and train a smaller, cheaper one. Boom cheap and effective.\n\n[Snowflake Fine Tuning Docs](https://docs.snowflake.com/en/user-guide/snowflake-cortex/cortex-finetuning?_fsi=wWDeqSCS&_fsi=wWDeqSCS)\n\n[Snowflake Fine Tuning Workshop](https://quickstarts.snowflake.com/guide/finetuning_llm_using_snowflake_cortex_ai/index.html?index=..%2F..index#2)\n"
  },
  {
   "cell_type": "markdown",
   "id": "7e6b853a-362d-4c96-98a2-a8ee372c2e02",
   "metadata": {
    "name": "cell16",
    "collapsed": false
   },
   "source": "# UI to Easily Create Chat Bots with (RAG & Search) is coming!\nA Summit our head of product randomly chose someone from the audience to create a chatbot in Snowflake.  They had only logged into Snowflake 7 times and were able to create a RAG chat bot using the new UI in minutes."
  }
 ]
}