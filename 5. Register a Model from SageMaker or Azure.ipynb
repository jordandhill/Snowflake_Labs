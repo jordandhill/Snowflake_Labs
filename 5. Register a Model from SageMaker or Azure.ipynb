{
 "metadata": {
  "kernelspec": {
   "display_name": "Streamlit Notebook",
   "name": "streamlit"
  }
 },
 "nbformat_minor": 5,
 "nbformat": 4,
 "cells": [
  {
   "cell_type": "markdown",
   "id": "a46b820a-f070-482b-abef-20c74bc7a163",
   "metadata": {
    "name": "cell5",
    "collapsed": false
   },
   "source": "# Easily use Snowflake in Existing ML Tool & Pipelines\n\nCustomers who use Snowflake with AzureML or AWS Sagemaker will have models trained and registered in either cloud ML tool but may prefer to deploy those models to Snowflake for batch inference.\nThe Snowflake python libraries can run anywhere and can be easily added to existing 3rd party tools, see examples below."
  },
  {
   "cell_type": "markdown",
   "id": "88d8c93f-00c9-41a0-91d3-1ef924f76cfa",
   "metadata": {
    "name": "cell6",
    "collapsed": false
   },
   "source": "Advantages to deploying models in Snowflake include: \n\n- Bringing the model to the data. If all (or most) of your inference data is in Snowflake then having the model with the data makes for a more efficient and secure experience. \n- Data doesn't leave the Snowflake platform.\n- Security and Flexibility. With the model deployed in the SnowparkML Registry admins can leverage Snowflake's RBAC to easily control access and organizations have the flexibility to allow privileged users the ability to generate predictions with their Snowpark model.\n- Ease of Use & Scalability"
  },
  {
   "cell_type": "markdown",
   "id": "0971dd3f-3a63-4546-9861-70b3514986f9",
   "metadata": {
    "name": "cell4",
    "collapsed": false
   },
   "source": "# Register a model in Snowflake from SageMaker"
  },
  {
   "cell_type": "code",
   "id": "3775908f-ca36-4846-8f38-5adca39217f2",
   "metadata": {
    "language": "python",
    "name": "cell1"
   },
   "source": "# import packages\nimport boto3\nfrom sagemaker import get_execution_role\nimport sagemaker\nfrom joblib import load\n\n# create clients for S3 and sagemaker\ns3 = boto3.client(\"s3\")\nsm_boto3 = boto3.client(\"sagemaker\")\nsess = sagemaker.Session()\n\n\n# using model arn from model registry describe model details\nsm_client = boto3.Session().client('sagemaker')\nsm_client.describe_model_package(ModelPackageName='<model arn>')\n\n# download model from S3 using information from above\ns3_client = boto3.client('s3')\ns3_client.download_file('<bucket from ModelDataUrl>', 'model file path from ModelDataURL', '<new model name in local sagemaker env>.tar.gz')\n\n# unzip and load model\n!tar -xf '<new model name in local sagemaker env>.tar.gz' -C .\nsm_model = load(\"model.joblib\")\nsm_model\n\n# connect to Snowflake with Snowpark\nimport pandas as pd\nfrom snowflake.snowpark.session import Session\nfrom snowflake.snowpark.functions import *\nfrom snowflake.snowpark.types import *\nfrom snowflake.ml.registry import registry\n\nconnection_parameters = {\n    \"account\": \"<locator>\", # e.g. xy12345.us-east-2.aws \n    \"user\": \"<username>\", \n    \"password\": \"<password>\",\n    \"role\": \"<role>\",\n    \"warehouse\": \"<virtual warehouse>\",\n    \"database\": \"<database>\",\n    \"schema\": \"<schema>\"\n    }\nsession = Session.builder.configs(connection_parameters).create()\n\n# connect to Snowpark registry and log model\nreg = registry.Registry(session=session)\nreg.log_model(sm_model, model_name='<name of model in Snowflake>', version_name='v1', sample_input_data=<sample dataframe>)\n\n# verify model deployment and view functions associated with the model\nmv = reg.get_model('<name of model in Snowflake>').version('v1')\nmv.show_functions()\n",
   "execution_count": null,
   "outputs": []
  },
  {
   "cell_type": "markdown",
   "id": "65f7fb68-fd6b-4c87-a64a-9825d86226bf",
   "metadata": {
    "name": "cell2",
    "collapsed": false
   },
   "source": "# Register a model in Snowflake from AzureML"
  },
  {
   "cell_type": "code",
   "id": "c695373e-ac74-4b62-a1f1-08206cbd5c81",
   "metadata": {
    "language": "python",
    "name": "cell3"
   },
   "source": "from azureml.core import Workspace, Dataset\nimport numpy as np\n\n# Connect to the Workspace\nws = Workspace.from_config()\n\n# Access model using model name\nfrom azureml.core import Model\nmodel_path = Model.get_model_path(model_name = '<model name>', version = 1, _workspace= ws)\nmodel_path\n\n# Load model\nfrom joblib import load\naml_model = load(model_path + \"/model.pkl\")\naml_model\n\n# Look at model environment\nwith open(model_path +  '/./python_env.yaml') as f:\n    print(f.read())\n\n# Look at model requirements\nwith open(model_path +  '/./requirements.txt') as f:\n    print(f.read())\n\n# connect to Snowflake with Snowpark\nimport pandas as pd\nfrom snowflake.snowpark.session import Session\nfrom snowflake.snowpark.functions import *\nfrom snowflake.snowpark.types import *\nfrom snowflake.ml.registry import registry\n\nconnection_parameters = {\n    \"account\": \"<locator>\", # e.g. xy12345.us-east-2.aws \n    \"user\": \"<username>\", \n    \"password\": \"<password>\",\n    \"role\": \"<role>\",\n    \"warehouse\": \"<virtual warehouse>\",\n    \"database\": \"<database>\",\n    \"schema\": \"<schema>\"\n    }\nsession = Session.builder.configs(connection_parameters).create()\n\n# connect to Snowpark registry and log model\nreg = registry.Registry(session=session)\nreg.log_model(aml_model, model_name='<name of model in Snowflake>', version_name='v1', sample_input_data=<sample dataframe>)\n\n# verify model deployment and view functions associated with the model\nmv = reg.get_model('<name of model in Snowflake>').version('v1')\nmv.show_functions()",
   "execution_count": null,
   "outputs": []
  },
  {
   "cell_type": "markdown",
   "id": "8688d763-6590-4fad-afbb-3eb21c94d5af",
   "metadata": {
    "name": "cell9",
    "collapsed": false
   },
   "source": "# Build and Register a Model all here in Snowflake"
  },
  {
   "cell_type": "code",
   "id": "b959e30f-681b-4498-bf49-8ea52a4438c1",
   "metadata": {
    "language": "python",
    "name": "cell8"
   },
   "outputs": [],
   "source": "",
   "execution_count": null
  },
  {
   "cell_type": "markdown",
   "id": "fcbd8da8-7e35-43ad-b0a2-43ff8bf12253",
   "metadata": {
    "name": "cell7",
    "collapsed": false
   },
   "source": "https://github.com/Snowflake-Labs/sf-samples/tree/main/samples/ml?_fsi=wWDeqSCS&_fsi=wWDeqSCS&_fsi=wWDeqSCS&_fsi=wWDeqSCS"
  }
 ]
}