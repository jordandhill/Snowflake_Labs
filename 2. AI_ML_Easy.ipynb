{
 "metadata": {
  "kernelspec": {
   "display_name": "Streamlit Notebook",
   "name": "streamlit"
  }
 },
 "nbformat_minor": 5,
 "nbformat": 4,
 "cells": [
  {
   "cell_type": "markdown",
   "id": "baba8254-9ce0-4455-aa5f-a7e3edffea58",
   "metadata": {
    "collapsed": false,
    "name": "cell4"
   },
   "source": "# AI / ML Easy Button \n## *Basics using Review Data*\nWelcome to the AI/ML Easy Button. This notebook will allow you to explore to explore Snowflake's out of the box functions and understand how they work with custom prompts and real data in both SQL and Python.  \n[LLM Docs](https://docs.snowflake.com/en/user-guide/snowflake-cortex/llm-functions)\n\n![](https://www.fatherhood.org/hs-fs/hubfs/Images/Blog/easy-button.png?width=585&name=easy-button.png)"
  },
  {
   "cell_type": "code",
   "execution_count": null,
   "id": "3775908f-ca36-4846-8f38-5adca39217f2",
   "metadata": {
    "codeCollapsed": false,
    "collapsed": false,
    "language": "python",
    "name": "cell1"
   },
   "outputs": [],
   "source": "# !!! Add packages in the upper right under packages --- this code needs 'snowflake-ml'\n# Import python packages\nimport streamlit as st\nimport pandas as pd\nimport json\n\n# We can also use Snowpark for our analyses!\nfrom snowflake.snowpark import functions as F\nfrom snowflake.cortex import Complete, Sentiment, Summarize, Translate\nfrom snowflake.snowpark.context import get_active_session\nsession = get_active_session()\n"
  },
  {
   "cell_type": "code",
   "id": "690327a6-d639-4bb8-842f-82064de051f8",
   "metadata": {
    "language": "sql",
    "name": "cell13",
    "collapsed": false
   },
   "outputs": [],
   "source": "--first create your own schema to work in!\ncreate schema if not exists MY_NAME ;\nuse schema MY_NAME;\n---this should be your name!!\nselect current_database(), current_schema();",
   "execution_count": null
  },
  {
   "cell_type": "markdown",
   "id": "e6fd8083-3766-438f-bbe8-f1f19545f2d3",
   "metadata": {
    "collapsed": false,
    "name": "cell6"
   },
   "source": [
    "### Translate  \n",
    "https://docs.snowflake.com/en/sql-reference/functions/translate-snowflake-cortex"
   ]
  },
  {
   "cell_type": "code",
   "execution_count": null,
   "id": "023342fd-3373-4f58-8168-26bb7aa6358a",
   "metadata": {
    "codeCollapsed": false,
    "collapsed": false,
    "language": "sql",
    "name": "cell2"
   },
   "outputs": [],
   "source": "-- TRANSLATE\n-- Translate text from Reviews\n\n---call the in built SQL function, with text, from language and to language\nselect\n    snowflake.cortex.translate(\n        'NBA 2K23 oferece conteúdo divertido adicionando novos modos à série, além do modo Challenge de mais de 10 horas, também é um prazer jogar estações da NBA em diferentes épocas.',\n        'pt',\n        'en');"
  },
  {
   "cell_type": "code",
   "id": "36f959e0-15f5-4d02-835f-dfd90fae1f6a",
   "metadata": {
    "language": "sql",
    "name": "cell30",
    "collapsed": false
   },
   "outputs": [],
   "source": "-- SQL Translate from Any Text to English...leave from language blank to infer it\nselect\n    snowflake.cortex.translate(\n        '마이크로 트랜잭션이 매우 공격적임에도 불구하고 모든 스포츠 게임 팬에게 NBA 2K23를 안전하게 추천할 수 있습니다. 게임 플레이가 너무 좋고 향후 업데이트에서 문제가 해결되지 않기를 바랍니다.',\n        '',\n        'en');",
   "execution_count": null
  },
  {
   "cell_type": "code",
   "execution_count": null,
   "id": "99a755d2-a97b-492b-b8e0-2516e1be58e1",
   "metadata": {
    "codeCollapsed": false,
    "collapsed": false,
    "language": "python",
    "name": "cell3"
   },
   "outputs": [],
   "source": "#PYTHON IS EASY TOO...Now we use the same function directly from Python\nTranslate(\n    \"Detta är det bästa videospelet någonsin!\",\n    \"\",\n    \"en\"\n)"
  },
  {
   "cell_type": "code",
   "id": "51a3fabe-cbf7-4f33-a422-d1a37b81c840",
   "metadata": {
    "language": "sql",
    "name": "cell31",
    "collapsed": false
   },
   "outputs": [],
   "source": "--we can run this against millions of records easily, effeciently and securly\nselect * from LAB_DATA.PUBLIC.REVIEWS where IS_ENGLISH = 0;",
   "execution_count": null
  },
  {
   "cell_type": "code",
   "execution_count": null,
   "id": "ebd0fc6a-eefb-4355-8f3e-313ff4b2f861",
   "metadata": {
    "codeCollapsed": false,
    "collapsed": false,
    "language": "sql",
    "name": "sample_reviews"
   },
   "outputs": [],
   "source": "--we can run this against millions of records easily, effeciently and securly\nselect\n    REVIEW_TEXT,\n    snowflake.cortex.translate(\n        REVIEW_TEXT,\n        '',\n        'en'\n    ) as review_in_english\nfrom\n    LAB_DATA.PUBLIC.REVIEWS\n    where IS_ENGLISH = 0;"
  },
  {
   "cell_type": "code",
   "execution_count": null,
   "id": "32469401-3794-4e7d-9533-3f36966fdd90",
   "metadata": {
    "codeCollapsed": false,
    "collapsed": false,
    "language": "python",
    "name": "cell5"
   },
   "outputs": [],
   "source": "###can turn cell results into snowpark dataframes... or Pandas ones too\nsp_df = sample_reviews.to_df()\nsp_df.show(3)\npd_df = sample_reviews.to_pandas()\npd_df.head(3)"
  },
  {
   "cell_type": "markdown",
   "id": "b78a2792-2303-4266-9783-6f066f15c0e5",
   "metadata": {
    "collapsed": false,
    "name": "cell9"
   },
   "source": [
    "### Sentiment \n",
    "https://docs.snowflake.com/en/sql-reference/functions/sentiment-snowflake-cortex"
   ]
  },
  {
   "cell_type": "code",
   "execution_count": null,
   "id": "d2ae2372-229e-409e-8efd-a4f986be283b",
   "metadata": {
    "codeCollapsed": false,
    "collapsed": false,
    "language": "sql",
    "name": "cell10"
   },
   "outputs": [],
   "source": "select\n    REVIEW_TEXT,\n    snowflake.cortex.sentiment(\n        snowflake.cortex.translate( ---chained together, translate and sentiment\n        REVIEW_TEXT,\n        '',\n        'en'\n        ) \n    ) as review_sentiment\nfrom\n    LAB_DATA.PUBLIC.REVIEWS"
  },
  {
   "cell_type": "markdown",
   "id": "872c9385-6624-4d48-a9c0-90a44b651cd6",
   "metadata": {
    "collapsed": false,
    "name": "cell14"
   },
   "source": [
    "### Summarize  \n",
    "https://docs.snowflake.com/en/sql-reference/functions/summarize-snowflake-cortex"
   ]
  },
  {
   "cell_type": "code",
   "execution_count": null,
   "id": "3d732360-4817-474b-b499-7fcd5443aa0d",
   "metadata": {
    "codeCollapsed": false,
    "collapsed": false,
    "language": "sql",
    "name": "cell15"
   },
   "outputs": [],
   "source": "select\n    snowflake.cortex.summarize('WWE 2K24 is clear proof that 2K and Visual Concepts have certainly hit their stride when it comes to making today’s package better on the whole than yesterday’s. While not drastically different, there are enough new little features added to every inch of this iteration that make it well worth climbing back into the ring. Old enemies still have their number, though, such as making its docuseries Showcase mode feel good to actually play, creating a more consistent tone and pacing in MyRise, and getting more of the current day roster up to the high visual bar that’s currently only hit by its most popular superstars. But even with those lingering annoyances, WWE 2K24 puts an impressive cap on a three year run of great wrestling games. ');"
  },
  {
   "cell_type": "markdown",
   "id": "192d1262-ec14-4903-ab02-ad062142a3e8",
   "metadata": {
    "collapsed": false,
    "name": "cell19"
   },
   "source": [
    "### COMPLETE  \n",
    "https://docs.snowflake.com/en/sql-reference/functions/complete-snowflake-cortex"
   ]
  },
  {
   "cell_type": "code",
   "id": "51378123-0019-49d9-a4d7-676975bc70fb",
   "metadata": {
    "language": "sql",
    "name": "cell7",
    "collapsed": false
   },
   "outputs": [],
   "source": "select\n   REVIEW_TEXT, snowflake.cortex.complete(\n        'llama3-8b',\n        '[INST]\n### \nTell me based on the following game reviews, will they recommend the game to \\\ntheir friends and family? Answer should be only one of the following words - \\\n\"Likely\" or \"Unlikely\" or \"Unsure\". Make sure there are no additional additional text.\nReview -\n###' || REVIEW_TEXT) as CLEANED_REVIEWS\n     from  LAB_DATA.PUBLIC.REVIEWS limit 5",
   "execution_count": null
  },
  {
   "cell_type": "code",
   "execution_count": null,
   "id": "9c84a730-1071-4e5c-ba08-13dac6405fca",
   "metadata": {
    "codeCollapsed": false,
    "collapsed": false,
    "language": "sql",
    "name": "cell20"
   },
   "outputs": [],
   "source": "---Need to leverage an LLM... this is as easy as SELECT too. Models are hosted and managed by Snowflake in a secure & scalable environment, just call the built-in function.   \nselect\n    snowflake.cortex.complete(\n        'mistral-large',\n        'What are Take-Two\\'s three most popular games?  Return the answer in consice a JSON array object with NAME and RANK'\n    );"
  },
  {
   "cell_type": "code",
   "execution_count": null,
   "id": "6e69c3f1-e78e-4cd4-88b5-4cbe3ea26d65",
   "metadata": {
    "codeCollapsed": false,
    "collapsed": false,
    "language": "python",
    "name": "cell18"
   },
   "outputs": [],
   "source": "#Similarly we can call this easily from Python\ntopTitles = Complete(\n        \"mistral-large\",\n        \"What are Take-Two's three most popular games?  Display answer in consice a JSON array object with NAME and RANK\"\n    )\n#can manipulate this json object\ntopTitlesJSON = json.loads(topTitles)\nfor title in topTitlesJSON:\n    print(title[\"RANK\"]+' '+title[\"NAME\"])"
  },
  {
   "cell_type": "code",
   "id": "fdfc05ae-7cd6-4142-95d0-dc9c0d5d8ea8",
   "metadata": {
    "language": "sql",
    "name": "cell8",
    "collapsed": false
   },
   "outputs": [],
   "source": "select * from LAB_DATA.PUBLIC.GAMES limit 10",
   "execution_count": null
  },
  {
   "cell_type": "code",
   "execution_count": null,
   "id": "81f9363d-ab70-4a55-be84-057439ca91b8",
   "metadata": {
    "codeCollapsed": false,
    "collapsed": false,
    "language": "sql",
    "name": "cell22"
   },
   "outputs": [],
   "source": "---SQL to run the LLM over a table\nselect\n    title,\n    summary,\n    snowflake.cortex.complete(\n        'llama3-8b',\n        CONCAT(\n            'You\\'re a game critic. I really like role playing games but I don\\'t like violience. Based on the summary between <summary> and </summary>, can you tell me if \n            this would be a good game for me? <summary>', summary, '</summary>'\n        )\n    ) as answer\nfrom\n    LAB_DATA.PUBLIC.VW_GAMES\nwhere developer = 'Rockstar Games'\nlimit 5;"
  },
  {
   "cell_type": "code",
   "execution_count": null,
   "id": "07ab9fed-ba3f-44ec-b585-4f505b5c1f4c",
   "metadata": {
    "codeCollapsed": false,
    "collapsed": false,
    "language": "python",
    "name": "cell21"
   },
   "outputs": [],
   "source": "#PYTHON to run the LLM over a table. \ndf = session.table(\"LAB_DATA.PUBLIC.VW_GAMES\").filter(F.col('DEVELOPER') == 'Rockstar Games').select(\n    F.col(\"title\"),\n    Complete(\n        \"llama3-8b\",\n        F.concat(\n            F.lit(\"\"\"Based on the value between the <context> and </context> tags, please provide me with a list\n            of 3 similar games. Return the result as only a JSON array.  Be conscise.\n            <context>\"\"\"),\n            F.col(\"summary\"),\n            F.lit(\"</context>\"))\n    ).alias(\"similar_titles\")\n).limit(5)\ndf.show()"
  },
  {
   "cell_type": "code",
   "id": "be9a2e3e-29ef-4637-a260-d8033b1cd958",
   "metadata": {
    "language": "python",
    "name": "cell33",
    "collapsed": false
   },
   "outputs": [],
   "source": "###easily save to table in SQL or Python\ndf.write.mode(\"overwrite\").save_as_table(\"GAMES_SIMILAR\")",
   "execution_count": null
  },
  {
   "cell_type": "code",
   "id": "e23db7a1-c31f-47f1-81af-2ca97b44dd26",
   "metadata": {
    "language": "sql",
    "name": "cell34",
    "collapsed": false
   },
   "outputs": [],
   "source": "select * from GAMES_SIMILAR limit 5;",
   "execution_count": null
  },
  {
   "cell_type": "markdown",
   "id": "e5b7904b-b970-4c4b-b834-e3675c30a947",
   "metadata": {
    "collapsed": false,
    "name": "cell24"
   },
   "source": [
    "### EMBED_TEXT\n",
    "https://docs.snowflake.com/sql-reference/functions/embed_text-snowflake-cortex"
   ]
  },
  {
   "cell_type": "code",
   "execution_count": null,
   "id": "ce31f9b4-b5b6-42a9-98e2-ec67386cb153",
   "metadata": {
    "codeCollapsed": false,
    "collapsed": false,
    "language": "sql",
    "name": "cell25"
   },
   "outputs": [],
   "source": "select\n    snowflake.cortex.embed_text_768(\n        'snowflake-arctic-embed-m',\n        'I love video games'\n    );"
  },
  {
   "cell_type": "code",
   "execution_count": null,
   "id": "3db3d506-c323-4574-874c-5a12da40a31a",
   "metadata": {
    "codeCollapsed": false,
    "collapsed": false,
    "language": "sql",
    "name": "cell26"
   },
   "outputs": [],
   "source": "select\n    summary,\n    snowflake.cortex.embed_text_768(\n        'snowflake-arctic-embed-m',\n        summary\n    ) as summary_embedding\nfrom\n    LAB_DATA.PUBLIC.GAMES\nlimit 10;"
  },
  {
   "cell_type": "markdown",
   "id": "26dc9253-e399-4b3e-a319-cee27b2345ba",
   "metadata": {
    "collapsed": false,
    "name": "cell27"
   },
   "source": [
    "### VECTOR DISTANCE CALCULATIONS  \n",
    "https://docs.snowflake.com/en/sql-reference/functions/vector_cosine_similarity"
   ]
  },
  {
   "cell_type": "code",
   "execution_count": null,
   "id": "9c038dd7-d6d8-435c-921d-c56707ddcb95",
   "metadata": {
    "codeCollapsed": false,
    "language": "sql",
    "name": "cell28",
    "collapsed": false
   },
   "outputs": [],
   "source": "select\n    vector_cosine_similarity(\n        snowflake.cortex.embed_text_768('snowflake-arctic-embed-m', 'California Contemporary style'),\n        snowflake.cortex.embed_text_768('snowflake-arctic-embed-m', 'California Contemporary style homes')\n    );"
  },
  {
   "cell_type": "code",
   "id": "6a08d8b3-d3ab-4689-a18a-d6c51bb86699",
   "metadata": {
    "language": "sql",
    "name": "cell12",
    "collapsed": false
   },
   "outputs": [],
   "source": "--snowflake own SOTA text embed model\ncreate or replace table GAMES_EMBED as select *,\n    snowflake.cortex.embed_text_768(\n        'snowflake-arctic-embed-m',\n        summary\n    ) as summary_embedding\nfrom\n    LAB_DATA.PUBLIC.GAMES",
   "execution_count": null
  },
  {
   "cell_type": "code",
   "execution_count": null,
   "id": "479dd89e-1620-478b-9a21-5040781d7a1a",
   "metadata": {
    "codeCollapsed": false,
    "language": "sql",
    "name": "cell29",
    "collapsed": false
   },
   "outputs": [],
   "source": "--use cosine similarity to find like titles\nselect\n    b.title SIMILAR_TITLES, a.title TITLE_SEARCHED, \n    vector_cosine_similarity(\n        a.summary_embedding,\n        b.summary_embedding\n    ) as similarity\nfrom\n    GAMES_EMBED a\n    cross join GAMES_EMBED b\nwhere\n    a.title = 'NBA 2K23'\norder by\n    similarity desc\nlimit 20;"
  },
  {
   "cell_type": "markdown",
   "id": "ecf4ff13-323e-4d7c-912f-18d54421db13",
   "metadata": {
    "name": "cell35",
    "collapsed": false
   },
   "source": "## Retrieval-Augmented Generation (RAG) \nis the process of optimizing the output of a large language model, so it references an authoritative knowledge base outside of its training data sources before generating a response.\nWe do this in two steps when querying the LLM\n1. First we take the question and get the relevant data using vector cosine similarities (as shown above)\n2. Next we use that relevant data in the prompt to the LLM with our question"
  },
  {
   "cell_type": "code",
   "id": "b2063685-eee5-48b5-a7ad-8ee2d6670224",
   "metadata": {
    "language": "python",
    "name": "cell16",
    "collapsed": false
   },
   "outputs": [],
   "source": "#question = \"\"\"What Cities does GTA V Take Place In?\"\"\"\n#question = \"\"\"Is Lebron James featured in any NBA 2K games?\"\"\"\nquestion = \"\"\"What year is Grand Theft Auto: Vice City set in?\"\"\"",
   "execution_count": null
  },
  {
   "cell_type": "code",
   "id": "7ffed6e6-8e8d-4145-bb2b-522d0346e5c0",
   "metadata": {
    "language": "python",
    "name": "cell17",
    "collapsed": false
   },
   "outputs": [],
   "source": "#step 1 get the relvant data\nrelevant_titles = session.sql(f\"\"\"\n   select\n            title, summary,\n            vector_cosine_similarity(\n                summary_embedding,\n                snowflake.cortex.embed_text_768(\n                  'snowflake-arctic-embed-m',\n                  '{question}'\n                )\n            ) as similarity\n        from\n            GAMES_EMBED\n  order by\n      similarity desc\n  limit 10\"\"\") \nrelevant_titles.show()",
   "execution_count": null
  },
  {
   "cell_type": "code",
   "id": "d3b4ef78-8011-44d6-8bb9-362237602572",
   "metadata": {
    "language": "python",
    "name": "cell32",
    "collapsed": false
   },
   "outputs": [],
   "source": "#step 2 feed to the LLM using a specific prompt\ninfo = '. | '.join([x[0] for x in relevant_titles.select(\"*\").collect()]).replace(\"'\", \"\")\nprompt = f\"\"\"\n            You are a video game expert. Please provide knowledge and guidance to the questions in the tags <question> and </question> based on the provided \n            context found between the tags <context> and </context>.\n\n            <context>\n            '{info}'\n            </context>\n            <question>\n            '{question}'\n            </question>\n            Answer: \"\"\"\nquery = \"\"\"\n      select\n          snowflake.cortex.complete(\n              ?, \n              ?\n          ) as response\n      \"\"\"\ncomplete = session.sql(query, params=['mistral-large', prompt])\nwith st.chat_message(name=\"Assistant\"):\n    st.write(complete.collect()[0][0])",
   "execution_count": null
  },
  {
   "cell_type": "markdown",
   "id": "3d3c9d63-30b5-4fa9-a1ae-71b7e125676b",
   "metadata": {
    "name": "cell11",
    "collapsed": false
   },
   "source": "## Fine Tuning Too\nSnowflake is making this easy too, you supply your training data to the model via a table and you get an additional version of the model...fine tuned to your task.\nFine tuning can be the best combo of results and cost. Dont have training data?  Use a more expensive LLM to score a set of data and train a smaller, cheaper one. Boom cheap and effective.\n\n[Snowflake Fine Tuning Docs](https://docs.snowflake.com/en/user-guide/snowflake-cortex/cortex-finetuning?_fsi=wWDeqSCS&_fsi=wWDeqSCS)\n\n[Snowflake Fine Tuning Workshop](https://quickstarts.snowflake.com/guide/finetuning_llm_using_snowflake_cortex_ai/index.html?index=..%2F..index#2)"
  },
  {
   "cell_type": "markdown",
   "id": "10874acf-a334-461a-8ec0-40fe7c62e1d8",
   "metadata": {
    "name": "cell23",
    "collapsed": false
   },
   "source": "# UI to Easily Create Chat Bots with (RAG & Search) is coming!\nA Summit our head of product randomly chose someone from the audience to create a chatbot in Snowflake.  They had only logged into Snowflake 7 times and were able to create a RAG chat bot using the new UI in minutes."
  }
 ]
}