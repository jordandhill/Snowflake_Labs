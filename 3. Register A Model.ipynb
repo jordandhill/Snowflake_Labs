{
 "metadata": {
  "kernelspec": {
   "display_name": "Streamlit Notebook",
   "name": "streamlit"
  }
 },
 "nbformat_minor": 5,
 "nbformat": 4,
 "cells": [
  {
   "cell_type": "markdown",
   "id": "b3f02aa3-4268-4053-9e77-5949f44affaf",
   "metadata": {
    "name": "cell8",
    "collapsed": false,
    "pycharm": {
     "name": "#%% md\n"
    }
   },
   "source": "# Using the Snowflake Model Registry\nWe will use prepared data in Snowflake on used car prices and try to predict a price for a given car using ML functionality.  The model we create will be registered to the Snowflake Model registry and be using in both Python and SQL in Snowflake.\n\n## You will learn to do in Snowflake/Snowpark\n- how to register a model in Snowflake\n"
  },
  {
   "cell_type": "code",
   "id": "3775908f-ca36-4846-8f38-5adca39217f2",
   "metadata": {
    "language": "python",
    "name": "cell1",
    "collapsed": false,
    "pycharm": {
     "name": "#%%\n"
    }
   },
   "source": [
    "#import necessary packages --- needs snowpark-ml-python 1.5.0 (select it in the upper right packages list)\n",
    "import numpy as np\n",
    "import pandas as pd\n",
    "import matplotlib.pyplot as plt\n",
    "from sklearn.ensemble import GradientBoostingRegressor\n",
    "from sklearn.model_selection import train_test_split, GridSearchCV\n",
    "from sklearn.metrics import mean_absolute_error, mean_squared_error\n",
    "from sklearn.preprocessing import StandardScaler, OneHotEncoder, OrdinalEncoder\n",
    "from snowflake.ml.registry import Registry\n",
    "import re\n",
    "\n",
    "\n"
   ],
   "execution_count": null,
   "outputs": []
  },
  {
   "cell_type": "code",
   "id": "a130a731-de0d-4eb1-aa34-4b61df78e4e5",
   "metadata": {
    "language": "python",
    "name": "cell3",
    "collapsed": false,
    "pycharm": {
     "name": "#%%\n"
    }
   },
   "outputs": [],
   "source": "#snowflake libs\nfrom snowflake.snowpark.session import Session\nfrom snowflake.snowpark.context import get_active_session\nsession = get_active_session()\n\nsource_table_name = \"LAB_DATA.PUBLIC.CARS\"\nclean_table_name = \"LAB_DATA.PUBLIC.CARS_CLEANED_ALL_COLUMNS\"\n\nMY_NAME='MY_NAME' ##!!!CHANGE THIS TO YOUR NAME!!!\nsession.use_database(\"HOL_SIMON\")\nsession.sql(\"create schema if not exists \"+MY_NAME+\";\").collect()\nsession.use_schema(MY_NAME)\n\nprint(session.get_current_database())\nprint(session.get_current_schema())\nprint(session.get_current_role())",
   "execution_count": null
  },
  {
   "cell_type": "code",
   "id": "50230e68-336a-44b1-b978-0d132b2ab016",
   "metadata": {
    "language": "python",
    "name": "cell4",
    "collapsed": false,
    "pycharm": {
     "name": "#%%\n"
    }
   },
   "outputs": [],
   "source": [
    "#familiar python code running on Scalable Snowflake architecture and leveraging a bit of Snowpark to collect data\n",
    "pd_df_cleaned = session.table(clean_table_name).limit(5000).to_pandas()\n",
    "pd_df_cleaned.head(5)\n"
   ],
   "execution_count": null
  },
  {
   "cell_type": "code",
   "id": "faab57a7-4e88-4eea-9cf7-53c5466dcd95",
   "metadata": {
    "language": "python",
    "name": "cell5",
    "collapsed": false,
    "pycharm": {
     "name": "#%%\n"
    }
   },
   "outputs": [],
   "source": "#split training data out\ndef get_training_columns(columns):\n    clean_columns_train = []\n    for col in columns:\n        if col != 'PRICE':\n                clean_columns_train.append(col)\n    return clean_columns_train\n    \nget_training_columns = get_training_columns(pd_df_cleaned)\n\nX_train, X_test, y_train, y_test = train_test_split(pd_df_cleaned[get_training_columns], pd_df_cleaned['PRICE'],test_size=0.2)",
   "execution_count": null
  },
  {
   "cell_type": "code",
   "id": "fad06ed1-4009-415f-aae6-3535dc6b40b5",
   "metadata": {
    "language": "python",
    "name": "cell18",
    "collapsed": false,
    "pycharm": {
     "name": "#%%\n"
    }
   },
   "outputs": [],
   "source": [
    "\n",
    "# Define the quantile\n",
    "quantiles = [0.1, 0.5, 0.9]\n",
    "\n",
    "# Train models for each quantile\n",
    "models = {}\n",
    "for q in quantiles:\n",
    "    model = GradientBoostingRegressor(loss='quantile', alpha=q, n_estimators=100, learning_rate=0.1, max_depth=3)\n",
    "    model.fit(X_train, y_train)\n",
    "    models[q] = model\n",
    "\n",
    "# Predict and evaluate\n",
    "predictions = {}\n",
    "for q, model in models.items():\n",
    "    predictions[q] = model.predict(X_test)\n",
    "\n",
    "# Calculate quantile loss\n",
    "def quantile_loss(q, y_true, y_pred):\n",
    "    e = y_true - y_pred\n",
    "    return np.mean(np.maximum(q * e, (q - 1) * e))\n",
    "\n",
    "for q in quantiles:\n",
    "    loss = quantile_loss(q, y_test, predictions[q])\n",
    "    print(f\"Quantile loss for quantile {q}: {loss}\")\n",
    "\n",
    "# Calculate coverage probability\n",
    "coverage = np.mean((predictions[0.1] <= y_test) & (y_test <= predictions[0.9]))\n",
    "print(f\"Coverage probability for 10th and 90th percentiles: {coverage}\")\n",
    "\n",
    "gbr_model = models[0.5]\n"
   ],
   "execution_count": null
  },
  {
   "cell_type": "code",
   "id": "5065c294-7996-47b5-b5f0-14802bf84485",
   "metadata": {
    "language": "python",
    "name": "cell12",
    "collapsed": false,
    "pycharm": {
     "name": "#%%\n"
    }
   },
   "outputs": [],
   "source": [
    "# Visualize predictions\n",
    "plt.figure(figsize=(10, 6))\n",
    "plt.scatter(y_test, predictions[0.5], alpha=0.5, label='Median Prediction')\n",
    "plt.plot([y_test.min(), y_test.max()], [y_test.min(), y_test.max()], 'r--', lw=2, label='Perfect Prediction')\n",
    "plt.xlabel('True Values')\n",
    "plt.ylabel('Predicted Values')\n",
    "plt.title('Quantile Regression Predictions')\n",
    "plt.legend()\n",
    "plt.show()"
   ],
   "execution_count": null
  },
  {
   "cell_type": "code",
   "id": "2f9cea92-e0c5-4024-bd2d-b38dffe52540",
   "metadata": {
    "language": "python",
    "name": "cell6",
    "collapsed": false,
    "pycharm": {
     "name": "#%%\n"
    }
   },
   "outputs": [],
   "source": [
    "#get a model registry object\n",
    "reg = Registry(\n",
    "    session=session, \n",
    "    database_name=session.get_current_database(), \n",
    "    schema_name=session.get_current_schema()\n",
    "    )"
   ],
   "execution_count": null
  },
  {
   "cell_type": "code",
   "id": "307d9ea4-7330-4222-9563-9b47aa2cdb40",
   "metadata": {
    "language": "python",
    "name": "cell9",
    "collapsed": false,
    "pycharm": {
     "name": "#%%\n"
    }
   },
   "outputs": [],
   "source": "#register our model, this also automatically creates a SQL function\nmy_model_version = reg.log_model(gbr_model,\n                   model_name=\"car_price_gbr_jordan\",\n                   version_name=\"v1\",\n                   conda_dependencies=[\"scikit-learn\"],\n                   comment=\"My awesome ML model\",\n                   metrics={\"score\": 96},\n                   sample_input_data=X_train.head(10))",
   "execution_count": null
  },
  {
   "cell_type": "code",
   "id": "c8c9acad-5af8-4c25-baca-aa29d93083d1",
   "metadata": {
    "language": "python",
    "name": "cell2",
    "collapsed": false,
    "pycharm": {
     "name": "#%%\n"
    }
   },
   "outputs": [],
   "source": [
    "#score some data in python\n",
    "sf_df = session.table(clean_table_name).sample(.01)\n",
    "result_df = my_model_version.run(sf_df).cache_result()\n",
    "result_df[['\"output_feature_0\"','\"PRICE\"','\"MILEAGE\"','\"LEVY\"']].show(n=15, max_width=1000)"
   ],
   "execution_count": null
  },
  {
   "cell_type": "code",
   "id": "30898043-56af-4621-bbc6-99d09065152a",
   "metadata": {
    "language": "sql",
    "name": "cell7",
    "collapsed": false,
    "pycharm": {
     "name": "#%%\n"
    }
   },
   "outputs": [],
   "source": "--can score the model in ANY SQL now too\nselect \n    car_price_gbr_jordan!predict(*):output_feature_0::number(10,0) PREDICTED_PRICE,\nfrom LAB_DATA.PUBLIC.CARS_CLEANED_NO_PRICE limit 5;\n",
   "execution_count": null
  },
  {
   "cell_type": "markdown",
   "id": "67c926b7-c258-4e89-8237-5416342e817f",
   "metadata": {
    "name": "cell11",
    "collapsed": false,
    "pycharm": {
     "name": "#%% md\n"
    }
   },
   "source": [
    "## QUIZ\n",
    "\n",
    "See if you can change the output of the model from \"output_feature_0\" to \"PRICE\"\n",
    "\n",
    "Check out the docs on [Signatures](https://docs.snowflake.com/en/developer-guide/snowpark-ml/model-registry/model-signature)\n"
   ]
  },
  {
   "cell_type": "code",
   "id": "65d1906a-c03b-4270-adaa-ca73707ac5bf",
   "metadata": {
    "language": "python",
    "name": "cell17",
    "codeCollapsed": false,
    "pycharm": {
     "name": "#%%\n"
    }
   },
   "outputs": [],
   "source": [],
   "execution_count": null
  },
  {
   "cell_type": "code",
   "id": "f9f3aedc-b72c-42ec-9a8e-1dee423032b8",
   "metadata": {
    "language": "python",
    "name": "cell10",
    "codeCollapsed": false,
    "pycharm": {
     "name": "#%%\n"
    }
   },
   "outputs": [],
   "source": [],
   "execution_count": null
  }
 ]
}