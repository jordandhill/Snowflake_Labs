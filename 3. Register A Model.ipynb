{
 "metadata": {
  "kernelspec": {
   "display_name": "Streamlit Notebook",
   "name": "streamlit"
  }
 },
 "nbformat_minor": 5,
 "nbformat": 4,
 "cells": [
  {
   "cell_type": "markdown",
   "id": "b3f02aa3-4268-4053-9e77-5949f44affaf",
   "metadata": {
    "name": "cell8",
    "collapsed": false
   },
   "source": "# An Snowpark Model Registry\nWe will use sample data on used cars and try to predict a price for aa given car using various features\n\n## You will learn to do in Snowflake/Snowpark\n- how to register a model in Snowflake\n"
  },
  {
   "cell_type": "code",
   "id": "3775908f-ca36-4846-8f38-5adca39217f2",
   "metadata": {
    "language": "python",
    "name": "cell1",
    "collapsed": false
   },
   "source": "#import necessary packages --- needs snowpark-ml-python 1.5.0 (select it in the upper right packages list)\nimport numpy as np\nimport pandas as pd\nimport matplotlib.pyplot as plt\nfrom sklearn.ensemble import GradientBoostingRegressor\nfrom sklearn.model_selection import train_test_split, GridSearchCV\nfrom sklearn.metrics import mean_absolute_error, mean_squared_error\nfrom sklearn.preprocessing import StandardScaler, OneHotEncoder, OrdinalEncoder\nfrom snowflake.ml.registry import Registry\nimport re\n\n\n",
   "execution_count": null,
   "outputs": []
  },
  {
   "cell_type": "code",
   "id": "a130a731-de0d-4eb1-aa34-4b61df78e4e5",
   "metadata": {
    "language": "python",
    "name": "cell3",
    "collapsed": false
   },
   "outputs": [],
   "source": "#snowflake libs\nfrom snowflake.snowpark.session import Session\nfrom snowflake.snowpark.context import get_active_session\nsession = get_active_session()\n\nsource_table_name = \"LAB_DATA.PUBLIC.CARS\"\nclean_table_name = \"LAB_DATA.PUBLIC.CARS_CLEANED_ALL_COLUMNS\"\n\n#session.use_database(\"HOL_TAKETWO\")\n#session.use_schema(\"MY_NAME\")\n\nprint(session.get_current_database());\nprint(session.get_current_schema());\nprint(session.get_current_role());",
   "execution_count": null
  },
  {
   "cell_type": "code",
   "id": "50230e68-336a-44b1-b978-0d132b2ab016",
   "metadata": {
    "language": "python",
    "name": "cell4",
    "collapsed": false
   },
   "outputs": [],
   "source": "#familiar python code running on Scalable Snowflake architecture and leveraging a bit of Snowpark to collect data\npd_df_cleaned = session.table(clean_table_name).limit(5000).to_pandas()\npd_df_cleaned.head(5)\n",
   "execution_count": null
  },
  {
   "cell_type": "code",
   "id": "faab57a7-4e88-4eea-9cf7-53c5466dcd95",
   "metadata": {
    "language": "python",
    "name": "cell5",
    "collapsed": false
   },
   "outputs": [],
   "source": "#split training data out\ndef clean_column_names(columns):\n    clean_columns_train = []\n    for col in columns:\n        if clean_col != 'PRICE':\n                clean_columns_train.append(clean_col)\n    return clean_columns_train\n\nX_train, X_test, y_train, y_test = train_test_split(pd_df_cleaned, pd_df_cleaned['PRICE'],test_size=0.2)",
   "execution_count": null
  },
  {
   "cell_type": "code",
   "id": "fad06ed1-4009-415f-aae6-3535dc6b40b5",
   "metadata": {
    "language": "python",
    "name": "cell18",
    "collapsed": false
   },
   "outputs": [],
   "source": "\n# Define the quantile\nquantiles = [0.1, 0.5, 0.9]\n\n# Train models for each quantile\nmodels = {}\nfor q in quantiles:\n    model = GradientBoostingRegressor(loss='quantile', alpha=q, n_estimators=100, learning_rate=0.1, max_depth=3)\n    model.fit(X_train, y_train)\n    models[q] = model\n\n# Predict and evaluate\npredictions = {}\nfor q, model in models.items():\n    predictions[q] = model.predict(X_test)\n\n# Calculate quantile loss\ndef quantile_loss(q, y_true, y_pred):\n    e = y_true - y_pred\n    return np.mean(np.maximum(q * e, (q - 1) * e))\n\nfor q in quantiles:\n    loss = quantile_loss(q, y_test, predictions[q])\n    print(f\"Quantile loss for quantile {q}: {loss}\")\n\n# Calculate coverage probability\ncoverage = np.mean((predictions[0.1] <= y_test) & (y_test <= predictions[0.9]))\nprint(f\"Coverage probability for 10th and 90th percentiles: {coverage}\")\n\ngbr_model = models[0.5]\n",
   "execution_count": null
  },
  {
   "cell_type": "code",
   "id": "5065c294-7996-47b5-b5f0-14802bf84485",
   "metadata": {
    "language": "python",
    "name": "cell12",
    "collapsed": false
   },
   "outputs": [],
   "source": "# Visualize predictions\nplt.figure(figsize=(10, 6))\nplt.scatter(y_test, predictions[0.5], alpha=0.5, label='Median Prediction')\nplt.plot([y_test.min(), y_test.max()], [y_test.min(), y_test.max()], 'r--', lw=2, label='Perfect Prediction')\nplt.xlabel('True Values')\nplt.ylabel('Predicted Values')\nplt.title('Quantile Regression Predictions')\nplt.legend()\nplt.show()",
   "execution_count": null
  },
  {
   "cell_type": "code",
   "id": "2f9cea92-e0c5-4024-bd2d-b38dffe52540",
   "metadata": {
    "language": "python",
    "name": "cell6",
    "collapsed": false
   },
   "outputs": [],
   "source": "#get a model registry object\nreg = Registry(\n    session=session, \n    database_name=session.get_current_database(), \n    schema_name=session.get_current_schema()\n    )",
   "execution_count": null
  },
  {
   "cell_type": "code",
   "id": "307d9ea4-7330-4222-9563-9b47aa2cdb40",
   "metadata": {
    "language": "python",
    "name": "cell9",
    "collapsed": false
   },
   "outputs": [],
   "source": "#register our model, this also automatically creates a SQL function\nmy_model_version = reg.log_model(gbr_model,\n                   model_name=\"car_price_gbr\",\n                   version_name=\"v7\",\n                   conda_dependencies=[\"scikit-learn\"],\n                   comment=\"My awesome ML model\",\n                   metrics={\"score\": 96},\n                   sample_input_data=X_train.head(10))",
   "execution_count": null
  },
  {
   "cell_type": "code",
   "id": "c8c9acad-5af8-4c25-baca-aa29d93083d1",
   "metadata": {
    "language": "python",
    "name": "cell2",
    "collapsed": false
   },
   "outputs": [],
   "source": "#score some data in python\nsf_df = session.table(clean_table_name).sample(.01)\nresult_df = my_model_version.run(sf_df).cache_result()\nresult_df[['\"output_feature_0\"','\"PRICE\"','\"MILEAGE\"','\"LEVY\"']].show(n=15, max_width=1000)",
   "execution_count": null
  },
  {
   "cell_type": "markdown",
   "id": "67c926b7-c258-4e89-8237-5416342e817f",
   "metadata": {
    "name": "cell11",
    "collapsed": false
   },
   "source": "## QUIZ\n\nSee if you can change the output of the model from \"output_feature_0\" to \"PRICE\"\n\nCheck out the docs on [Signatures](https://docs.snowflake.com/en/developer-guide/snowpark-ml/model-registry/model-signature)\n"
  },
  {
   "cell_type": "code",
   "id": "65d1906a-c03b-4270-adaa-ca73707ac5bf",
   "metadata": {
    "language": "python",
    "name": "cell17",
    "codeCollapsed": false
   },
   "outputs": [],
   "source": "",
   "execution_count": null
  },
  {
   "cell_type": "code",
   "id": "f9f3aedc-b72c-42ec-9a8e-1dee423032b8",
   "metadata": {
    "language": "python",
    "name": "cell10",
    "codeCollapsed": false
   },
   "outputs": [],
   "source": "",
   "execution_count": null
  },
  {
   "cell_type": "code",
   "id": "30898043-56af-4621-bbc6-99d09065152a",
   "metadata": {
    "language": "sql",
    "name": "cell7",
    "collapsed": false
   },
   "outputs": [],
   "source": "--can score the model in ANY SQL now too\nselect \n    car_price_gbr!predict(*):output_feature_0::number(10,0) PREDICTED_PRICE,\nfrom CARS_CLEANED limit 5;\n",
   "execution_count": null
  }
 ]
}