{
 "metadata": {
  "kernelspec": {
   "display_name": "Streamlit Notebook",
   "name": "streamlit"
  }
 },
 "nbformat_minor": 5,
 "nbformat": 4,
 "cells": [
  {
   "cell_type": "markdown",
   "id": "b3f02aa3-4268-4053-9e77-5949f44affaf",
   "metadata": {
    "name": "cell8",
    "collapsed": false
   },
   "source": "# A Snowpark Workflow using XGBoost\nWe will use sample data on used cars and try to predict a price for aa given car using various features\n\n## You will learn to do in Snowflake/Snowpark\n- how to prep data\n- how to train / score the model\n- how to register the model\n"
  },
  {
   "cell_type": "code",
   "id": "3775908f-ca36-4846-8f38-5adca39217f2",
   "metadata": {
    "language": "python",
    "name": "cell1",
    "collapsed": false
   },
   "source": "#import necessary packages --- needs snowflake-ml-python 1.5.0 (select it in the upper right packages list)\nimport numpy as np\nimport pandas as pd\nimport matplotlib.pyplot as plt\n#from sklearn.ensemble import GradientBoostingRegressor\nimport xgboost as xgb\nfrom sklearn.model_selection import train_test_split, GridSearchCV\nfrom sklearn.metrics import mean_absolute_error, mean_squared_error\nfrom sklearn.preprocessing import StandardScaler, OneHotEncoder, OrdinalEncoder\nfrom snowflake.ml.registry import Registry\nimport re\n\n\n",
   "execution_count": null,
   "outputs": []
  },
  {
   "cell_type": "code",
   "id": "a130a731-de0d-4eb1-aa34-4b61df78e4e5",
   "metadata": {
    "language": "python",
    "name": "cell3",
    "collapsed": false
   },
   "outputs": [],
   "source": "#snowflake libs\nfrom snowflake.snowpark.session import Session\nfrom snowflake.snowpark.context import get_active_session\nsession = get_active_session()\n\nsource_table_name = \"LAB_DATA.PUBLIC.CARS_5000\"\nclean_table_name = \"CARS_CLEANED\"\n\nsession.use_database(\"A_HOL_REVIEWS\")\nsession.use_schema(\"PUBLIC\")\n\nprint(session.get_current_database());\nprint(session.get_current_schema());\nprint(session.get_current_role());",
   "execution_count": null
  },
  {
   "cell_type": "code",
   "id": "50230e68-336a-44b1-b978-0d132b2ab016",
   "metadata": {
    "language": "python",
    "name": "cell4",
    "collapsed": false
   },
   "outputs": [],
   "source": "#familiar python code running on Scalable Snowflake architecture and leveraging a bit of Snowpark to collect data\npd_df = session.table(source_table_name).to_pandas()\npd_df.dtypes\npd_df",
   "execution_count": null
  },
  {
   "cell_type": "code",
   "id": "f9458df2-5b88-446b-8656-f46b54f9fbfe",
   "metadata": {
    "language": "python",
    "name": "cell14",
    "collapsed": false
   },
   "outputs": [],
   "source": "#Separate numerical, categorical, and ordinal columns\nnumerical_cols = ['YEAR_PROD','MILEAGE','LEVY','CYL']  # List of numerical columns\ncategorical_cols = ['MAKE', 'MODEL_NAME', 'COLOR','FUEL_TYPE','DRIVE' ]  # List of categorical columns\n\npd_df_cleaned = pd.DataFrame(pd_df[numerical_cols+categorical_cols+['PRICE']])\n",
   "execution_count": null
  },
  {
   "cell_type": "code",
   "id": "bccd67df-e024-47ad-baea-1d992e26cae2",
   "metadata": {
    "language": "python",
    "name": "cell13",
    "collapsed": false
   },
   "outputs": [],
   "source": "# Normalize numerical columns\nscaler = StandardScaler()\npd_df_cleaned[numerical_cols] = scaler.fit_transform(pd_df_cleaned[numerical_cols])\n\n# One-hot encode categorical columns\nencoder = OneHotEncoder(handle_unknown='ignore')\ncategorical_encoded = encoder.fit_transform(pd_df_cleaned[categorical_cols])\ncategorical_encoded = pd.DataFrame(categorical_encoded.toarray(), columns=encoder.get_feature_names_out(categorical_cols))\npd_df_cleaned = pd.concat([pd_df_cleaned, categorical_encoded], axis=1)\npd_df_cleaned.drop(categorical_cols, axis=1, inplace=True)\ncolumns = pd_df_cleaned.columns\n\ndef clean_column_names(columns):\n    clean_columns_all = []\n    clean_columns_train = []\n    for col in columns:\n        clean_col = re.sub(r'\\W+', '', col)  # Remove non-alphanumeric characters\n        clean_col = clean_col.upper()  # Capitalize the column names\n        clean_columns_all.append(clean_col)\n        if clean_col != 'PRICE':\n                clean_columns_train.append(clean_col)\n    return clean_columns_all,clean_columns_train\n\n# Apply the function to the DataFrame's columns\nclean_columns_all, clean_columns_train =  clean_column_names(pd_df_cleaned.columns)\n# Rename columns with cleaned names\npd_df_cleaned.columns = clean_columns_all\n\nsf_df = session.create_dataframe(pd_df_cleaned[clean_columns_train])\n\nsf_df.write.mode(\"overwrite\").save_as_table(clean_table_name)\n\n",
   "execution_count": null
  },
  {
   "cell_type": "code",
   "id": "a302c1a4-9cf8-48cc-9413-ff324a80f15f",
   "metadata": {
    "language": "python",
    "name": "cell15",
    "collapsed": false
   },
   "outputs": [],
   "source": "#session.create_dataframe(pd_df_cleaned[clean_columns_train]).write.mode(\"overwrite\").save_as_table(\"CARS_CLEANED\")",
   "execution_count": null
  },
  {
   "cell_type": "code",
   "id": "826c4d94-1169-4f2c-a8d2-25b1ed597285",
   "metadata": {
    "language": "python",
    "name": "cell11",
    "collapsed": false
   },
   "outputs": [],
   "source": "pandas_df  = session.table(clean_table_name).to_pandas()",
   "execution_count": null
  },
  {
   "cell_type": "code",
   "id": "faab57a7-4e88-4eea-9cf7-53c5466dcd95",
   "metadata": {
    "language": "python",
    "name": "cell5",
    "collapsed": false
   },
   "outputs": [],
   "source": "#split training data out\n\nX_train, X_test, y_train, y_test = train_test_split(pd_df_cleaned[clean_columns_train], pd_df_cleaned['PRICE'],test_size=0.2)\nX_train.dtypes",
   "execution_count": null
  },
  {
   "cell_type": "code",
   "id": "fad06ed1-4009-415f-aae6-3535dc6b40b5",
   "metadata": {
    "language": "python",
    "name": "cell18",
    "collapsed": false
   },
   "outputs": [],
   "source": "# Create DMatrix for xgboost\ndtrain = xgb.DMatrix(X_train, label=y_train)\ndtest = xgb.DMatrix(X_test, label=y_test)\n\n# Set parameters for xgboost\nparams = {\n    'objective': 'reg:squarederror',  # for regression task\n    'max_depth': 5,\n    'eta': 0.1,\n    'eval_metric': 'rmse'\n}\n\n# Train the model\nnum_round = 100\nbst_model = xgb.train(params, dtrain, num_round)\n\n# Make predictions\npreds = bst_model.predict(dtest)\n\n# Evaluate the model\nrmse = np.sqrt(mean_squared_error(y_test, preds))\nprint(f\"RMSE: {rmse:.4f}\")\n",
   "execution_count": null
  },
  {
   "cell_type": "code",
   "id": "5065c294-7996-47b5-b5f0-14802bf84485",
   "metadata": {
    "language": "python",
    "name": "cell12",
    "collapsed": false
   },
   "outputs": [],
   "source": "# Visualize predictions\nplt.figure(figsize=(10, 6))\nplt.scatter(y_test, preds, alpha=0.5, label='Prediction')\nplt.plot([y_test.min(), y_test.max()], [y_test.min(), y_test.max()], 'r--', lw=2, label='Perfect Prediction')\nplt.xlabel('True Values')\nplt.ylabel('Predicted Values')\nplt.title('Predictions')\nplt.legend()\nplt.show()",
   "execution_count": null
  },
  {
   "cell_type": "code",
   "id": "2f9cea92-e0c5-4024-bd2d-b38dffe52540",
   "metadata": {
    "language": "python",
    "name": "cell6",
    "collapsed": false
   },
   "outputs": [],
   "source": "#get a model registry object\nreg = Registry(\n    session=session, \n    database_name=session.get_current_database(), \n    schema_name=session.get_current_schema()\n    )",
   "execution_count": null
  },
  {
   "cell_type": "code",
   "id": "307d9ea4-7330-4222-9563-9b47aa2cdb40",
   "metadata": {
    "language": "python",
    "name": "cell9",
    "collapsed": false
   },
   "outputs": [],
   "source": "#register our model, this also automatically creates a SQL function\nmy_model_version = reg.log_model(bst_model,\n                   model_name=\"car_price_gbr_ym\",\n                   version_name=\"v1\",\n                   conda_dependencies=[\"scikit-learn\"],\n                   comment=\"My awesome ML model\",\n                   metrics={\"score\": 96},\n                   sample_input_data=X_train.head(10))",
   "execution_count": null
  },
  {
   "cell_type": "code",
   "id": "c8c9acad-5af8-4c25-baca-aa29d93083d1",
   "metadata": {
    "language": "python",
    "name": "cell2",
    "collapsed": false
   },
   "outputs": [],
   "source": "#score some data in python\nsf_df = session.table(clean_table_name).sample(.01)\nresult_df = my_model_version.run(sf_df).cache_result()\nresult_df[['\"output_feature_0\"','\"MILEAGE\"','\"YEAR_PROD\"']].show(n=15, max_width=1000)",
   "execution_count": null
  },
  {
   "cell_type": "code",
   "id": "30898043-56af-4621-bbc6-99d09065152a",
   "metadata": {
    "language": "sql",
    "name": "cell7",
    "collapsed": false
   },
   "outputs": [],
   "source": "--can score the model in ANY SQL now too\nselect \n    car_price_gbr_rockstar!predict(*):output_feature_0::number(10,0) PREDICTED_PRICE,\nfrom CARS_CLEANED limit 5;\n",
   "execution_count": null
  },
  {
   "cell_type": "code",
   "id": "f9f3aedc-b72c-42ec-9a8e-1dee423032b8",
   "metadata": {
    "language": "sql",
    "name": "cell10",
    "codeCollapsed": false,
    "collapsed": false
   },
   "outputs": [],
   "source": "--for any other version (for example V1 below):\nWITH model_version_alias AS MODEL car_price_gbr_ym VERSION v1 \nSELECT \n    a.*, model_version_alias!predict(*):output_feature_0::number(10,0) PREDICTED_PRICE,\nfrom \n    CARS_CLEANED a limit 5;",
   "execution_count": null
  }
 ]
}