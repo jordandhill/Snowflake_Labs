{
 "metadata": {
  "kernelspec": {
   "display_name": "Streamlit Notebook",
   "name": "streamlit"
  },
  "lastEditStatus": {
   "notebookId": "5vbpxkufrn253ckcxnqn",
   "authorId": "202783394126",
   "authorName": "JHILL",
   "authorEmail": "jordan.hill@snowflake.com",
   "sessionId": "153a1b7d-6302-4ac5-840c-2469862f48cb",
   "lastEditTime": 1750727111154
  }
 },
 "nbformat_minor": 5,
 "nbformat": 4,
 "cells": [
  {
   "cell_type": "code",
   "id": "3775908f-ca36-4846-8f38-5adca39217f2",
   "metadata": {
    "language": "python",
    "name": "cell1"
   },
   "source": "import streamlit as st\nimport pandas as pd\n\n# We can also use Snowpark for our analyses!\nfrom snowflake.snowpark.context import get_active_session\nsession = get_active_session()\n",
   "execution_count": null,
   "outputs": []
  },
  {
   "cell_type": "code",
   "id": "e1d9586f-0dc6-48ed-8693-762388a0899e",
   "metadata": {
    "language": "sql",
    "name": "cell4"
   },
   "outputs": [],
   "source": "--this can be any stage with your images in it (S3 bucket, Azure blob, etc) with directory enabled\ncreate or replace stage my_image_stage\nDIRECTORY = (ENABLE = TRUE);",
   "execution_count": null
  },
  {
   "cell_type": "code",
   "id": "a069b565-9398-4d9a-9c32-1766953ff7db",
   "metadata": {
    "language": "python",
    "name": "cell7"
   },
   "outputs": [],
   "source": "#upload the files from this example notebook to the stage.  The images can live in cloud storage (S3, Azure Blob, etc)\nput_results = session.file.put(\n    local_file_name=\"MARKETING_CREATIVE_AISQL/images/*.jpg\",\n    stage_location=\"@MY_IMAGE_STAGE\",\n    overwrite=True\n)\n\n# 4️⃣ optional: check the outcome\nfor r in put_results:\n    print(r.source, r.target, r.status)",
   "execution_count": null
  },
  {
   "cell_type": "code",
   "id": "dfced3f3-68ce-4940-b738-f6ea57c8c909",
   "metadata": {
    "language": "sql",
    "name": "cell3"
   },
   "outputs": [],
   "source": "LS @MY_IMAGE_STAGE",
   "execution_count": null
  },
  {
   "cell_type": "code",
   "id": "da717c25-3d50-4f31-a492-4bb656d69873",
   "metadata": {
    "language": "sql",
    "name": "cell9"
   },
   "outputs": [],
   "source": "ALTER STAGE MY_IMAGE_STAGE REFRESH;",
   "execution_count": null
  },
  {
   "cell_type": "code",
   "id": "273dbf0b-6949-4401-aaaf-27d3f75a350b",
   "metadata": {
    "language": "sql",
    "name": "cell6"
   },
   "outputs": [],
   "source": "--create a table to hold reference to images (image file location and approval being the key ones)\n\ncreate or replace TABLE CREATIVE_IMAGE_REVIEW (\n\tAPPROVED_BY VARCHAR,\n    APPROVED_TIME TIMESTAMP,\n    IMG_FILE FILE,\n\tLAST_MODIFIED TIMESTAMP_TZ(3),\n\tMD5 VARCHAR,\n\tFILE_URL VARCHAR\n);",
   "execution_count": null
  },
  {
   "cell_type": "code",
   "id": "8d50cbf4-0c8d-4950-86cb-114990437ac9",
   "metadata": {
    "language": "sql",
    "name": "cell2"
   },
   "source": "---this statement be run ad hoc in the streamlit app or part of a pipeline. It would surface new images for the AISQL to flag\ninsert into creative_image_review \nselect null, null, to_file(file_url) img_file, LAST_MODIFIED, MD5, FILE_URL from directory(@MY_IMAGE_STAGE);",
   "execution_count": null,
   "outputs": []
  },
  {
   "cell_type": "code",
   "id": "d64a93cc-5320-4218-a7b9-4668b395e1b7",
   "metadata": {
    "language": "sql",
    "name": "cell5"
   },
   "outputs": [],
   "source": "--similarly the AISQL could be put into a pipeline, but we can make it more flexible using streamlit and allow live updates to the AI_FILTER criteria",
   "execution_count": null
  },
  {
   "cell_type": "code",
   "id": "bdeed7cd-09c1-44a9-8178-02cee31bb144",
   "metadata": {
    "language": "python",
    "name": "cell8"
   },
   "outputs": [],
   "source": "",
   "execution_count": null
  }
 ]
}