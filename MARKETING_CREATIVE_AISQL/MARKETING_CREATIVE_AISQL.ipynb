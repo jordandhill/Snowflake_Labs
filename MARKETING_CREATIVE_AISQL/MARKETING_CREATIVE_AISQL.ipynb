{
 "metadata": {
  "kernelspec": {
   "display_name": "Streamlit Notebook",
   "name": "streamlit"
  },
  "lastEditStatus": {
   "notebookId": "jla5tkkr7bu7lrqvn676",
   "authorId": "202783394126",
   "authorName": "JHILL",
   "authorEmail": "jordan.hill@snowflake.com",
   "sessionId": "2a6b73d8-07ef-46d0-a557-e74278e7af8d",
   "lastEditTime": 1750725712951
  }
 },
 "nbformat_minor": 5,
 "nbformat": 4,
 "cells": [
  {
   "cell_type": "code",
   "id": "3775908f-ca36-4846-8f38-5adca39217f2",
   "metadata": {
    "language": "python",
    "name": "cell1"
   },
   "source": "import streamlit as st\nimport pandas as pd\n\n# We can also use Snowpark for our analyses!\nfrom snowflake.snowpark.context import get_active_session\nsession = get_active_session()\n",
   "execution_count": null,
   "outputs": []
  },
  {
   "cell_type": "code",
   "id": "e1d9586f-0dc6-48ed-8693-762388a0899e",
   "metadata": {
    "language": "sql",
    "name": "cell4"
   },
   "outputs": [],
   "source": "--this can be any stage with your images in it (S3 bucket, Azure blob, etc) with directory enabled\ncreate or replace stage my_image_stage\nDIRECTORY = (ENABLE = TRUE);",
   "execution_count": null
  },
  {
   "cell_type": "code",
   "id": "e2969fb2-ab35-4644-9f4e-740820071d84",
   "metadata": {
    "language": "python",
    "name": "cell9"
   },
   "outputs": [],
   "source": "",
   "execution_count": null
  },
  {
   "cell_type": "code",
   "id": "0fa76742-2e80-41d2-9dc0-2b06eb463de1",
   "metadata": {
    "language": "python",
    "name": "cell8"
   },
   "outputs": [],
   "source": "put_result = session.file.put(\"snow://notebook/AA_SANDBOX.PUBLIC.MARKETING_CREATIVE_REVIEW/images/greyson-joralemon-9IBqihqhuHc-unsplash.jpg\",\"@MY_IMAGE_STAGE\", auto_compress= False)\nput_result[0].status",
   "execution_count": null
  },
  {
   "cell_type": "code",
   "id": "a069b565-9398-4d9a-9c32-1766953ff7db",
   "metadata": {
    "language": "python",
    "name": "cell7"
   },
   "outputs": [],
   "source": "put_results = session.file.put(\n    local_file_name=\"Campaign Creative Review Notebook/images/\",\n    stage_location=\"@demo_stage\",\n    auto_compress=False,     # let Snowflake gzip for you if True\n    overwrite=True\n)\n\n# 4️⃣ optional: check the outcome\nfor r in put_results:\n    print(r.source, r.target, r.status)",
   "execution_count": null
  },
  {
   "cell_type": "code",
   "id": "dfced3f3-68ce-4940-b738-f6ea57c8c909",
   "metadata": {
    "language": "sql",
    "name": "cell3"
   },
   "outputs": [],
   "source": "",
   "execution_count": null
  },
  {
   "cell_type": "code",
   "id": "273dbf0b-6949-4401-aaaf-27d3f75a350b",
   "metadata": {
    "language": "sql",
    "name": "cell6"
   },
   "outputs": [],
   "source": "--create a table to hold reference to images (image file location and approval being the key ones)\n\ncreate or replace TABLE CREATIVE_IMAGE_REVIEW (\n\tAPPROVED_BY VARCHAR,\n    APPROVED_TIME TIMESTAMP,\n    IMG_FILE FILE,\n\tLAST_MODIFIED TIMESTAMP_TZ(3),\n\tMD5 VARCHAR,\n\tFILE_URL VARCHAR\n);",
   "execution_count": null
  },
  {
   "cell_type": "code",
   "id": "8d50cbf4-0c8d-4950-86cb-114990437ac9",
   "metadata": {
    "language": "sql",
    "name": "cell2"
   },
   "source": "---this statement be run in batch or part of a pipeline.  It will \ninsert into creative_image_review \nselect null, null, to_file(file_url) img_file, LAST_MODIFIED, MD5, FILE_URL from directory(@my_image_stage);",
   "execution_count": null,
   "outputs": []
  },
  {
   "cell_type": "code",
   "id": "d64a93cc-5320-4218-a7b9-4668b395e1b7",
   "metadata": {
    "language": "sql",
    "name": "cell5"
   },
   "outputs": [],
   "source": "",
   "execution_count": null
  }
 ]
}