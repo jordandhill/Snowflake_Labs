{
 "metadata": {
  "kernelspec": {
   "display_name": "Streamlit Notebook",
   "name": "streamlit"
  },
  "lastEditStatus": {
   "notebookId": "5vbpxkufrn253ckcxnqn",
   "authorId": "202783394126",
   "authorName": "JHILL",
   "authorEmail": "jordan.hill@snowflake.com",
   "sessionId": "ae05b0cf-3070-4ce3-b936-0d13845e9b8f",
   "lastEditTime": 1750730291389
  }
 },
 "nbformat_minor": 5,
 "nbformat": 4,
 "cells": [
  {
   "cell_type": "code",
   "id": "3775908f-ca36-4846-8f38-5adca39217f2",
   "metadata": {
    "language": "python",
    "name": "cell1"
   },
   "source": "import streamlit as st\nimport pandas as pd\nfrom MARKETING_CREATIVE_AISQL import snowbooks_extras\n\n# We can also use Snowpark for our analyses!\nfrom snowflake.snowpark.context import get_active_session\nsession = get_active_session()\n",
   "execution_count": null,
   "outputs": []
  },
  {
   "cell_type": "code",
   "id": "e1d9586f-0dc6-48ed-8693-762388a0899e",
   "metadata": {
    "language": "sql",
    "name": "cell4"
   },
   "outputs": [],
   "source": "--this can be any stage with your images in it (S3 bucket, Azure blob, etc) with directory enabled\ncreate or replace stage my_image_stage\nDIRECTORY = (ENABLE = TRUE)\nENCRYPTION = (TYPE = 'SNOWFLAKE_SSE');",
   "execution_count": null
  },
  {
   "cell_type": "code",
   "id": "a069b565-9398-4d9a-9c32-1766953ff7db",
   "metadata": {
    "language": "python",
    "name": "cell7"
   },
   "outputs": [],
   "source": "#upload the files from this example notebook to the stage.  The images can live in cloud storage (S3, Azure Blob, etc)\nput_results = session.file.put(\n    local_file_name=\"MARKETING_CREATIVE_AISQL/images/*\",\n    stage_location=\"@MY_IMAGE_STAGE\",\n    overwrite=True,\n    auto_compress=False\n)\n\nfor r in put_results:\n    print(r.source, r.target, r.status)",
   "execution_count": null
  },
  {
   "cell_type": "code",
   "id": "da717c25-3d50-4f31-a492-4bb656d69873",
   "metadata": {
    "language": "sql",
    "name": "cell9"
   },
   "outputs": [],
   "source": "ALTER STAGE MY_IMAGE_STAGE REFRESH;",
   "execution_count": null
  },
  {
   "cell_type": "code",
   "id": "273dbf0b-6949-4401-aaaf-27d3f75a350b",
   "metadata": {
    "language": "sql",
    "name": "cell6"
   },
   "outputs": [],
   "source": "--create a table to hold reference to images (image file location and approval being the key ones)\n\ncreate or replace TABLE CREATIVE_IMAGE_REVIEW (\n\tAPPROVED_BY VARCHAR,\n    APPROVED_TIME TIMESTAMP,\n    STATUS VARCHAR,\n    IMG_FILE FILE,\n\tLAST_MODIFIED TIMESTAMP_TZ(3),\n\tMD5 VARCHAR,\n\tFILE_URL VARCHAR\n);",
   "execution_count": null
  },
  {
   "cell_type": "code",
   "id": "8d50cbf4-0c8d-4950-86cb-114990437ac9",
   "metadata": {
    "language": "sql",
    "name": "cell2"
   },
   "source": "---this statement be run ad hoc in the streamlit app or part of a pipeline. It would surface new images for the AISQL to flag\ninsert into creative_image_review \nselect null, null, null, to_file(file_url) img_file, LAST_MODIFIED, MD5, FILE_URL from directory(@MY_IMAGE_STAGE);",
   "execution_count": null,
   "outputs": []
  },
  {
   "cell_type": "code",
   "id": "758aaebd-afe9-4f7c-a370-b0be65993025",
   "metadata": {
    "language": "sql",
    "name": "cell10"
   },
   "outputs": [],
   "source": "select img_file, file_url, last_modified from creative_image_review",
   "execution_count": null
  },
  {
   "cell_type": "code",
   "id": "d64a93cc-5320-4218-a7b9-4668b395e1b7",
   "metadata": {
    "language": "sql",
    "name": "cell5"
   },
   "outputs": [],
   "source": "--test out our prompt and images\nSELECT\n    img_file,\n    file_url,\n    'Needs Review - Alcohol' AS STATUS\nFROM creative_image_review\n  WHERE AI_FILTER('This image contains alcohol',img_file) \n",
   "execution_count": null
  },
  {
   "cell_type": "code",
   "id": "d0a63417-2186-4d98-b5f1-c6ad9c7416a0",
   "metadata": {
    "language": "sql",
    "name": "cell3"
   },
   "outputs": [],
   "source": "--the AISQL could be put into a pipeline, but we can make it more flexible using streamlit and allow live updates to the AI_FILTER criteria with a SQL like below\nUPDATE creative_image_review\n   SET status         = 'Needs Review - Alcohol',\n       last_modified  = CURRENT_TIMESTAMP()      -- keep audit data fresh (optional)\n WHERE AI_FILTER('This image contains alcohol', img_file);\n\n",
   "execution_count": null
  }
 ]
}